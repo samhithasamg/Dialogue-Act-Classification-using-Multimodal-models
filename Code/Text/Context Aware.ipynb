{
 "cells": [
  {
   "cell_type": "code",
   "execution_count": 1,
   "id": "8b557ad5",
   "metadata": {},
   "outputs": [
    {
     "name": "stderr",
     "output_type": "stream",
     "text": [
      "[nltk_data] Downloading package wordnet to\n",
      "[nltk_data]     /Users/geetshingi/nltk_data...\n",
      "[nltk_data]   Package wordnet is already up-to-date!\n",
      "[nltk_data] Downloading package stopwords to\n",
      "[nltk_data]     /Users/geetshingi/nltk_data...\n",
      "[nltk_data]   Package stopwords is already up-to-date!\n",
      "[nltk_data] Downloading package omw-1.4 to\n",
      "[nltk_data]     /Users/geetshingi/nltk_data...\n",
      "[nltk_data]   Package omw-1.4 is already up-to-date!\n"
     ]
    }
   ],
   "source": [
    "import pandas as pd\n",
    "import numpy as np\n",
    "import nltk\n",
    "import sklearn as sk\n",
    "nltk.download('wordnet')\n",
    "nltk.download('stopwords')\n",
    "nltk.download('omw-1.4')\n",
    "import re\n",
    "from bs4 import BeautifulSoup\n",
    "import contractions\n",
    "from sklearn.linear_model import Perceptron\n",
    "from sklearn.metrics import classification_report, accuracy_score\n",
    "from sklearn.svm import LinearSVC\n",
    "from sklearn.naive_bayes import MultinomialNB\n",
    "from sklearn.linear_model import LogisticRegression\n",
    "from sklearn.ensemble import RandomForestClassifier\n",
    "from sklearn.model_selection import GridSearchCV\n",
    "import platform \n",
    "import torch\n",
    "import sys\n",
    "\n",
    "import warnings\n",
    "warnings.filterwarnings(\"ignore\")"
   ]
  },
  {
   "cell_type": "code",
   "execution_count": 2,
   "id": "d58510a1",
   "metadata": {},
   "outputs": [
    {
     "name": "stdout",
     "output_type": "stream",
     "text": [
      "Python Platform: macOS-13.2.1-arm64-arm-64bit\n",
      "PyTorch Version: 2.0.0.dev20230212\n",
      "\n",
      "Python 3.9.16 | packaged by conda-forge | (main, Feb  1 2023, 21:38:11) \n",
      "[Clang 14.0.6 ]\n",
      "Pandas 1.5.3\n",
      "Scikit-Learn 1.2.1\n",
      "GPU is NOT AVAILABLE\n",
      "MPS (Apple Metal) is AVAILABLE\n",
      "Target device is mps\n"
     ]
    }
   ],
   "source": [
    "has_gpu = torch.cuda.is_available()\n",
    "has_mps = getattr(torch,'has_mps',False)\n",
    "device = \"mps\" if getattr(torch,'has_mps',False) \\\n",
    "    else \"gpu\" if torch.cuda.is_available() else \"cpu\"\n",
    "\n",
    "print(f\"Python Platform: {platform.platform()}\")\n",
    "print(f\"PyTorch Version: {torch.__version__}\")\n",
    "print()\n",
    "print(f\"Python {sys.version}\")\n",
    "print(f\"Pandas {pd.__version__}\")\n",
    "print(f\"Scikit-Learn {sk.__version__}\")\n",
    "print(\"GPU is\", \"available\" if has_gpu else \"NOT AVAILABLE\")\n",
    "print(\"MPS (Apple Metal) is\", \"AVAILABLE\" if has_mps else \"NOT AVAILABLE\")\n",
    "print(f\"Target device is {device}\")"
   ]
  },
  {
   "cell_type": "code",
   "execution_count": 4,
   "id": "abea121a",
   "metadata": {},
   "outputs": [
    {
     "data": {
      "text/html": [
       "<div>\n",
       "<style scoped>\n",
       "    .dataframe tbody tr th:only-of-type {\n",
       "        vertical-align: middle;\n",
       "    }\n",
       "\n",
       "    .dataframe tbody tr th {\n",
       "        vertical-align: top;\n",
       "    }\n",
       "\n",
       "    .dataframe thead th {\n",
       "        text-align: right;\n",
       "    }\n",
       "</style>\n",
       "<table border=\"1\" class=\"dataframe\">\n",
       "  <thead>\n",
       "    <tr style=\"text-align: right;\">\n",
       "      <th></th>\n",
       "      <th>Channel</th>\n",
       "      <th>Utterance</th>\n",
       "      <th>Label</th>\n",
       "      <th>file</th>\n",
       "    </tr>\n",
       "  </thead>\n",
       "  <tbody>\n",
       "    <tr>\n",
       "      <th>0</th>\n",
       "      <td>A</td>\n",
       "      <td>Okay.</td>\n",
       "      <td>fo_o_fw_\"_by_bc</td>\n",
       "      <td>2228.txt</td>\n",
       "    </tr>\n",
       "    <tr>\n",
       "      <th>1</th>\n",
       "      <td>B</td>\n",
       "      <td>All right, uh,</td>\n",
       "      <td>b</td>\n",
       "      <td>2228.txt</td>\n",
       "    </tr>\n",
       "    <tr>\n",
       "      <th>2</th>\n",
       "      <td>B</td>\n",
       "      <td>feelings on what caused the S and L crisis</td>\n",
       "      <td>sd</td>\n",
       "      <td>2228.txt</td>\n",
       "    </tr>\n",
       "    <tr>\n",
       "      <th>3</th>\n",
       "      <td>B</td>\n",
       "      <td>I guess I don't have a real technical knowledg...</td>\n",
       "      <td>sd</td>\n",
       "      <td>2228.txt</td>\n",
       "    </tr>\n",
       "    <tr>\n",
       "      <th>4</th>\n",
       "      <td>B</td>\n",
       "      <td>I gather that there where large numbers of sit...</td>\n",
       "      <td>sd</td>\n",
       "      <td>2228.txt</td>\n",
       "    </tr>\n",
       "  </tbody>\n",
       "</table>\n",
       "</div>"
      ],
      "text/plain": [
       "  Channel                                          Utterance            Label  \\\n",
       "0       A                                              Okay.  fo_o_fw_\"_by_bc   \n",
       "1       B                                     All right, uh,                b   \n",
       "2       B         feelings on what caused the S and L crisis               sd   \n",
       "3       B  I guess I don't have a real technical knowledg...               sd   \n",
       "4       B  I gather that there where large numbers of sit...               sd   \n",
       "\n",
       "       file  \n",
       "0  2228.txt  \n",
       "1  2228.txt  \n",
       "2  2228.txt  \n",
       "3  2228.txt  \n",
       "4  2228.txt  "
      ]
     },
     "execution_count": 4,
     "metadata": {},
     "output_type": "execute_result"
    }
   ],
   "source": [
    "df = pd.read_csv('text_data_nathan.csv')\n",
    "df.head()"
   ]
  },
  {
   "cell_type": "code",
   "execution_count": 5,
   "id": "fb085a27",
   "metadata": {},
   "outputs": [
    {
     "data": {
      "text/html": [
       "<div>\n",
       "<style scoped>\n",
       "    .dataframe tbody tr th:only-of-type {\n",
       "        vertical-align: middle;\n",
       "    }\n",
       "\n",
       "    .dataframe tbody tr th {\n",
       "        vertical-align: top;\n",
       "    }\n",
       "\n",
       "    .dataframe thead th {\n",
       "        text-align: right;\n",
       "    }\n",
       "</style>\n",
       "<table border=\"1\" class=\"dataframe\">\n",
       "  <thead>\n",
       "    <tr style=\"text-align: right;\">\n",
       "      <th></th>\n",
       "      <th>Channel</th>\n",
       "      <th>Utterance</th>\n",
       "      <th>Label</th>\n",
       "      <th>file</th>\n",
       "      <th>context_1</th>\n",
       "      <th>context_2</th>\n",
       "      <th>context_3</th>\n",
       "    </tr>\n",
       "  </thead>\n",
       "  <tbody>\n",
       "    <tr>\n",
       "      <th>0</th>\n",
       "      <td>A</td>\n",
       "      <td>Okay.</td>\n",
       "      <td>fo_o_fw_\"_by_bc</td>\n",
       "      <td>2228.txt</td>\n",
       "      <td></td>\n",
       "      <td></td>\n",
       "      <td></td>\n",
       "    </tr>\n",
       "    <tr>\n",
       "      <th>1</th>\n",
       "      <td>B</td>\n",
       "      <td>All right, uh,</td>\n",
       "      <td>b</td>\n",
       "      <td>2228.txt</td>\n",
       "      <td></td>\n",
       "      <td></td>\n",
       "      <td></td>\n",
       "    </tr>\n",
       "    <tr>\n",
       "      <th>2</th>\n",
       "      <td>B</td>\n",
       "      <td>feelings on what caused the S and L crisis</td>\n",
       "      <td>sd</td>\n",
       "      <td>2228.txt</td>\n",
       "      <td></td>\n",
       "      <td></td>\n",
       "      <td></td>\n",
       "    </tr>\n",
       "    <tr>\n",
       "      <th>3</th>\n",
       "      <td>B</td>\n",
       "      <td>I guess I don't have a real technical knowledg...</td>\n",
       "      <td>sd</td>\n",
       "      <td>2228.txt</td>\n",
       "      <td></td>\n",
       "      <td></td>\n",
       "      <td></td>\n",
       "    </tr>\n",
       "    <tr>\n",
       "      <th>4</th>\n",
       "      <td>B</td>\n",
       "      <td>I gather that there where large numbers of sit...</td>\n",
       "      <td>sd</td>\n",
       "      <td>2228.txt</td>\n",
       "      <td></td>\n",
       "      <td></td>\n",
       "      <td></td>\n",
       "    </tr>\n",
       "  </tbody>\n",
       "</table>\n",
       "</div>"
      ],
      "text/plain": [
       "  Channel                                          Utterance            Label  \\\n",
       "0       A                                              Okay.  fo_o_fw_\"_by_bc   \n",
       "1       B                                     All right, uh,                b   \n",
       "2       B         feelings on what caused the S and L crisis               sd   \n",
       "3       B  I guess I don't have a real technical knowledg...               sd   \n",
       "4       B  I gather that there where large numbers of sit...               sd   \n",
       "\n",
       "       file context_1 context_2 context_3  \n",
       "0  2228.txt                                \n",
       "1  2228.txt                                \n",
       "2  2228.txt                                \n",
       "3  2228.txt                                \n",
       "4  2228.txt                                "
      ]
     },
     "execution_count": 5,
     "metadata": {},
     "output_type": "execute_result"
    }
   ],
   "source": [
    "df['context_1'] = ''\n",
    "df['context_2'] = ''\n",
    "df['context_3'] = ''\n",
    "df.head()"
   ]
  },
  {
   "cell_type": "code",
   "execution_count": 6,
   "id": "3f03cbcc",
   "metadata": {},
   "outputs": [
    {
     "data": {
      "text/html": [
       "<div>\n",
       "<style scoped>\n",
       "    .dataframe tbody tr th:only-of-type {\n",
       "        vertical-align: middle;\n",
       "    }\n",
       "\n",
       "    .dataframe tbody tr th {\n",
       "        vertical-align: top;\n",
       "    }\n",
       "\n",
       "    .dataframe thead th {\n",
       "        text-align: right;\n",
       "    }\n",
       "</style>\n",
       "<table border=\"1\" class=\"dataframe\">\n",
       "  <thead>\n",
       "    <tr style=\"text-align: right;\">\n",
       "      <th></th>\n",
       "      <th>Channel</th>\n",
       "      <th>Utterance</th>\n",
       "      <th>Label</th>\n",
       "      <th>file</th>\n",
       "      <th>context_1</th>\n",
       "      <th>context_2</th>\n",
       "      <th>context_3</th>\n",
       "    </tr>\n",
       "  </thead>\n",
       "  <tbody>\n",
       "    <tr>\n",
       "      <th>0</th>\n",
       "      <td>A</td>\n",
       "      <td>Okay.</td>\n",
       "      <td>fo_o_fw_\"_by_bc</td>\n",
       "      <td>2228.txt</td>\n",
       "      <td></td>\n",
       "      <td></td>\n",
       "      <td></td>\n",
       "    </tr>\n",
       "    <tr>\n",
       "      <th>1</th>\n",
       "      <td>B</td>\n",
       "      <td>All right, uh,</td>\n",
       "      <td>b</td>\n",
       "      <td>2228.txt</td>\n",
       "      <td>Okay.</td>\n",
       "      <td></td>\n",
       "      <td></td>\n",
       "    </tr>\n",
       "    <tr>\n",
       "      <th>2</th>\n",
       "      <td>B</td>\n",
       "      <td>feelings on what caused the S and L crisis</td>\n",
       "      <td>sd</td>\n",
       "      <td>2228.txt</td>\n",
       "      <td>All right, uh,</td>\n",
       "      <td>Okay.</td>\n",
       "      <td></td>\n",
       "    </tr>\n",
       "    <tr>\n",
       "      <th>3</th>\n",
       "      <td>B</td>\n",
       "      <td>I guess I don't have a real technical knowledg...</td>\n",
       "      <td>sd</td>\n",
       "      <td>2228.txt</td>\n",
       "      <td>feelings on what caused the S and L crisis</td>\n",
       "      <td>All right, uh,</td>\n",
       "      <td>Okay.</td>\n",
       "    </tr>\n",
       "    <tr>\n",
       "      <th>4</th>\n",
       "      <td>B</td>\n",
       "      <td>I gather that there where large numbers of sit...</td>\n",
       "      <td>sd</td>\n",
       "      <td>2228.txt</td>\n",
       "      <td>I guess I don't have a real technical knowledg...</td>\n",
       "      <td>feelings on what caused the S and L crisis</td>\n",
       "      <td>All right, uh,</td>\n",
       "    </tr>\n",
       "  </tbody>\n",
       "</table>\n",
       "</div>"
      ],
      "text/plain": [
       "  Channel                                          Utterance            Label  \\\n",
       "0       A                                              Okay.  fo_o_fw_\"_by_bc   \n",
       "1       B                                     All right, uh,                b   \n",
       "2       B         feelings on what caused the S and L crisis               sd   \n",
       "3       B  I guess I don't have a real technical knowledg...               sd   \n",
       "4       B  I gather that there where large numbers of sit...               sd   \n",
       "\n",
       "       file                                          context_1  \\\n",
       "0  2228.txt                                                      \n",
       "1  2228.txt                                              Okay.   \n",
       "2  2228.txt                                     All right, uh,   \n",
       "3  2228.txt         feelings on what caused the S and L crisis   \n",
       "4  2228.txt  I guess I don't have a real technical knowledg...   \n",
       "\n",
       "                                    context_2       context_3  \n",
       "0                                                              \n",
       "1                                                              \n",
       "2                                       Okay.                  \n",
       "3                              All right, uh,           Okay.  \n",
       "4  feelings on what caused the S and L crisis  All right, uh,  "
      ]
     },
     "execution_count": 6,
     "metadata": {},
     "output_type": "execute_result"
    }
   ],
   "source": [
    "prev_1 =  ''\n",
    "prev_2 =  ''\n",
    "prev_3 =  ''\n",
    "prev_file = None\n",
    "for index, row in df.iterrows():\n",
    "    if prev_file != row['file']:\n",
    "        prev_file = row['file']\n",
    "        prev_1 = row['Utterance']\n",
    "        prev_2 = ''\n",
    "        prev_3 = ''\n",
    "        continue\n",
    "    df.loc[index, 'context_1'] = prev_1\n",
    "    df.loc[index, 'context_2'] = prev_2\n",
    "    df.loc[index, 'context_3'] = prev_3\n",
    "    prev_3 = prev_2\n",
    "    prev_2 = prev_1\n",
    "    prev_1 = row['Utterance']\n",
    "df.head()"
   ]
  },
  {
   "cell_type": "code",
   "execution_count": 8,
   "id": "1704f87b",
   "metadata": {},
   "outputs": [],
   "source": [
    "df.to_csv('text_data_context.csv', index = False)"
   ]
  },
  {
   "cell_type": "code",
   "execution_count": null,
   "id": "6606a77a",
   "metadata": {},
   "outputs": [],
   "source": [
    "# from sklearn.model_selection import train_test_split\n",
    "# from sklearn.utils import shuffle\n",
    "\n",
    "# shuffled_df = shuffle(df)\n",
    "\n",
    "# x_train, x_test, y_train, y_test = train_test_split(\n",
    "#                     shuffled_df['Utterance'], shuffled_df['Label'], \n",
    "#                     train_size = 0.95, test_size = 0.05, shuffle=True)"
   ]
  },
  {
   "cell_type": "code",
   "execution_count": 9,
   "id": "fd487fb1",
   "metadata": {},
   "outputs": [
    {
     "data": {
      "text/html": [
       "<div>\n",
       "<style scoped>\n",
       "    .dataframe tbody tr th:only-of-type {\n",
       "        vertical-align: middle;\n",
       "    }\n",
       "\n",
       "    .dataframe tbody tr th {\n",
       "        vertical-align: top;\n",
       "    }\n",
       "\n",
       "    .dataframe thead th {\n",
       "        text-align: right;\n",
       "    }\n",
       "</style>\n",
       "<table border=\"1\" class=\"dataframe\">\n",
       "  <thead>\n",
       "    <tr style=\"text-align: right;\">\n",
       "      <th></th>\n",
       "      <th>Channel</th>\n",
       "      <th>Utterance</th>\n",
       "      <th>Label</th>\n",
       "      <th>file</th>\n",
       "      <th>context_1</th>\n",
       "      <th>context_2</th>\n",
       "      <th>context_3</th>\n",
       "    </tr>\n",
       "  </thead>\n",
       "  <tbody>\n",
       "    <tr>\n",
       "      <th>195662</th>\n",
       "      <td>A</td>\n",
       "      <td>Okay.</td>\n",
       "      <td>fo_o_fw_\"_by_bc</td>\n",
       "      <td>2836.txt</td>\n",
       "      <td></td>\n",
       "      <td></td>\n",
       "      <td></td>\n",
       "    </tr>\n",
       "    <tr>\n",
       "      <th>195663</th>\n",
       "      <td>A</td>\n",
       "      <td>Uh, far as, you know, crime in the cities, I'm...</td>\n",
       "      <td>sv</td>\n",
       "      <td>2836.txt</td>\n",
       "      <td>Okay.</td>\n",
       "      <td></td>\n",
       "      <td></td>\n",
       "    </tr>\n",
       "    <tr>\n",
       "      <th>195664</th>\n",
       "      <td>A</td>\n",
       "      <td>Uh, probably the biggest thing we've got going...</td>\n",
       "      <td>sv</td>\n",
       "      <td>2836.txt</td>\n",
       "      <td>Uh, far as, you know, crime in the cities, I'm...</td>\n",
       "      <td>Okay.</td>\n",
       "      <td></td>\n",
       "    </tr>\n",
       "    <tr>\n",
       "      <th>195665</th>\n",
       "      <td>A</td>\n",
       "      <td>and theft and probably murder are the two top ...</td>\n",
       "      <td>sv</td>\n",
       "      <td>2836.txt</td>\n",
       "      <td>Uh, probably the biggest thing we've got going...</td>\n",
       "      <td>Uh, far as, you know, crime in the cities, I'm...</td>\n",
       "      <td>Okay.</td>\n",
       "    </tr>\n",
       "    <tr>\n",
       "      <th>195666</th>\n",
       "      <td>B</td>\n",
       "      <td>Uh-huh.</td>\n",
       "      <td>b</td>\n",
       "      <td>2836.txt</td>\n",
       "      <td>and theft and probably murder are the two top ...</td>\n",
       "      <td>Uh, probably the biggest thing we've got going...</td>\n",
       "      <td>Uh, far as, you know, crime in the cities, I'm...</td>\n",
       "    </tr>\n",
       "  </tbody>\n",
       "</table>\n",
       "</div>"
      ],
      "text/plain": [
       "       Channel                                          Utterance  \\\n",
       "195662       A                                              Okay.   \n",
       "195663       A  Uh, far as, you know, crime in the cities, I'm...   \n",
       "195664       A  Uh, probably the biggest thing we've got going...   \n",
       "195665       A  and theft and probably murder are the two top ...   \n",
       "195666       B                                            Uh-huh.   \n",
       "\n",
       "                  Label      file  \\\n",
       "195662  fo_o_fw_\"_by_bc  2836.txt   \n",
       "195663               sv  2836.txt   \n",
       "195664               sv  2836.txt   \n",
       "195665               sv  2836.txt   \n",
       "195666                b  2836.txt   \n",
       "\n",
       "                                                context_1  \\\n",
       "195662                                                      \n",
       "195663                                              Okay.   \n",
       "195664  Uh, far as, you know, crime in the cities, I'm...   \n",
       "195665  Uh, probably the biggest thing we've got going...   \n",
       "195666  and theft and probably murder are the two top ...   \n",
       "\n",
       "                                                context_2  \\\n",
       "195662                                                      \n",
       "195663                                                      \n",
       "195664                                              Okay.   \n",
       "195665  Uh, far as, you know, crime in the cities, I'm...   \n",
       "195666  Uh, probably the biggest thing we've got going...   \n",
       "\n",
       "                                                context_3  \n",
       "195662                                                     \n",
       "195663                                                     \n",
       "195664                                                     \n",
       "195665                                              Okay.  \n",
       "195666  Uh, far as, you know, crime in the cities, I'm...  "
      ]
     },
     "execution_count": 9,
     "metadata": {},
     "output_type": "execute_result"
    }
   ],
   "source": [
    "test_df = df[df['file'].isin(['2121.txt', '2131.txt', '2151.txt', '2229.txt', '2335.txt', '2434.txt', '2441.txt', '2461.txt', '2503.txt', '2632.txt', '2724.txt', '2752.txt', '2753.txt', '2836.txt', '2838.txt', '3528.txt', '3756.txt', '3942.txt', '3994.txt'])]\n",
    "test_df.head()"
   ]
  },
  {
   "cell_type": "code",
   "execution_count": 10,
   "id": "124fd60a",
   "metadata": {},
   "outputs": [
    {
     "data": {
      "text/plain": [
       "(4078, 7)"
      ]
     },
     "execution_count": 10,
     "metadata": {},
     "output_type": "execute_result"
    }
   ],
   "source": [
    "test_df.shape"
   ]
  },
  {
   "cell_type": "code",
   "execution_count": 11,
   "id": "cd8b164e",
   "metadata": {},
   "outputs": [
    {
     "data": {
      "text/html": [
       "<div>\n",
       "<style scoped>\n",
       "    .dataframe tbody tr th:only-of-type {\n",
       "        vertical-align: middle;\n",
       "    }\n",
       "\n",
       "    .dataframe tbody tr th {\n",
       "        vertical-align: top;\n",
       "    }\n",
       "\n",
       "    .dataframe thead th {\n",
       "        text-align: right;\n",
       "    }\n",
       "</style>\n",
       "<table border=\"1\" class=\"dataframe\">\n",
       "  <thead>\n",
       "    <tr style=\"text-align: right;\">\n",
       "      <th></th>\n",
       "      <th>Channel</th>\n",
       "      <th>Utterance</th>\n",
       "      <th>Label</th>\n",
       "      <th>file</th>\n",
       "      <th>context_1</th>\n",
       "      <th>context_2</th>\n",
       "      <th>context_3</th>\n",
       "    </tr>\n",
       "  </thead>\n",
       "  <tbody>\n",
       "    <tr>\n",
       "      <th>0</th>\n",
       "      <td>A</td>\n",
       "      <td>Okay.</td>\n",
       "      <td>fo_o_fw_\"_by_bc</td>\n",
       "      <td>2228.txt</td>\n",
       "      <td></td>\n",
       "      <td></td>\n",
       "      <td></td>\n",
       "    </tr>\n",
       "    <tr>\n",
       "      <th>1</th>\n",
       "      <td>B</td>\n",
       "      <td>All right, uh,</td>\n",
       "      <td>b</td>\n",
       "      <td>2228.txt</td>\n",
       "      <td>Okay.</td>\n",
       "      <td></td>\n",
       "      <td></td>\n",
       "    </tr>\n",
       "    <tr>\n",
       "      <th>2</th>\n",
       "      <td>B</td>\n",
       "      <td>feelings on what caused the S and L crisis</td>\n",
       "      <td>sd</td>\n",
       "      <td>2228.txt</td>\n",
       "      <td>All right, uh,</td>\n",
       "      <td>Okay.</td>\n",
       "      <td></td>\n",
       "    </tr>\n",
       "    <tr>\n",
       "      <th>3</th>\n",
       "      <td>B</td>\n",
       "      <td>I guess I don't have a real technical knowledg...</td>\n",
       "      <td>sd</td>\n",
       "      <td>2228.txt</td>\n",
       "      <td>feelings on what caused the S and L crisis</td>\n",
       "      <td>All right, uh,</td>\n",
       "      <td>Okay.</td>\n",
       "    </tr>\n",
       "    <tr>\n",
       "      <th>4</th>\n",
       "      <td>B</td>\n",
       "      <td>I gather that there where large numbers of sit...</td>\n",
       "      <td>sd</td>\n",
       "      <td>2228.txt</td>\n",
       "      <td>I guess I don't have a real technical knowledg...</td>\n",
       "      <td>feelings on what caused the S and L crisis</td>\n",
       "      <td>All right, uh,</td>\n",
       "    </tr>\n",
       "  </tbody>\n",
       "</table>\n",
       "</div>"
      ],
      "text/plain": [
       "  Channel                                          Utterance            Label  \\\n",
       "0       A                                              Okay.  fo_o_fw_\"_by_bc   \n",
       "1       B                                     All right, uh,                b   \n",
       "2       B         feelings on what caused the S and L crisis               sd   \n",
       "3       B  I guess I don't have a real technical knowledg...               sd   \n",
       "4       B  I gather that there where large numbers of sit...               sd   \n",
       "\n",
       "       file                                          context_1  \\\n",
       "0  2228.txt                                                      \n",
       "1  2228.txt                                              Okay.   \n",
       "2  2228.txt                                     All right, uh,   \n",
       "3  2228.txt         feelings on what caused the S and L crisis   \n",
       "4  2228.txt  I guess I don't have a real technical knowledg...   \n",
       "\n",
       "                                    context_2       context_3  \n",
       "0                                                              \n",
       "1                                                              \n",
       "2                                       Okay.                  \n",
       "3                              All right, uh,           Okay.  \n",
       "4  feelings on what caused the S and L crisis  All right, uh,  "
      ]
     },
     "execution_count": 11,
     "metadata": {},
     "output_type": "execute_result"
    }
   ],
   "source": [
    "train_df = df[~df['file'].isin(['2121.txt', '2131.txt', '2151.txt', '2229.txt', '2335.txt', '2434.txt', '2441.txt', '2461.txt', '2503.txt', '2632.txt', '2724.txt', '2752.txt', '2753.txt', '2836.txt', '2838.txt', '3528.txt', '3756.txt', '3942.txt', '3994.txt'])]\n",
    "train_df.head()"
   ]
  },
  {
   "cell_type": "code",
   "execution_count": 12,
   "id": "6c33e27a",
   "metadata": {},
   "outputs": [
    {
     "data": {
      "text/plain": [
       "(195662, 7)"
      ]
     },
     "execution_count": 12,
     "metadata": {},
     "output_type": "execute_result"
    }
   ],
   "source": [
    "train_df.shape"
   ]
  },
  {
   "cell_type": "code",
   "execution_count": 13,
   "id": "88f4fa9d",
   "metadata": {},
   "outputs": [
    {
     "data": {
      "text/plain": [
       "195662"
      ]
     },
     "execution_count": 13,
     "metadata": {},
     "output_type": "execute_result"
    }
   ],
   "source": [
    "len(train_df)"
   ]
  },
  {
   "cell_type": "code",
   "execution_count": 14,
   "id": "b6c699d6",
   "metadata": {},
   "outputs": [
    {
     "name": "stderr",
     "output_type": "stream",
     "text": [
      "Some weights of the model checkpoint at roberta-base were not used when initializing RobertaModel: ['lm_head.dense.weight', 'lm_head.dense.bias', 'lm_head.decoder.weight', 'lm_head.bias', 'lm_head.layer_norm.bias', 'lm_head.layer_norm.weight']\n",
      "- This IS expected if you are initializing RobertaModel from the checkpoint of a model trained on another task or with another architecture (e.g. initializing a BertForSequenceClassification model from a BertForPreTraining model).\n",
      "- This IS NOT expected if you are initializing RobertaModel from the checkpoint of a model that you expect to be exactly identical (initializing a BertForSequenceClassification model from a BertForSequenceClassification model).\n"
     ]
    }
   ],
   "source": [
    "import torch\n",
    "from transformers import RobertaTokenizer, RobertaModel\n",
    "tokenizer = RobertaTokenizer.from_pretrained(\"roberta-base\")\n",
    "model = RobertaModel.from_pretrained(\"roberta-base\")\n",
    "from tqdm import tqdm\n",
    "def extract_roberta(list_of_sentences=[], batch_size=32):\n",
    "    cls_hidden_states = []\n",
    "    if len(list_of_sentences)<batch_size: #go longer ones we should batch\n",
    "        tknzed= tokenizer(list_of_sentences, return_tensors=\"pt\",padding=True)\n",
    "        b=model(**tknzed)\n",
    "        cls_hidden_states = torch.squeeze(b.last_hidden_state[:,0,:])\n",
    "    else:\n",
    "        for i in tqdm(range(0,len(list_of_sentences),batch_size)):    \n",
    "            tknzed= tokenizer(list_of_sentences[i:min(len(list_of_sentences),i+batch_size)], return_tensors=\"pt\",padding=True)\n",
    "            b=model(**tknzed)\n",
    "            cls_hidden_states.append(torch.squeeze(b.last_hidden_state[:,0,:]))\n",
    "    return cls_hidden_states"
   ]
  },
  {
   "cell_type": "code",
   "execution_count": 21,
   "id": "8328e2f6",
   "metadata": {},
   "outputs": [
    {
     "name": "stdout",
     "output_type": "stream",
     "text": [
      "0\n"
     ]
    },
    {
     "name": "stderr",
     "output_type": "stream",
     "text": [
      "100%|███████████████████████████████████████████| 32/32 [00:16<00:00,  1.97it/s]\n",
      "100%|███████████████████████████████████████████| 32/32 [00:15<00:00,  2.02it/s]\n",
      "100%|███████████████████████████████████████████| 32/32 [00:17<00:00,  1.87it/s]\n",
      "100%|███████████████████████████████████████████| 32/32 [00:15<00:00,  2.01it/s]\n"
     ]
    },
    {
     "name": "stdout",
     "output_type": "stream",
     "text": [
      "(1000, 768)\n",
      "(1000, 768)\n",
      "(1000, 768)\n",
      "(1000, 768)\n",
      "1000\n"
     ]
    },
    {
     "name": "stderr",
     "output_type": "stream",
     "text": [
      "100%|███████████████████████████████████████████| 32/32 [00:16<00:00,  1.89it/s]\n",
      "100%|███████████████████████████████████████████| 32/32 [00:16<00:00,  2.00it/s]\n",
      "100%|███████████████████████████████████████████| 32/32 [00:17<00:00,  1.79it/s]\n",
      "100%|███████████████████████████████████████████| 32/32 [00:18<00:00,  1.72it/s]\n"
     ]
    },
    {
     "name": "stdout",
     "output_type": "stream",
     "text": [
      "(2000, 768)\n",
      "(2000, 768)\n",
      "(2000, 768)\n",
      "(2000, 768)\n",
      "2000\n"
     ]
    },
    {
     "name": "stderr",
     "output_type": "stream",
     "text": [
      "100%|███████████████████████████████████████████| 32/32 [00:20<00:00,  1.58it/s]\n",
      "100%|███████████████████████████████████████████| 32/32 [00:20<00:00,  1.57it/s]\n",
      "100%|███████████████████████████████████████████| 32/32 [00:17<00:00,  1.83it/s]\n",
      "100%|███████████████████████████████████████████| 32/32 [00:17<00:00,  1.80it/s]\n"
     ]
    },
    {
     "name": "stdout",
     "output_type": "stream",
     "text": [
      "(3000, 768)\n",
      "(3000, 768)\n",
      "(3000, 768)\n",
      "(3000, 768)\n",
      "3000\n"
     ]
    },
    {
     "name": "stderr",
     "output_type": "stream",
     "text": [
      "100%|███████████████████████████████████████████| 32/32 [00:55<00:00,  1.73s/it]\n",
      "100%|███████████████████████████████████████████| 32/32 [00:58<00:00,  1.82s/it]\n",
      "100%|███████████████████████████████████████████| 32/32 [00:53<00:00,  1.66s/it]\n",
      "100%|███████████████████████████████████████████| 32/32 [00:33<00:00,  1.03s/it]\n"
     ]
    },
    {
     "name": "stdout",
     "output_type": "stream",
     "text": [
      "(4000, 768)\n",
      "(4000, 768)\n",
      "(4000, 768)\n",
      "(4000, 768)\n",
      "4000\n"
     ]
    },
    {
     "name": "stderr",
     "output_type": "stream",
     "text": [
      "100%|███████████████████████████████████████████| 32/32 [00:15<00:00,  2.11it/s]\n",
      "100%|███████████████████████████████████████████| 32/32 [00:15<00:00,  2.11it/s]\n",
      "100%|███████████████████████████████████████████| 32/32 [00:15<00:00,  2.11it/s]\n",
      "100%|███████████████████████████████████████████| 32/32 [00:15<00:00,  2.09it/s]\n"
     ]
    },
    {
     "name": "stdout",
     "output_type": "stream",
     "text": [
      "(5000, 768)\n",
      "(5000, 768)\n",
      "(5000, 768)\n",
      "(5000, 768)\n",
      "5000\n"
     ]
    },
    {
     "name": "stderr",
     "output_type": "stream",
     "text": [
      "100%|███████████████████████████████████████████| 32/32 [00:16<00:00,  1.89it/s]\n",
      "100%|███████████████████████████████████████████| 32/32 [00:17<00:00,  1.83it/s]\n",
      "100%|███████████████████████████████████████████| 32/32 [00:15<00:00,  2.09it/s]\n",
      "100%|███████████████████████████████████████████| 32/32 [00:15<00:00,  2.06it/s]\n"
     ]
    },
    {
     "name": "stdout",
     "output_type": "stream",
     "text": [
      "(6000, 768)\n",
      "(6000, 768)\n",
      "(6000, 768)\n",
      "(6000, 768)\n",
      "6000\n"
     ]
    },
    {
     "name": "stderr",
     "output_type": "stream",
     "text": [
      "100%|███████████████████████████████████████████| 32/32 [00:13<00:00,  2.35it/s]\n",
      "100%|███████████████████████████████████████████| 32/32 [00:13<00:00,  2.30it/s]\n",
      "100%|███████████████████████████████████████████| 32/32 [00:13<00:00,  2.32it/s]\n",
      "100%|███████████████████████████████████████████| 32/32 [00:13<00:00,  2.37it/s]\n"
     ]
    },
    {
     "name": "stdout",
     "output_type": "stream",
     "text": [
      "(7000, 768)\n",
      "(7000, 768)\n",
      "(7000, 768)\n",
      "(7000, 768)\n",
      "7000\n"
     ]
    },
    {
     "name": "stderr",
     "output_type": "stream",
     "text": [
      "100%|███████████████████████████████████████████| 32/32 [00:15<00:00,  2.01it/s]\n",
      "100%|███████████████████████████████████████████| 32/32 [00:15<00:00,  2.03it/s]\n",
      "100%|███████████████████████████████████████████| 32/32 [00:15<00:00,  2.03it/s]\n",
      "100%|███████████████████████████████████████████| 32/32 [00:15<00:00,  2.05it/s]\n"
     ]
    },
    {
     "name": "stdout",
     "output_type": "stream",
     "text": [
      "(8000, 768)\n",
      "(8000, 768)\n",
      "(8000, 768)\n",
      "(8000, 768)\n",
      "8000\n"
     ]
    },
    {
     "name": "stderr",
     "output_type": "stream",
     "text": [
      "100%|███████████████████████████████████████████| 32/32 [00:15<00:00,  2.08it/s]\n",
      "100%|███████████████████████████████████████████| 32/32 [00:15<00:00,  2.12it/s]\n",
      "100%|███████████████████████████████████████████| 32/32 [00:15<00:00,  2.07it/s]\n",
      "100%|███████████████████████████████████████████| 32/32 [00:15<00:00,  2.07it/s]\n"
     ]
    },
    {
     "name": "stdout",
     "output_type": "stream",
     "text": [
      "(9000, 768)\n",
      "(9000, 768)\n",
      "(9000, 768)\n",
      "(9000, 768)\n",
      "9000\n"
     ]
    },
    {
     "name": "stderr",
     "output_type": "stream",
     "text": [
      "100%|███████████████████████████████████████████| 32/32 [00:14<00:00,  2.26it/s]\n",
      "100%|███████████████████████████████████████████| 32/32 [00:14<00:00,  2.24it/s]\n",
      "100%|███████████████████████████████████████████| 32/32 [00:14<00:00,  2.18it/s]\n",
      "100%|███████████████████████████████████████████| 32/32 [00:15<00:00,  2.10it/s]\n"
     ]
    },
    {
     "name": "stdout",
     "output_type": "stream",
     "text": [
      "(10000, 768)\n",
      "(10000, 768)\n",
      "(10000, 768)\n",
      "(10000, 768)\n",
      "10000\n"
     ]
    },
    {
     "name": "stderr",
     "output_type": "stream",
     "text": [
      "100%|███████████████████████████████████████████| 32/32 [00:17<00:00,  1.83it/s]\n",
      "100%|███████████████████████████████████████████| 32/32 [00:16<00:00,  1.91it/s]\n",
      "100%|███████████████████████████████████████████| 32/32 [00:17<00:00,  1.82it/s]\n",
      "100%|███████████████████████████████████████████| 32/32 [00:16<00:00,  1.98it/s]\n"
     ]
    },
    {
     "name": "stdout",
     "output_type": "stream",
     "text": [
      "(11000, 768)\n",
      "(11000, 768)\n",
      "(11000, 768)\n",
      "(11000, 768)\n",
      "11000\n"
     ]
    },
    {
     "name": "stderr",
     "output_type": "stream",
     "text": [
      "100%|███████████████████████████████████████████| 32/32 [00:14<00:00,  2.17it/s]\n",
      "100%|███████████████████████████████████████████| 32/32 [00:13<00:00,  2.30it/s]\n",
      "100%|███████████████████████████████████████████| 32/32 [00:14<00:00,  2.15it/s]\n",
      "100%|███████████████████████████████████████████| 32/32 [00:14<00:00,  2.24it/s]\n"
     ]
    },
    {
     "name": "stdout",
     "output_type": "stream",
     "text": [
      "(12000, 768)\n",
      "(12000, 768)\n",
      "(12000, 768)\n",
      "(12000, 768)\n",
      "12000\n"
     ]
    },
    {
     "name": "stderr",
     "output_type": "stream",
     "text": [
      "100%|███████████████████████████████████████████| 32/32 [00:15<00:00,  2.12it/s]\n",
      "100%|███████████████████████████████████████████| 32/32 [00:14<00:00,  2.15it/s]\n",
      "100%|███████████████████████████████████████████| 32/32 [00:14<00:00,  2.16it/s]\n",
      "100%|███████████████████████████████████████████| 32/32 [00:14<00:00,  2.17it/s]\n"
     ]
    },
    {
     "name": "stdout",
     "output_type": "stream",
     "text": [
      "(13000, 768)\n",
      "(13000, 768)\n",
      "(13000, 768)\n",
      "(13000, 768)\n",
      "13000\n"
     ]
    },
    {
     "name": "stderr",
     "output_type": "stream",
     "text": [
      "100%|███████████████████████████████████████████| 32/32 [00:14<00:00,  2.28it/s]\n",
      "100%|███████████████████████████████████████████| 32/32 [00:14<00:00,  2.25it/s]\n",
      "100%|███████████████████████████████████████████| 32/32 [00:13<00:00,  2.30it/s]\n",
      "100%|███████████████████████████████████████████| 32/32 [00:13<00:00,  2.33it/s]\n"
     ]
    },
    {
     "name": "stdout",
     "output_type": "stream",
     "text": [
      "(14000, 768)\n",
      "(14000, 768)\n",
      "(14000, 768)\n",
      "(14000, 768)\n",
      "14000\n"
     ]
    },
    {
     "name": "stderr",
     "output_type": "stream",
     "text": [
      "100%|███████████████████████████████████████████| 32/32 [00:14<00:00,  2.25it/s]\n",
      "100%|███████████████████████████████████████████| 32/32 [00:14<00:00,  2.21it/s]\n",
      "100%|███████████████████████████████████████████| 32/32 [00:14<00:00,  2.26it/s]\n",
      "100%|███████████████████████████████████████████| 32/32 [00:14<00:00,  2.28it/s]\n"
     ]
    },
    {
     "name": "stdout",
     "output_type": "stream",
     "text": [
      "(15000, 768)\n",
      "(15000, 768)\n",
      "(15000, 768)\n",
      "(15000, 768)\n",
      "15000\n"
     ]
    },
    {
     "name": "stderr",
     "output_type": "stream",
     "text": [
      "100%|███████████████████████████████████████████| 32/32 [00:15<00:00,  2.12it/s]\n",
      "100%|███████████████████████████████████████████| 32/32 [00:14<00:00,  2.24it/s]\n",
      "100%|███████████████████████████████████████████| 32/32 [00:14<00:00,  2.21it/s]\n",
      "100%|███████████████████████████████████████████| 32/32 [00:14<00:00,  2.28it/s]\n"
     ]
    },
    {
     "name": "stdout",
     "output_type": "stream",
     "text": [
      "(16000, 768)\n",
      "(16000, 768)\n",
      "(16000, 768)\n",
      "(16000, 768)\n",
      "16000\n"
     ]
    },
    {
     "name": "stderr",
     "output_type": "stream",
     "text": [
      "100%|███████████████████████████████████████████| 32/32 [00:14<00:00,  2.27it/s]\n",
      "100%|███████████████████████████████████████████| 32/32 [00:14<00:00,  2.23it/s]\n",
      "100%|███████████████████████████████████████████| 32/32 [00:13<00:00,  2.29it/s]\n",
      "100%|███████████████████████████████████████████| 32/32 [00:14<00:00,  2.23it/s]\n"
     ]
    },
    {
     "name": "stdout",
     "output_type": "stream",
     "text": [
      "(17000, 768)\n",
      "(17000, 768)\n",
      "(17000, 768)\n",
      "(17000, 768)\n",
      "17000\n"
     ]
    },
    {
     "name": "stderr",
     "output_type": "stream",
     "text": [
      "100%|███████████████████████████████████████████| 32/32 [00:15<00:00,  2.10it/s]\n",
      "100%|███████████████████████████████████████████| 32/32 [00:16<00:00,  2.00it/s]\n",
      "100%|███████████████████████████████████████████| 32/32 [00:15<00:00,  2.07it/s]\n",
      "100%|███████████████████████████████████████████| 32/32 [00:15<00:00,  2.06it/s]\n"
     ]
    },
    {
     "name": "stdout",
     "output_type": "stream",
     "text": [
      "(18000, 768)\n",
      "(18000, 768)\n",
      "(18000, 768)\n",
      "(18000, 768)\n",
      "18000\n"
     ]
    },
    {
     "name": "stderr",
     "output_type": "stream",
     "text": [
      "100%|███████████████████████████████████████████| 32/32 [00:18<00:00,  1.75it/s]\n",
      "100%|███████████████████████████████████████████| 32/32 [00:17<00:00,  1.85it/s]\n",
      "100%|███████████████████████████████████████████| 32/32 [00:17<00:00,  1.81it/s]\n",
      "100%|███████████████████████████████████████████| 32/32 [00:17<00:00,  1.86it/s]\n"
     ]
    },
    {
     "name": "stdout",
     "output_type": "stream",
     "text": [
      "(19000, 768)\n",
      "(19000, 768)\n",
      "(19000, 768)\n",
      "(19000, 768)\n",
      "19000\n"
     ]
    },
    {
     "name": "stderr",
     "output_type": "stream",
     "text": [
      "100%|███████████████████████████████████████████| 32/32 [00:15<00:00,  2.10it/s]\n",
      "100%|███████████████████████████████████████████| 32/32 [00:14<00:00,  2.14it/s]\n",
      "100%|███████████████████████████████████████████| 32/32 [00:15<00:00,  2.08it/s]\n",
      "100%|███████████████████████████████████████████| 32/32 [00:15<00:00,  2.03it/s]\n"
     ]
    },
    {
     "name": "stdout",
     "output_type": "stream",
     "text": [
      "(20000, 768)\n",
      "(20000, 768)\n",
      "(20000, 768)\n",
      "(20000, 768)\n",
      "20000\n"
     ]
    },
    {
     "name": "stderr",
     "output_type": "stream",
     "text": [
      "100%|███████████████████████████████████████████| 32/32 [00:16<00:00,  1.97it/s]\n",
      "100%|███████████████████████████████████████████| 32/32 [00:15<00:00,  2.01it/s]\n",
      "100%|███████████████████████████████████████████| 32/32 [00:16<00:00,  1.96it/s]\n",
      "100%|███████████████████████████████████████████| 32/32 [00:16<00:00,  1.99it/s]\n"
     ]
    },
    {
     "name": "stdout",
     "output_type": "stream",
     "text": [
      "(21000, 768)\n",
      "(21000, 768)\n",
      "(21000, 768)\n",
      "(21000, 768)\n",
      "21000\n"
     ]
    },
    {
     "name": "stderr",
     "output_type": "stream",
     "text": [
      "100%|███████████████████████████████████████████| 32/32 [00:13<00:00,  2.43it/s]\n",
      "100%|███████████████████████████████████████████| 32/32 [00:13<00:00,  2.39it/s]\n",
      "100%|███████████████████████████████████████████| 32/32 [00:13<00:00,  2.45it/s]\n",
      "100%|███████████████████████████████████████████| 32/32 [00:13<00:00,  2.41it/s]\n"
     ]
    },
    {
     "name": "stdout",
     "output_type": "stream",
     "text": [
      "(22000, 768)\n",
      "(22000, 768)\n",
      "(22000, 768)\n",
      "(22000, 768)\n",
      "22000\n"
     ]
    },
    {
     "name": "stderr",
     "output_type": "stream",
     "text": [
      "100%|███████████████████████████████████████████| 32/32 [00:15<00:00,  2.05it/s]\n",
      "100%|███████████████████████████████████████████| 32/32 [00:15<00:00,  2.07it/s]\n",
      "100%|███████████████████████████████████████████| 32/32 [00:15<00:00,  2.02it/s]\n",
      "100%|███████████████████████████████████████████| 32/32 [00:15<00:00,  2.08it/s]\n"
     ]
    },
    {
     "name": "stdout",
     "output_type": "stream",
     "text": [
      "(23000, 768)\n",
      "(23000, 768)\n",
      "(23000, 768)\n",
      "(23000, 768)\n",
      "23000\n"
     ]
    },
    {
     "name": "stderr",
     "output_type": "stream",
     "text": [
      "100%|███████████████████████████████████████████| 32/32 [00:15<00:00,  2.05it/s]\n",
      "100%|███████████████████████████████████████████| 32/32 [00:14<00:00,  2.17it/s]\n",
      "100%|███████████████████████████████████████████| 32/32 [00:18<00:00,  1.75it/s]\n",
      "100%|███████████████████████████████████████████| 32/32 [00:15<00:00,  2.03it/s]\n"
     ]
    },
    {
     "name": "stdout",
     "output_type": "stream",
     "text": [
      "(24000, 768)\n",
      "(24000, 768)\n",
      "(24000, 768)\n",
      "(24000, 768)\n",
      "24000\n"
     ]
    },
    {
     "name": "stderr",
     "output_type": "stream",
     "text": [
      "100%|███████████████████████████████████████████| 32/32 [00:17<00:00,  1.84it/s]\n",
      "100%|███████████████████████████████████████████| 32/32 [00:14<00:00,  2.17it/s]\n",
      "100%|███████████████████████████████████████████| 32/32 [00:14<00:00,  2.27it/s]\n",
      "100%|███████████████████████████████████████████| 32/32 [00:12<00:00,  2.63it/s]\n"
     ]
    },
    {
     "name": "stdout",
     "output_type": "stream",
     "text": [
      "(25000, 768)\n",
      "(25000, 768)\n",
      "(25000, 768)\n",
      "(25000, 768)\n",
      "25000\n"
     ]
    },
    {
     "name": "stderr",
     "output_type": "stream",
     "text": [
      "100%|███████████████████████████████████████████| 32/32 [00:13<00:00,  2.42it/s]\n",
      "100%|███████████████████████████████████████████| 32/32 [00:13<00:00,  2.33it/s]\n",
      "100%|███████████████████████████████████████████| 32/32 [00:13<00:00,  2.42it/s]\n",
      "100%|███████████████████████████████████████████| 32/32 [00:13<00:00,  2.30it/s]\n"
     ]
    },
    {
     "name": "stdout",
     "output_type": "stream",
     "text": [
      "(26000, 768)\n",
      "(26000, 768)\n",
      "(26000, 768)\n",
      "(26000, 768)\n",
      "26000\n"
     ]
    },
    {
     "name": "stderr",
     "output_type": "stream",
     "text": [
      "100%|███████████████████████████████████████████| 32/32 [00:11<00:00,  2.72it/s]\n",
      "100%|███████████████████████████████████████████| 32/32 [00:11<00:00,  2.76it/s]\n",
      "100%|███████████████████████████████████████████| 32/32 [00:11<00:00,  2.77it/s]\n",
      "100%|███████████████████████████████████████████| 32/32 [00:11<00:00,  2.84it/s]\n"
     ]
    },
    {
     "name": "stdout",
     "output_type": "stream",
     "text": [
      "(27000, 768)\n",
      "(27000, 768)\n",
      "(27000, 768)\n",
      "(27000, 768)\n",
      "27000\n"
     ]
    },
    {
     "name": "stderr",
     "output_type": "stream",
     "text": [
      "100%|███████████████████████████████████████████| 32/32 [00:12<00:00,  2.55it/s]\n",
      "100%|███████████████████████████████████████████| 32/32 [00:13<00:00,  2.46it/s]\n",
      "100%|███████████████████████████████████████████| 32/32 [00:12<00:00,  2.50it/s]\n",
      "100%|███████████████████████████████████████████| 32/32 [00:12<00:00,  2.50it/s]\n"
     ]
    },
    {
     "name": "stdout",
     "output_type": "stream",
     "text": [
      "(28000, 768)\n",
      "(28000, 768)\n",
      "(28000, 768)\n",
      "(28000, 768)\n",
      "28000\n"
     ]
    },
    {
     "name": "stderr",
     "output_type": "stream",
     "text": [
      "100%|███████████████████████████████████████████| 32/32 [00:13<00:00,  2.32it/s]\n",
      "100%|███████████████████████████████████████████| 32/32 [00:14<00:00,  2.21it/s]\n",
      "100%|███████████████████████████████████████████| 32/32 [00:14<00:00,  2.22it/s]\n",
      "100%|███████████████████████████████████████████| 32/32 [00:14<00:00,  2.19it/s]\n"
     ]
    },
    {
     "name": "stdout",
     "output_type": "stream",
     "text": [
      "(29000, 768)\n",
      "(29000, 768)\n",
      "(29000, 768)\n",
      "(29000, 768)\n",
      "29000\n"
     ]
    },
    {
     "name": "stderr",
     "output_type": "stream",
     "text": [
      "100%|███████████████████████████████████████████| 32/32 [00:12<00:00,  2.52it/s]\n",
      "100%|███████████████████████████████████████████| 32/32 [00:12<00:00,  2.48it/s]\n",
      "100%|███████████████████████████████████████████| 32/32 [00:12<00:00,  2.59it/s]\n",
      "100%|███████████████████████████████████████████| 32/32 [00:12<00:00,  2.61it/s]\n"
     ]
    },
    {
     "name": "stdout",
     "output_type": "stream",
     "text": [
      "(30000, 768)\n",
      "(30000, 768)\n",
      "(30000, 768)\n",
      "(30000, 768)\n",
      "30000\n"
     ]
    },
    {
     "name": "stderr",
     "output_type": "stream",
     "text": [
      "100%|███████████████████████████████████████████| 32/32 [00:13<00:00,  2.44it/s]\n",
      "100%|███████████████████████████████████████████| 32/32 [00:13<00:00,  2.38it/s]\n",
      "100%|███████████████████████████████████████████| 32/32 [00:13<00:00,  2.41it/s]\n",
      "100%|███████████████████████████████████████████| 32/32 [00:13<00:00,  2.45it/s]\n"
     ]
    },
    {
     "name": "stdout",
     "output_type": "stream",
     "text": [
      "(31000, 768)\n",
      "(31000, 768)\n",
      "(31000, 768)\n",
      "(31000, 768)\n",
      "31000\n"
     ]
    },
    {
     "name": "stderr",
     "output_type": "stream",
     "text": [
      "100%|███████████████████████████████████████████| 32/32 [00:13<00:00,  2.45it/s]\n",
      "100%|███████████████████████████████████████████| 32/32 [00:12<00:00,  2.58it/s]\n",
      "100%|███████████████████████████████████████████| 32/32 [00:12<00:00,  2.51it/s]\n",
      "100%|███████████████████████████████████████████| 32/32 [00:12<00:00,  2.57it/s]\n"
     ]
    },
    {
     "name": "stdout",
     "output_type": "stream",
     "text": [
      "(32000, 768)\n",
      "(32000, 768)\n",
      "(32000, 768)\n",
      "(32000, 768)\n",
      "32000\n"
     ]
    },
    {
     "name": "stderr",
     "output_type": "stream",
     "text": [
      "100%|███████████████████████████████████████████| 32/32 [00:13<00:00,  2.32it/s]\n",
      "100%|███████████████████████████████████████████| 32/32 [00:13<00:00,  2.40it/s]\n",
      "100%|███████████████████████████████████████████| 32/32 [00:13<00:00,  2.40it/s]\n",
      "100%|███████████████████████████████████████████| 32/32 [00:13<00:00,  2.32it/s]\n"
     ]
    },
    {
     "name": "stdout",
     "output_type": "stream",
     "text": [
      "(33000, 768)\n",
      "(33000, 768)\n",
      "(33000, 768)\n",
      "(33000, 768)\n",
      "33000\n"
     ]
    },
    {
     "name": "stderr",
     "output_type": "stream",
     "text": [
      "100%|███████████████████████████████████████████| 32/32 [00:13<00:00,  2.35it/s]\n",
      "100%|███████████████████████████████████████████| 32/32 [00:13<00:00,  2.33it/s]\n",
      "100%|███████████████████████████████████████████| 32/32 [00:13<00:00,  2.42it/s]\n",
      "100%|███████████████████████████████████████████| 32/32 [00:13<00:00,  2.42it/s]\n"
     ]
    },
    {
     "name": "stdout",
     "output_type": "stream",
     "text": [
      "(34000, 768)\n",
      "(34000, 768)\n",
      "(34000, 768)\n",
      "(34000, 768)\n",
      "34000\n"
     ]
    },
    {
     "name": "stderr",
     "output_type": "stream",
     "text": [
      "100%|███████████████████████████████████████████| 32/32 [00:11<00:00,  2.71it/s]\n",
      "100%|███████████████████████████████████████████| 32/32 [00:11<00:00,  2.77it/s]\n",
      "100%|███████████████████████████████████████████| 32/32 [00:11<00:00,  2.80it/s]\n",
      "100%|███████████████████████████████████████████| 32/32 [00:11<00:00,  2.83it/s]\n"
     ]
    },
    {
     "name": "stdout",
     "output_type": "stream",
     "text": [
      "(35000, 768)\n",
      "(35000, 768)\n",
      "(35000, 768)\n",
      "(35000, 768)\n",
      "35000\n"
     ]
    },
    {
     "name": "stderr",
     "output_type": "stream",
     "text": [
      "100%|███████████████████████████████████████████| 32/32 [00:12<00:00,  2.47it/s]\n",
      "100%|███████████████████████████████████████████| 32/32 [00:11<00:00,  2.73it/s]\n",
      "100%|███████████████████████████████████████████| 32/32 [00:11<00:00,  2.70it/s]\n",
      "100%|███████████████████████████████████████████| 32/32 [00:11<00:00,  2.75it/s]\n"
     ]
    },
    {
     "name": "stdout",
     "output_type": "stream",
     "text": [
      "(36000, 768)\n",
      "(36000, 768)\n",
      "(36000, 768)\n",
      "(36000, 768)\n",
      "36000\n"
     ]
    },
    {
     "name": "stderr",
     "output_type": "stream",
     "text": [
      "100%|███████████████████████████████████████████| 32/32 [00:13<00:00,  2.41it/s]\n",
      "100%|███████████████████████████████████████████| 32/32 [00:13<00:00,  2.34it/s]\n",
      "100%|███████████████████████████████████████████| 32/32 [00:13<00:00,  2.35it/s]\n",
      "100%|███████████████████████████████████████████| 32/32 [00:13<00:00,  2.35it/s]\n"
     ]
    },
    {
     "name": "stdout",
     "output_type": "stream",
     "text": [
      "(37000, 768)\n",
      "(37000, 768)\n",
      "(37000, 768)\n",
      "(37000, 768)\n",
      "37000\n"
     ]
    },
    {
     "name": "stderr",
     "output_type": "stream",
     "text": [
      "100%|███████████████████████████████████████████| 32/32 [00:15<00:00,  2.07it/s]\n",
      "100%|███████████████████████████████████████████| 32/32 [00:15<00:00,  2.11it/s]\n",
      "100%|███████████████████████████████████████████| 32/32 [00:14<00:00,  2.15it/s]\n",
      "100%|███████████████████████████████████████████| 32/32 [00:15<00:00,  2.03it/s]\n"
     ]
    },
    {
     "name": "stdout",
     "output_type": "stream",
     "text": [
      "(38000, 768)\n",
      "(38000, 768)\n",
      "(38000, 768)\n",
      "(38000, 768)\n",
      "38000\n"
     ]
    },
    {
     "name": "stderr",
     "output_type": "stream",
     "text": [
      "100%|███████████████████████████████████████████| 32/32 [00:12<00:00,  2.51it/s]\n",
      "100%|███████████████████████████████████████████| 32/32 [00:12<00:00,  2.56it/s]\n",
      "100%|███████████████████████████████████████████| 32/32 [00:12<00:00,  2.56it/s]\n",
      "100%|███████████████████████████████████████████| 32/32 [00:12<00:00,  2.59it/s]\n"
     ]
    },
    {
     "name": "stdout",
     "output_type": "stream",
     "text": [
      "(39000, 768)\n",
      "(39000, 768)\n",
      "(39000, 768)\n",
      "(39000, 768)\n",
      "39000\n"
     ]
    },
    {
     "name": "stderr",
     "output_type": "stream",
     "text": [
      "100%|███████████████████████████████████████████| 32/32 [00:11<00:00,  2.80it/s]\n",
      "100%|███████████████████████████████████████████| 32/32 [00:10<00:00,  2.92it/s]\n",
      "100%|███████████████████████████████████████████| 32/32 [00:11<00:00,  2.88it/s]\n",
      "100%|███████████████████████████████████████████| 32/32 [00:11<00:00,  2.90it/s]\n"
     ]
    },
    {
     "name": "stdout",
     "output_type": "stream",
     "text": [
      "(40000, 768)\n",
      "(40000, 768)\n",
      "(40000, 768)\n",
      "(40000, 768)\n",
      "40000\n"
     ]
    },
    {
     "name": "stderr",
     "output_type": "stream",
     "text": [
      "100%|███████████████████████████████████████████| 32/32 [00:12<00:00,  2.52it/s]\n",
      "100%|███████████████████████████████████████████| 32/32 [00:12<00:00,  2.52it/s]\n",
      "100%|███████████████████████████████████████████| 32/32 [00:12<00:00,  2.57it/s]\n",
      "100%|███████████████████████████████████████████| 32/32 [00:12<00:00,  2.50it/s]\n"
     ]
    },
    {
     "name": "stdout",
     "output_type": "stream",
     "text": [
      "(41000, 768)\n",
      "(41000, 768)\n",
      "(41000, 768)\n",
      "(41000, 768)\n",
      "41000\n"
     ]
    },
    {
     "name": "stderr",
     "output_type": "stream",
     "text": [
      "100%|███████████████████████████████████████████| 32/32 [00:10<00:00,  2.92it/s]\n",
      "100%|███████████████████████████████████████████| 32/32 [00:10<00:00,  2.97it/s]\n",
      "100%|███████████████████████████████████████████| 32/32 [00:11<00:00,  2.90it/s]\n",
      "100%|███████████████████████████████████████████| 32/32 [00:10<00:00,  2.93it/s]\n"
     ]
    },
    {
     "name": "stdout",
     "output_type": "stream",
     "text": [
      "(42000, 768)\n",
      "(42000, 768)\n",
      "(42000, 768)\n",
      "(42000, 768)\n",
      "42000\n"
     ]
    },
    {
     "name": "stderr",
     "output_type": "stream",
     "text": [
      "100%|███████████████████████████████████████████| 32/32 [00:11<00:00,  2.71it/s]\n",
      "100%|███████████████████████████████████████████| 32/32 [00:11<00:00,  2.68it/s]\n",
      "100%|███████████████████████████████████████████| 32/32 [00:12<00:00,  2.67it/s]\n",
      "100%|███████████████████████████████████████████| 32/32 [00:11<00:00,  2.74it/s]\n"
     ]
    },
    {
     "name": "stdout",
     "output_type": "stream",
     "text": [
      "(43000, 768)\n",
      "(43000, 768)\n",
      "(43000, 768)\n",
      "(43000, 768)\n",
      "43000\n"
     ]
    },
    {
     "name": "stderr",
     "output_type": "stream",
     "text": [
      "100%|███████████████████████████████████████████| 32/32 [00:12<00:00,  2.54it/s]\n",
      "100%|███████████████████████████████████████████| 32/32 [00:12<00:00,  2.57it/s]\n",
      "100%|███████████████████████████████████████████| 32/32 [00:13<00:00,  2.45it/s]\n",
      "100%|███████████████████████████████████████████| 32/32 [00:12<00:00,  2.54it/s]\n"
     ]
    },
    {
     "name": "stdout",
     "output_type": "stream",
     "text": [
      "(44000, 768)\n",
      "(44000, 768)\n",
      "(44000, 768)\n",
      "(44000, 768)\n",
      "44000\n"
     ]
    },
    {
     "name": "stderr",
     "output_type": "stream",
     "text": [
      "100%|███████████████████████████████████████████| 32/32 [00:13<00:00,  2.34it/s]\n",
      "100%|███████████████████████████████████████████| 32/32 [00:13<00:00,  2.44it/s]\n",
      "100%|███████████████████████████████████████████| 32/32 [00:12<00:00,  2.51it/s]\n",
      "100%|███████████████████████████████████████████| 32/32 [00:13<00:00,  2.46it/s]\n"
     ]
    },
    {
     "name": "stdout",
     "output_type": "stream",
     "text": [
      "(45000, 768)\n",
      "(45000, 768)\n",
      "(45000, 768)\n",
      "(45000, 768)\n",
      "45000\n"
     ]
    },
    {
     "name": "stderr",
     "output_type": "stream",
     "text": [
      "100%|███████████████████████████████████████████| 32/32 [00:12<00:00,  2.62it/s]\n",
      "100%|███████████████████████████████████████████| 32/32 [00:11<00:00,  2.73it/s]\n",
      "100%|███████████████████████████████████████████| 32/32 [00:11<00:00,  2.70it/s]\n",
      "100%|███████████████████████████████████████████| 32/32 [00:11<00:00,  2.72it/s]\n"
     ]
    },
    {
     "name": "stdout",
     "output_type": "stream",
     "text": [
      "(46000, 768)\n",
      "(46000, 768)\n",
      "(46000, 768)\n",
      "(46000, 768)\n",
      "46000\n"
     ]
    },
    {
     "name": "stderr",
     "output_type": "stream",
     "text": [
      "100%|███████████████████████████████████████████| 32/32 [00:13<00:00,  2.46it/s]\n",
      "100%|███████████████████████████████████████████| 32/32 [00:13<00:00,  2.44it/s]\n",
      "100%|███████████████████████████████████████████| 32/32 [00:12<00:00,  2.53it/s]\n",
      "100%|███████████████████████████████████████████| 32/32 [00:12<00:00,  2.50it/s]\n"
     ]
    },
    {
     "name": "stdout",
     "output_type": "stream",
     "text": [
      "(47000, 768)\n",
      "(47000, 768)\n",
      "(47000, 768)\n",
      "(47000, 768)\n",
      "47000\n"
     ]
    },
    {
     "name": "stderr",
     "output_type": "stream",
     "text": [
      "100%|███████████████████████████████████████████| 32/32 [00:15<00:00,  2.13it/s]\n",
      "100%|███████████████████████████████████████████| 32/32 [00:15<00:00,  2.13it/s]\n",
      "100%|███████████████████████████████████████████| 32/32 [00:15<00:00,  2.06it/s]\n",
      "100%|███████████████████████████████████████████| 32/32 [00:15<00:00,  2.03it/s]\n"
     ]
    },
    {
     "name": "stdout",
     "output_type": "stream",
     "text": [
      "(48000, 768)\n",
      "(48000, 768)\n",
      "(48000, 768)\n",
      "(48000, 768)\n",
      "48000\n"
     ]
    },
    {
     "name": "stderr",
     "output_type": "stream",
     "text": [
      "100%|███████████████████████████████████████████| 32/32 [00:13<00:00,  2.41it/s]\n",
      "100%|███████████████████████████████████████████| 32/32 [00:13<00:00,  2.38it/s]\n",
      "100%|███████████████████████████████████████████| 32/32 [00:13<00:00,  2.42it/s]\n",
      "100%|███████████████████████████████████████████| 32/32 [00:13<00:00,  2.37it/s]\n"
     ]
    },
    {
     "name": "stdout",
     "output_type": "stream",
     "text": [
      "(49000, 768)\n",
      "(49000, 768)\n",
      "(49000, 768)\n",
      "(49000, 768)\n",
      "49000\n"
     ]
    },
    {
     "name": "stderr",
     "output_type": "stream",
     "text": [
      "100%|███████████████████████████████████████████| 32/32 [00:13<00:00,  2.33it/s]\n",
      "100%|███████████████████████████████████████████| 32/32 [00:13<00:00,  2.41it/s]\n",
      "100%|███████████████████████████████████████████| 32/32 [00:13<00:00,  2.40it/s]\n",
      "100%|███████████████████████████████████████████| 32/32 [00:13<00:00,  2.40it/s]\n"
     ]
    },
    {
     "name": "stdout",
     "output_type": "stream",
     "text": [
      "(50000, 768)\n",
      "(50000, 768)\n",
      "(50000, 768)\n",
      "(50000, 768)\n",
      "50000\n"
     ]
    },
    {
     "name": "stderr",
     "output_type": "stream",
     "text": [
      "100%|███████████████████████████████████████████| 32/32 [00:14<00:00,  2.29it/s]\n",
      "100%|███████████████████████████████████████████| 32/32 [00:14<00:00,  2.20it/s]\n",
      "100%|███████████████████████████████████████████| 32/32 [00:14<00:00,  2.27it/s]\n",
      "100%|███████████████████████████████████████████| 32/32 [00:13<00:00,  2.29it/s]\n"
     ]
    },
    {
     "name": "stdout",
     "output_type": "stream",
     "text": [
      "(51000, 768)\n",
      "(51000, 768)\n",
      "(51000, 768)\n",
      "(51000, 768)\n",
      "51000\n"
     ]
    },
    {
     "name": "stderr",
     "output_type": "stream",
     "text": [
      "100%|███████████████████████████████████████████| 32/32 [00:17<00:00,  1.83it/s]\n",
      "100%|███████████████████████████████████████████| 32/32 [00:12<00:00,  2.50it/s]\n",
      "100%|███████████████████████████████████████████| 32/32 [00:13<00:00,  2.39it/s]\n",
      "100%|███████████████████████████████████████████| 32/32 [00:13<00:00,  2.41it/s]\n"
     ]
    },
    {
     "name": "stdout",
     "output_type": "stream",
     "text": [
      "(52000, 768)\n",
      "(52000, 768)\n",
      "(52000, 768)\n",
      "(52000, 768)\n",
      "52000\n"
     ]
    },
    {
     "name": "stderr",
     "output_type": "stream",
     "text": [
      "100%|███████████████████████████████████████████| 32/32 [00:13<00:00,  2.35it/s]\n",
      "100%|███████████████████████████████████████████| 32/32 [00:12<00:00,  2.47it/s]\n",
      "100%|███████████████████████████████████████████| 32/32 [00:14<00:00,  2.27it/s]\n",
      "100%|███████████████████████████████████████████| 32/32 [00:13<00:00,  2.44it/s]\n"
     ]
    },
    {
     "name": "stdout",
     "output_type": "stream",
     "text": [
      "(53000, 768)\n",
      "(53000, 768)\n",
      "(53000, 768)\n",
      "(53000, 768)\n",
      "53000\n"
     ]
    },
    {
     "name": "stderr",
     "output_type": "stream",
     "text": [
      "100%|███████████████████████████████████████████| 32/32 [00:15<00:00,  2.06it/s]\n",
      "100%|███████████████████████████████████████████| 32/32 [00:13<00:00,  2.30it/s]\n",
      "100%|███████████████████████████████████████████| 32/32 [00:14<00:00,  2.27it/s]\n",
      "100%|███████████████████████████████████████████| 32/32 [00:14<00:00,  2.16it/s]\n"
     ]
    },
    {
     "name": "stdout",
     "output_type": "stream",
     "text": [
      "(54000, 768)\n",
      "(54000, 768)\n",
      "(54000, 768)\n",
      "(54000, 768)\n",
      "54000\n"
     ]
    },
    {
     "name": "stderr",
     "output_type": "stream",
     "text": [
      "100%|███████████████████████████████████████████| 32/32 [00:14<00:00,  2.16it/s]\n",
      "100%|███████████████████████████████████████████| 32/32 [00:14<00:00,  2.19it/s]\n",
      "100%|███████████████████████████████████████████| 32/32 [00:14<00:00,  2.26it/s]\n",
      "100%|███████████████████████████████████████████| 32/32 [00:13<00:00,  2.30it/s]\n"
     ]
    },
    {
     "name": "stdout",
     "output_type": "stream",
     "text": [
      "(55000, 768)\n",
      "(55000, 768)\n",
      "(55000, 768)\n",
      "(55000, 768)\n",
      "55000\n"
     ]
    },
    {
     "name": "stderr",
     "output_type": "stream",
     "text": [
      "100%|███████████████████████████████████████████| 32/32 [00:15<00:00,  2.08it/s]\n",
      "100%|███████████████████████████████████████████| 32/32 [00:15<00:00,  2.09it/s]\n",
      "100%|███████████████████████████████████████████| 32/32 [00:14<00:00,  2.15it/s]\n",
      "100%|███████████████████████████████████████████| 32/32 [00:14<00:00,  2.18it/s]\n"
     ]
    },
    {
     "name": "stdout",
     "output_type": "stream",
     "text": [
      "(56000, 768)\n",
      "(56000, 768)\n",
      "(56000, 768)\n",
      "(56000, 768)\n",
      "56000\n"
     ]
    },
    {
     "name": "stderr",
     "output_type": "stream",
     "text": [
      "100%|███████████████████████████████████████████| 32/32 [00:13<00:00,  2.45it/s]\n",
      "100%|███████████████████████████████████████████| 32/32 [00:12<00:00,  2.49it/s]\n",
      "100%|███████████████████████████████████████████| 32/32 [00:13<00:00,  2.42it/s]\n",
      "100%|███████████████████████████████████████████| 32/32 [00:12<00:00,  2.55it/s]\n"
     ]
    },
    {
     "name": "stdout",
     "output_type": "stream",
     "text": [
      "(57000, 768)\n",
      "(57000, 768)\n",
      "(57000, 768)\n",
      "(57000, 768)\n",
      "57000\n"
     ]
    },
    {
     "name": "stderr",
     "output_type": "stream",
     "text": [
      "100%|███████████████████████████████████████████| 32/32 [00:15<00:00,  2.01it/s]\n",
      "100%|███████████████████████████████████████████| 32/32 [00:14<00:00,  2.16it/s]\n",
      "100%|███████████████████████████████████████████| 32/32 [00:14<00:00,  2.14it/s]\n",
      "100%|███████████████████████████████████████████| 32/32 [00:14<00:00,  2.15it/s]\n"
     ]
    },
    {
     "name": "stdout",
     "output_type": "stream",
     "text": [
      "(58000, 768)\n",
      "(58000, 768)\n",
      "(58000, 768)\n",
      "(58000, 768)\n",
      "58000\n"
     ]
    },
    {
     "name": "stderr",
     "output_type": "stream",
     "text": [
      "100%|███████████████████████████████████████████| 32/32 [00:12<00:00,  2.51it/s]\n",
      "100%|███████████████████████████████████████████| 32/32 [00:12<00:00,  2.66it/s]\n",
      "100%|███████████████████████████████████████████| 32/32 [00:11<00:00,  2.70it/s]\n",
      "100%|███████████████████████████████████████████| 32/32 [00:12<00:00,  2.66it/s]\n"
     ]
    },
    {
     "name": "stdout",
     "output_type": "stream",
     "text": [
      "(59000, 768)\n",
      "(59000, 768)\n",
      "(59000, 768)\n",
      "(59000, 768)\n",
      "59000\n"
     ]
    },
    {
     "name": "stderr",
     "output_type": "stream",
     "text": [
      "100%|███████████████████████████████████████████| 32/32 [00:13<00:00,  2.35it/s]\n",
      "100%|███████████████████████████████████████████| 32/32 [00:13<00:00,  2.46it/s]\n",
      "100%|███████████████████████████████████████████| 32/32 [00:14<00:00,  2.26it/s]\n",
      "100%|███████████████████████████████████████████| 32/32 [00:13<00:00,  2.42it/s]\n"
     ]
    },
    {
     "name": "stdout",
     "output_type": "stream",
     "text": [
      "(60000, 768)\n",
      "(60000, 768)\n",
      "(60000, 768)\n",
      "(60000, 768)\n",
      "60000\n"
     ]
    },
    {
     "name": "stderr",
     "output_type": "stream",
     "text": [
      "100%|███████████████████████████████████████████| 32/32 [00:15<00:00,  2.01it/s]\n",
      "100%|███████████████████████████████████████████| 32/32 [00:15<00:00,  2.03it/s]\n",
      "100%|███████████████████████████████████████████| 32/32 [00:15<00:00,  2.05it/s]\n",
      "100%|███████████████████████████████████████████| 32/32 [00:15<00:00,  2.08it/s]\n"
     ]
    },
    {
     "name": "stdout",
     "output_type": "stream",
     "text": [
      "(61000, 768)\n",
      "(61000, 768)\n",
      "(61000, 768)\n",
      "(61000, 768)\n",
      "61000\n"
     ]
    },
    {
     "name": "stderr",
     "output_type": "stream",
     "text": [
      "100%|███████████████████████████████████████████| 32/32 [00:15<00:00,  2.09it/s]\n",
      "100%|███████████████████████████████████████████| 32/32 [00:14<00:00,  2.14it/s]\n",
      "100%|███████████████████████████████████████████| 32/32 [00:14<00:00,  2.24it/s]\n",
      "100%|███████████████████████████████████████████| 32/32 [00:15<00:00,  2.11it/s]\n"
     ]
    },
    {
     "name": "stdout",
     "output_type": "stream",
     "text": [
      "(62000, 768)\n",
      "(62000, 768)\n",
      "(62000, 768)\n",
      "(62000, 768)\n",
      "62000\n"
     ]
    },
    {
     "name": "stderr",
     "output_type": "stream",
     "text": [
      "100%|███████████████████████████████████████████| 32/32 [00:14<00:00,  2.22it/s]\n",
      "100%|███████████████████████████████████████████| 32/32 [00:14<00:00,  2.25it/s]\n",
      "100%|███████████████████████████████████████████| 32/32 [00:14<00:00,  2.27it/s]\n",
      "100%|███████████████████████████████████████████| 32/32 [00:15<00:00,  2.12it/s]\n"
     ]
    },
    {
     "name": "stdout",
     "output_type": "stream",
     "text": [
      "(63000, 768)\n",
      "(63000, 768)\n",
      "(63000, 768)\n",
      "(63000, 768)\n",
      "63000\n"
     ]
    },
    {
     "name": "stderr",
     "output_type": "stream",
     "text": [
      "100%|███████████████████████████████████████████| 32/32 [00:14<00:00,  2.15it/s]\n",
      "100%|███████████████████████████████████████████| 32/32 [00:15<00:00,  2.03it/s]\n",
      "100%|███████████████████████████████████████████| 32/32 [00:15<00:00,  2.05it/s]\n",
      "100%|███████████████████████████████████████████| 32/32 [00:14<00:00,  2.14it/s]\n"
     ]
    },
    {
     "name": "stdout",
     "output_type": "stream",
     "text": [
      "(64000, 768)\n",
      "(64000, 768)\n",
      "(64000, 768)\n",
      "(64000, 768)\n",
      "64000\n"
     ]
    },
    {
     "name": "stderr",
     "output_type": "stream",
     "text": [
      "100%|███████████████████████████████████████████| 32/32 [00:13<00:00,  2.33it/s]\n",
      "100%|███████████████████████████████████████████| 32/32 [00:14<00:00,  2.21it/s]\n",
      "100%|███████████████████████████████████████████| 32/32 [00:13<00:00,  2.38it/s]\n",
      "100%|███████████████████████████████████████████| 32/32 [00:14<00:00,  2.20it/s]\n"
     ]
    },
    {
     "name": "stdout",
     "output_type": "stream",
     "text": [
      "(65000, 768)\n",
      "(65000, 768)\n",
      "(65000, 768)\n",
      "(65000, 768)\n",
      "65000\n"
     ]
    },
    {
     "name": "stderr",
     "output_type": "stream",
     "text": [
      "100%|███████████████████████████████████████████| 32/32 [00:14<00:00,  2.25it/s]\n",
      "100%|███████████████████████████████████████████| 32/32 [00:14<00:00,  2.19it/s]\n",
      "100%|███████████████████████████████████████████| 32/32 [00:14<00:00,  2.24it/s]\n",
      "100%|███████████████████████████████████████████| 32/32 [00:15<00:00,  2.03it/s]\n"
     ]
    },
    {
     "name": "stdout",
     "output_type": "stream",
     "text": [
      "(66000, 768)\n",
      "(66000, 768)\n",
      "(66000, 768)\n",
      "(66000, 768)\n",
      "66000\n"
     ]
    },
    {
     "name": "stderr",
     "output_type": "stream",
     "text": [
      "100%|███████████████████████████████████████████| 32/32 [00:15<00:00,  2.13it/s]\n",
      "100%|███████████████████████████████████████████| 32/32 [00:14<00:00,  2.14it/s]\n",
      "100%|███████████████████████████████████████████| 32/32 [00:14<00:00,  2.21it/s]\n",
      "100%|███████████████████████████████████████████| 32/32 [00:15<00:00,  2.01it/s]\n"
     ]
    },
    {
     "name": "stdout",
     "output_type": "stream",
     "text": [
      "(67000, 768)\n",
      "(67000, 768)\n",
      "(67000, 768)\n",
      "(67000, 768)\n",
      "67000\n"
     ]
    },
    {
     "name": "stderr",
     "output_type": "stream",
     "text": [
      "100%|███████████████████████████████████████████| 32/32 [00:13<00:00,  2.39it/s]\n",
      "100%|███████████████████████████████████████████| 32/32 [00:13<00:00,  2.35it/s]\n",
      "100%|███████████████████████████████████████████| 32/32 [00:12<00:00,  2.46it/s]\n",
      "100%|███████████████████████████████████████████| 32/32 [00:13<00:00,  2.44it/s]\n"
     ]
    },
    {
     "name": "stdout",
     "output_type": "stream",
     "text": [
      "(68000, 768)\n",
      "(68000, 768)\n",
      "(68000, 768)\n",
      "(68000, 768)\n",
      "68000\n"
     ]
    },
    {
     "name": "stderr",
     "output_type": "stream",
     "text": [
      "100%|███████████████████████████████████████████| 32/32 [00:14<00:00,  2.20it/s]\n",
      "100%|███████████████████████████████████████████| 32/32 [00:14<00:00,  2.20it/s]\n",
      "100%|███████████████████████████████████████████| 32/32 [00:14<00:00,  2.24it/s]\n",
      "100%|███████████████████████████████████████████| 32/32 [00:13<00:00,  2.29it/s]\n"
     ]
    },
    {
     "name": "stdout",
     "output_type": "stream",
     "text": [
      "(69000, 768)\n",
      "(69000, 768)\n",
      "(69000, 768)\n",
      "(69000, 768)\n",
      "69000\n"
     ]
    },
    {
     "name": "stderr",
     "output_type": "stream",
     "text": [
      "100%|███████████████████████████████████████████| 32/32 [00:15<00:00,  2.02it/s]\n",
      "100%|███████████████████████████████████████████| 32/32 [00:14<00:00,  2.18it/s]\n",
      "100%|███████████████████████████████████████████| 32/32 [00:14<00:00,  2.14it/s]\n",
      "100%|███████████████████████████████████████████| 32/32 [00:17<00:00,  1.83it/s]\n"
     ]
    },
    {
     "name": "stdout",
     "output_type": "stream",
     "text": [
      "(70000, 768)\n",
      "(70000, 768)\n",
      "(70000, 768)\n",
      "(70000, 768)\n",
      "70000\n"
     ]
    },
    {
     "name": "stderr",
     "output_type": "stream",
     "text": [
      "100%|███████████████████████████████████████████| 32/32 [00:15<00:00,  2.08it/s]\n",
      "100%|███████████████████████████████████████████| 32/32 [00:15<00:00,  2.03it/s]\n",
      "100%|███████████████████████████████████████████| 32/32 [00:15<00:00,  2.01it/s]\n",
      "100%|███████████████████████████████████████████| 32/32 [00:14<00:00,  2.18it/s]\n"
     ]
    },
    {
     "name": "stdout",
     "output_type": "stream",
     "text": [
      "(71000, 768)\n",
      "(71000, 768)\n",
      "(71000, 768)\n",
      "(71000, 768)\n",
      "71000\n"
     ]
    },
    {
     "name": "stderr",
     "output_type": "stream",
     "text": [
      "100%|███████████████████████████████████████████| 32/32 [00:17<00:00,  1.79it/s]\n",
      "100%|███████████████████████████████████████████| 32/32 [00:17<00:00,  1.88it/s]\n",
      "100%|███████████████████████████████████████████| 32/32 [00:18<00:00,  1.74it/s]\n",
      "100%|███████████████████████████████████████████| 32/32 [00:16<00:00,  1.90it/s]\n"
     ]
    },
    {
     "name": "stdout",
     "output_type": "stream",
     "text": [
      "(72000, 768)\n",
      "(72000, 768)\n",
      "(72000, 768)\n",
      "(72000, 768)\n",
      "72000\n"
     ]
    },
    {
     "name": "stderr",
     "output_type": "stream",
     "text": [
      "100%|███████████████████████████████████████████| 32/32 [00:14<00:00,  2.18it/s]\n",
      "100%|███████████████████████████████████████████| 32/32 [00:14<00:00,  2.21it/s]\n",
      "100%|███████████████████████████████████████████| 32/32 [00:14<00:00,  2.23it/s]\n",
      "100%|███████████████████████████████████████████| 32/32 [00:14<00:00,  2.21it/s]\n"
     ]
    },
    {
     "name": "stdout",
     "output_type": "stream",
     "text": [
      "(73000, 768)\n",
      "(73000, 768)\n",
      "(73000, 768)\n",
      "(73000, 768)\n",
      "73000\n"
     ]
    },
    {
     "name": "stderr",
     "output_type": "stream",
     "text": [
      "100%|███████████████████████████████████████████| 32/32 [00:17<00:00,  1.82it/s]\n",
      "100%|███████████████████████████████████████████| 32/32 [00:16<00:00,  1.97it/s]\n",
      "100%|███████████████████████████████████████████| 32/32 [00:16<00:00,  1.90it/s]\n",
      "100%|███████████████████████████████████████████| 32/32 [00:16<00:00,  1.89it/s]\n"
     ]
    },
    {
     "name": "stdout",
     "output_type": "stream",
     "text": [
      "(74000, 768)\n",
      "(74000, 768)\n",
      "(74000, 768)\n",
      "(74000, 768)\n",
      "74000\n"
     ]
    },
    {
     "name": "stderr",
     "output_type": "stream",
     "text": [
      "100%|███████████████████████████████████████████| 32/32 [00:12<00:00,  2.51it/s]\n",
      "100%|███████████████████████████████████████████| 32/32 [00:12<00:00,  2.64it/s]\n",
      "100%|███████████████████████████████████████████| 32/32 [00:12<00:00,  2.62it/s]\n",
      "100%|███████████████████████████████████████████| 32/32 [00:12<00:00,  2.67it/s]\n"
     ]
    },
    {
     "name": "stdout",
     "output_type": "stream",
     "text": [
      "(75000, 768)\n",
      "(75000, 768)\n",
      "(75000, 768)\n",
      "(75000, 768)\n",
      "75000\n"
     ]
    },
    {
     "name": "stderr",
     "output_type": "stream",
     "text": [
      "100%|███████████████████████████████████████████| 32/32 [00:13<00:00,  2.33it/s]\n",
      "100%|███████████████████████████████████████████| 32/32 [00:13<00:00,  2.40it/s]\n",
      "100%|███████████████████████████████████████████| 32/32 [00:13<00:00,  2.34it/s]\n",
      "100%|███████████████████████████████████████████| 32/32 [00:13<00:00,  2.31it/s]\n"
     ]
    },
    {
     "name": "stdout",
     "output_type": "stream",
     "text": [
      "(76000, 768)\n",
      "(76000, 768)\n",
      "(76000, 768)\n",
      "(76000, 768)\n",
      "76000\n"
     ]
    },
    {
     "name": "stderr",
     "output_type": "stream",
     "text": [
      "100%|███████████████████████████████████████████| 32/32 [00:11<00:00,  2.78it/s]\n",
      "100%|███████████████████████████████████████████| 32/32 [00:11<00:00,  2.79it/s]\n",
      "100%|███████████████████████████████████████████| 32/32 [00:11<00:00,  2.82it/s]\n",
      "100%|███████████████████████████████████████████| 32/32 [00:11<00:00,  2.82it/s]\n"
     ]
    },
    {
     "name": "stdout",
     "output_type": "stream",
     "text": [
      "(77000, 768)\n",
      "(77000, 768)\n",
      "(77000, 768)\n",
      "(77000, 768)\n",
      "77000\n"
     ]
    },
    {
     "name": "stderr",
     "output_type": "stream",
     "text": [
      "100%|███████████████████████████████████████████| 32/32 [00:14<00:00,  2.21it/s]\n",
      "100%|███████████████████████████████████████████| 32/32 [00:14<00:00,  2.19it/s]\n",
      "100%|███████████████████████████████████████████| 32/32 [00:14<00:00,  2.22it/s]\n",
      "100%|███████████████████████████████████████████| 32/32 [00:14<00:00,  2.19it/s]\n"
     ]
    },
    {
     "name": "stdout",
     "output_type": "stream",
     "text": [
      "(78000, 768)\n",
      "(78000, 768)\n",
      "(78000, 768)\n",
      "(78000, 768)\n",
      "78000\n"
     ]
    },
    {
     "name": "stderr",
     "output_type": "stream",
     "text": [
      "100%|███████████████████████████████████████████| 32/32 [00:15<00:00,  2.06it/s]\n",
      "100%|███████████████████████████████████████████| 32/32 [00:15<00:00,  2.05it/s]\n",
      "100%|███████████████████████████████████████████| 32/32 [00:16<00:00,  1.98it/s]\n",
      "100%|███████████████████████████████████████████| 32/32 [00:15<00:00,  2.02it/s]\n"
     ]
    },
    {
     "name": "stdout",
     "output_type": "stream",
     "text": [
      "(79000, 768)\n",
      "(79000, 768)\n",
      "(79000, 768)\n",
      "(79000, 768)\n",
      "79000\n"
     ]
    },
    {
     "name": "stderr",
     "output_type": "stream",
     "text": [
      "100%|███████████████████████████████████████████| 32/32 [00:15<00:00,  2.12it/s]\n",
      "100%|███████████████████████████████████████████| 32/32 [00:14<00:00,  2.18it/s]\n",
      "100%|███████████████████████████████████████████| 32/32 [00:14<00:00,  2.17it/s]\n",
      "100%|███████████████████████████████████████████| 32/32 [00:14<00:00,  2.25it/s]\n"
     ]
    },
    {
     "name": "stdout",
     "output_type": "stream",
     "text": [
      "(80000, 768)\n",
      "(80000, 768)\n",
      "(80000, 768)\n",
      "(80000, 768)\n",
      "80000\n"
     ]
    },
    {
     "name": "stderr",
     "output_type": "stream",
     "text": [
      "100%|███████████████████████████████████████████| 32/32 [00:13<00:00,  2.34it/s]\n",
      "100%|███████████████████████████████████████████| 32/32 [00:12<00:00,  2.52it/s]\n",
      "100%|███████████████████████████████████████████| 32/32 [00:13<00:00,  2.37it/s]\n",
      "100%|███████████████████████████████████████████| 32/32 [00:12<00:00,  2.47it/s]\n"
     ]
    },
    {
     "name": "stdout",
     "output_type": "stream",
     "text": [
      "(81000, 768)\n",
      "(81000, 768)\n",
      "(81000, 768)\n",
      "(81000, 768)\n",
      "81000\n"
     ]
    },
    {
     "name": "stderr",
     "output_type": "stream",
     "text": [
      "100%|███████████████████████████████████████████| 32/32 [00:14<00:00,  2.17it/s]\n",
      "100%|███████████████████████████████████████████| 32/32 [00:14<00:00,  2.24it/s]\n",
      "100%|███████████████████████████████████████████| 32/32 [00:14<00:00,  2.17it/s]\n",
      "100%|███████████████████████████████████████████| 32/32 [00:14<00:00,  2.21it/s]\n"
     ]
    },
    {
     "name": "stdout",
     "output_type": "stream",
     "text": [
      "(82000, 768)\n",
      "(82000, 768)\n",
      "(82000, 768)\n",
      "(82000, 768)\n",
      "82000\n"
     ]
    },
    {
     "name": "stderr",
     "output_type": "stream",
     "text": [
      "100%|███████████████████████████████████████████| 32/32 [00:18<00:00,  1.77it/s]\n",
      "100%|███████████████████████████████████████████| 32/32 [00:16<00:00,  1.90it/s]\n",
      "100%|███████████████████████████████████████████| 32/32 [00:17<00:00,  1.83it/s]\n",
      "100%|███████████████████████████████████████████| 32/32 [00:16<00:00,  1.89it/s]\n"
     ]
    },
    {
     "name": "stdout",
     "output_type": "stream",
     "text": [
      "(83000, 768)\n",
      "(83000, 768)\n",
      "(83000, 768)\n",
      "(83000, 768)\n",
      "83000\n"
     ]
    },
    {
     "name": "stderr",
     "output_type": "stream",
     "text": [
      "100%|███████████████████████████████████████████| 32/32 [00:14<00:00,  2.17it/s]\n",
      "100%|███████████████████████████████████████████| 32/32 [00:14<00:00,  2.24it/s]\n",
      "100%|███████████████████████████████████████████| 32/32 [00:14<00:00,  2.16it/s]\n",
      "100%|███████████████████████████████████████████| 32/32 [00:14<00:00,  2.14it/s]\n"
     ]
    },
    {
     "name": "stdout",
     "output_type": "stream",
     "text": [
      "(84000, 768)\n",
      "(84000, 768)\n",
      "(84000, 768)\n",
      "(84000, 768)\n",
      "84000\n"
     ]
    },
    {
     "name": "stderr",
     "output_type": "stream",
     "text": [
      "100%|███████████████████████████████████████████| 32/32 [00:17<00:00,  1.83it/s]\n",
      "100%|███████████████████████████████████████████| 32/32 [00:17<00:00,  1.81it/s]\n",
      "100%|███████████████████████████████████████████| 32/32 [00:18<00:00,  1.69it/s]\n",
      "100%|███████████████████████████████████████████| 32/32 [00:17<00:00,  1.81it/s]\n"
     ]
    },
    {
     "name": "stdout",
     "output_type": "stream",
     "text": [
      "(85000, 768)\n",
      "(85000, 768)\n",
      "(85000, 768)\n",
      "(85000, 768)\n",
      "85000\n"
     ]
    },
    {
     "name": "stderr",
     "output_type": "stream",
     "text": [
      "100%|███████████████████████████████████████████| 32/32 [00:11<00:00,  2.68it/s]\n",
      "100%|███████████████████████████████████████████| 32/32 [00:11<00:00,  2.70it/s]\n",
      "100%|███████████████████████████████████████████| 32/32 [00:11<00:00,  2.80it/s]\n",
      "100%|███████████████████████████████████████████| 32/32 [00:11<00:00,  2.79it/s]\n"
     ]
    },
    {
     "name": "stdout",
     "output_type": "stream",
     "text": [
      "(86000, 768)\n",
      "(86000, 768)\n",
      "(86000, 768)\n",
      "(86000, 768)\n",
      "86000\n"
     ]
    },
    {
     "name": "stderr",
     "output_type": "stream",
     "text": [
      "100%|███████████████████████████████████████████| 32/32 [00:14<00:00,  2.25it/s]\n",
      "100%|███████████████████████████████████████████| 32/32 [00:14<00:00,  2.21it/s]\n",
      "100%|███████████████████████████████████████████| 32/32 [00:14<00:00,  2.23it/s]\n",
      "100%|███████████████████████████████████████████| 32/32 [00:14<00:00,  2.19it/s]\n"
     ]
    },
    {
     "name": "stdout",
     "output_type": "stream",
     "text": [
      "(87000, 768)\n",
      "(87000, 768)\n",
      "(87000, 768)\n",
      "(87000, 768)\n",
      "87000\n"
     ]
    },
    {
     "name": "stderr",
     "output_type": "stream",
     "text": [
      "100%|███████████████████████████████████████████| 32/32 [00:13<00:00,  2.33it/s]\n",
      "100%|███████████████████████████████████████████| 32/32 [00:13<00:00,  2.31it/s]\n",
      "100%|███████████████████████████████████████████| 32/32 [00:14<00:00,  2.20it/s]\n",
      "100%|███████████████████████████████████████████| 32/32 [00:13<00:00,  2.34it/s]\n"
     ]
    },
    {
     "name": "stdout",
     "output_type": "stream",
     "text": [
      "(88000, 768)\n",
      "(88000, 768)\n",
      "(88000, 768)\n",
      "(88000, 768)\n",
      "88000\n"
     ]
    },
    {
     "name": "stderr",
     "output_type": "stream",
     "text": [
      "100%|███████████████████████████████████████████| 32/32 [00:13<00:00,  2.45it/s]\n",
      "100%|███████████████████████████████████████████| 32/32 [00:12<00:00,  2.48it/s]\n",
      "100%|███████████████████████████████████████████| 32/32 [00:12<00:00,  2.56it/s]\n",
      "100%|███████████████████████████████████████████| 32/32 [00:12<00:00,  2.60it/s]\n"
     ]
    },
    {
     "name": "stdout",
     "output_type": "stream",
     "text": [
      "(89000, 768)\n",
      "(89000, 768)\n",
      "(89000, 768)\n",
      "(89000, 768)\n",
      "89000\n"
     ]
    },
    {
     "name": "stderr",
     "output_type": "stream",
     "text": [
      "100%|███████████████████████████████████████████| 32/32 [00:12<00:00,  2.49it/s]\n",
      "100%|███████████████████████████████████████████| 32/32 [00:16<00:00,  1.94it/s]\n",
      "100%|███████████████████████████████████████████| 32/32 [00:13<00:00,  2.42it/s]\n",
      "100%|███████████████████████████████████████████| 32/32 [00:13<00:00,  2.41it/s]\n"
     ]
    },
    {
     "name": "stdout",
     "output_type": "stream",
     "text": [
      "(90000, 768)\n",
      "(90000, 768)\n",
      "(90000, 768)\n",
      "(90000, 768)\n",
      "90000\n"
     ]
    },
    {
     "name": "stderr",
     "output_type": "stream",
     "text": [
      "100%|███████████████████████████████████████████| 32/32 [00:14<00:00,  2.18it/s]\n",
      "100%|███████████████████████████████████████████| 32/32 [00:14<00:00,  2.15it/s]\n",
      "100%|███████████████████████████████████████████| 32/32 [00:15<00:00,  2.10it/s]\n",
      "100%|███████████████████████████████████████████| 32/32 [00:15<00:00,  2.10it/s]\n"
     ]
    },
    {
     "name": "stdout",
     "output_type": "stream",
     "text": [
      "(91000, 768)\n",
      "(91000, 768)\n",
      "(91000, 768)\n",
      "(91000, 768)\n",
      "91000\n"
     ]
    },
    {
     "name": "stderr",
     "output_type": "stream",
     "text": [
      "100%|███████████████████████████████████████████| 32/32 [00:11<00:00,  2.77it/s]\n",
      "100%|███████████████████████████████████████████| 32/32 [00:11<00:00,  2.74it/s]\n",
      "100%|███████████████████████████████████████████| 32/32 [00:11<00:00,  2.78it/s]\n",
      "100%|███████████████████████████████████████████| 32/32 [00:11<00:00,  2.80it/s]\n"
     ]
    },
    {
     "name": "stdout",
     "output_type": "stream",
     "text": [
      "(92000, 768)\n",
      "(92000, 768)\n",
      "(92000, 768)\n",
      "(92000, 768)\n",
      "92000\n"
     ]
    },
    {
     "name": "stderr",
     "output_type": "stream",
     "text": [
      "100%|███████████████████████████████████████████| 32/32 [00:12<00:00,  2.63it/s]\n",
      "100%|███████████████████████████████████████████| 32/32 [00:12<00:00,  2.53it/s]\n",
      "100%|███████████████████████████████████████████| 32/32 [00:12<00:00,  2.57it/s]\n",
      "100%|███████████████████████████████████████████| 32/32 [00:12<00:00,  2.55it/s]\n"
     ]
    },
    {
     "name": "stdout",
     "output_type": "stream",
     "text": [
      "(93000, 768)\n",
      "(93000, 768)\n",
      "(93000, 768)\n",
      "(93000, 768)\n",
      "93000\n"
     ]
    },
    {
     "name": "stderr",
     "output_type": "stream",
     "text": [
      "100%|███████████████████████████████████████████| 32/32 [00:16<00:00,  1.95it/s]\n",
      "100%|███████████████████████████████████████████| 32/32 [00:15<00:00,  2.03it/s]\n",
      "100%|███████████████████████████████████████████| 32/32 [00:15<00:00,  2.03it/s]\n",
      "100%|███████████████████████████████████████████| 32/32 [00:15<00:00,  2.00it/s]\n"
     ]
    },
    {
     "name": "stdout",
     "output_type": "stream",
     "text": [
      "(94000, 768)\n",
      "(94000, 768)\n",
      "(94000, 768)\n",
      "(94000, 768)\n",
      "94000\n"
     ]
    },
    {
     "name": "stderr",
     "output_type": "stream",
     "text": [
      "100%|███████████████████████████████████████████| 32/32 [00:15<00:00,  2.05it/s]\n",
      "100%|███████████████████████████████████████████| 32/32 [00:13<00:00,  2.32it/s]\n",
      "100%|███████████████████████████████████████████| 32/32 [00:13<00:00,  2.42it/s]\n",
      "100%|███████████████████████████████████████████| 32/32 [00:12<00:00,  2.65it/s]\n"
     ]
    },
    {
     "name": "stdout",
     "output_type": "stream",
     "text": [
      "(95000, 768)\n",
      "(95000, 768)\n",
      "(95000, 768)\n",
      "(95000, 768)\n",
      "95000\n"
     ]
    },
    {
     "name": "stderr",
     "output_type": "stream",
     "text": [
      "100%|███████████████████████████████████████████| 32/32 [00:11<00:00,  2.87it/s]\n",
      "100%|███████████████████████████████████████████| 32/32 [00:11<00:00,  2.88it/s]\n",
      "100%|███████████████████████████████████████████| 32/32 [00:11<00:00,  2.90it/s]\n",
      "100%|███████████████████████████████████████████| 32/32 [00:10<00:00,  2.93it/s]\n"
     ]
    },
    {
     "name": "stdout",
     "output_type": "stream",
     "text": [
      "(96000, 768)\n",
      "(96000, 768)\n",
      "(96000, 768)\n",
      "(96000, 768)\n",
      "96000\n"
     ]
    },
    {
     "name": "stderr",
     "output_type": "stream",
     "text": [
      "100%|███████████████████████████████████████████| 32/32 [00:13<00:00,  2.42it/s]\n",
      "100%|███████████████████████████████████████████| 32/32 [00:13<00:00,  2.43it/s]\n",
      "100%|███████████████████████████████████████████| 32/32 [00:13<00:00,  2.46it/s]\n",
      "100%|███████████████████████████████████████████| 32/32 [00:12<00:00,  2.49it/s]\n"
     ]
    },
    {
     "name": "stdout",
     "output_type": "stream",
     "text": [
      "(97000, 768)\n",
      "(97000, 768)\n",
      "(97000, 768)\n",
      "(97000, 768)\n",
      "97000\n"
     ]
    },
    {
     "name": "stderr",
     "output_type": "stream",
     "text": [
      "100%|███████████████████████████████████████████| 32/32 [00:12<00:00,  2.66it/s]\n",
      "100%|███████████████████████████████████████████| 32/32 [00:11<00:00,  2.67it/s]\n",
      "100%|███████████████████████████████████████████| 32/32 [00:11<00:00,  2.72it/s]\n",
      "100%|███████████████████████████████████████████| 32/32 [00:11<00:00,  2.70it/s]\n"
     ]
    },
    {
     "name": "stdout",
     "output_type": "stream",
     "text": [
      "(98000, 768)\n",
      "(98000, 768)\n",
      "(98000, 768)\n",
      "(98000, 768)\n",
      "98000\n"
     ]
    },
    {
     "name": "stderr",
     "output_type": "stream",
     "text": [
      "100%|███████████████████████████████████████████| 32/32 [00:14<00:00,  2.24it/s]\n",
      "100%|███████████████████████████████████████████| 32/32 [00:14<00:00,  2.23it/s]\n",
      "100%|███████████████████████████████████████████| 32/32 [00:14<00:00,  2.25it/s]\n",
      "100%|███████████████████████████████████████████| 32/32 [00:14<00:00,  2.27it/s]\n"
     ]
    },
    {
     "name": "stdout",
     "output_type": "stream",
     "text": [
      "(99000, 768)\n",
      "(99000, 768)\n",
      "(99000, 768)\n",
      "(99000, 768)\n",
      "99000\n"
     ]
    },
    {
     "name": "stderr",
     "output_type": "stream",
     "text": [
      "100%|███████████████████████████████████████████| 32/32 [00:12<00:00,  2.62it/s]\n",
      "100%|███████████████████████████████████████████| 32/32 [00:12<00:00,  2.52it/s]\n",
      "100%|███████████████████████████████████████████| 32/32 [00:11<00:00,  2.72it/s]\n",
      "100%|███████████████████████████████████████████| 32/32 [00:11<00:00,  2.70it/s]\n"
     ]
    },
    {
     "name": "stdout",
     "output_type": "stream",
     "text": [
      "(100000, 768)\n",
      "(100000, 768)\n",
      "(100000, 768)\n",
      "(100000, 768)\n",
      "100000\n"
     ]
    },
    {
     "name": "stderr",
     "output_type": "stream",
     "text": [
      "100%|███████████████████████████████████████████| 32/32 [00:15<00:00,  2.05it/s]\n",
      "100%|███████████████████████████████████████████| 32/32 [00:15<00:00,  2.13it/s]\n",
      "100%|███████████████████████████████████████████| 32/32 [00:15<00:00,  2.05it/s]\n",
      "100%|███████████████████████████████████████████| 32/32 [00:15<00:00,  2.10it/s]\n"
     ]
    },
    {
     "name": "stdout",
     "output_type": "stream",
     "text": [
      "(101000, 768)\n",
      "(101000, 768)\n",
      "(101000, 768)\n",
      "(101000, 768)\n",
      "101000\n"
     ]
    },
    {
     "name": "stderr",
     "output_type": "stream",
     "text": [
      "100%|███████████████████████████████████████████| 32/32 [00:11<00:00,  2.72it/s]\n",
      "100%|███████████████████████████████████████████| 32/32 [00:11<00:00,  2.74it/s]\n",
      "100%|███████████████████████████████████████████| 32/32 [00:11<00:00,  2.78it/s]\n",
      "100%|███████████████████████████████████████████| 32/32 [00:11<00:00,  2.78it/s]\n"
     ]
    },
    {
     "name": "stdout",
     "output_type": "stream",
     "text": [
      "(102000, 768)\n",
      "(102000, 768)\n",
      "(102000, 768)\n",
      "(102000, 768)\n",
      "102000\n"
     ]
    },
    {
     "name": "stderr",
     "output_type": "stream",
     "text": [
      "100%|███████████████████████████████████████████| 32/32 [00:13<00:00,  2.37it/s]\n",
      "100%|███████████████████████████████████████████| 32/32 [00:12<00:00,  2.51it/s]\n",
      "100%|███████████████████████████████████████████| 32/32 [00:13<00:00,  2.36it/s]\n",
      "100%|███████████████████████████████████████████| 32/32 [00:13<00:00,  2.43it/s]\n"
     ]
    },
    {
     "name": "stdout",
     "output_type": "stream",
     "text": [
      "(103000, 768)\n",
      "(103000, 768)\n",
      "(103000, 768)\n",
      "(103000, 768)\n",
      "103000\n"
     ]
    },
    {
     "name": "stderr",
     "output_type": "stream",
     "text": [
      "100%|███████████████████████████████████████████| 32/32 [00:14<00:00,  2.28it/s]\n",
      "100%|███████████████████████████████████████████| 32/32 [00:13<00:00,  2.33it/s]\n",
      "100%|███████████████████████████████████████████| 32/32 [00:13<00:00,  2.34it/s]\n",
      "100%|███████████████████████████████████████████| 32/32 [00:13<00:00,  2.35it/s]\n"
     ]
    },
    {
     "name": "stdout",
     "output_type": "stream",
     "text": [
      "(104000, 768)\n",
      "(104000, 768)\n",
      "(104000, 768)\n",
      "(104000, 768)\n",
      "104000\n"
     ]
    },
    {
     "name": "stderr",
     "output_type": "stream",
     "text": [
      "100%|███████████████████████████████████████████| 32/32 [00:14<00:00,  2.18it/s]\n",
      "100%|███████████████████████████████████████████| 32/32 [00:14<00:00,  2.20it/s]\n",
      "100%|███████████████████████████████████████████| 32/32 [00:14<00:00,  2.17it/s]\n",
      "100%|███████████████████████████████████████████| 32/32 [00:14<00:00,  2.20it/s]\n"
     ]
    },
    {
     "name": "stdout",
     "output_type": "stream",
     "text": [
      "(105000, 768)\n",
      "(105000, 768)\n",
      "(105000, 768)\n",
      "(105000, 768)\n",
      "105000\n"
     ]
    },
    {
     "name": "stderr",
     "output_type": "stream",
     "text": [
      "100%|███████████████████████████████████████████| 32/32 [00:13<00:00,  2.46it/s]\n",
      "100%|███████████████████████████████████████████| 32/32 [00:12<00:00,  2.55it/s]\n",
      "100%|███████████████████████████████████████████| 32/32 [00:12<00:00,  2.57it/s]\n",
      "100%|███████████████████████████████████████████| 32/32 [00:12<00:00,  2.56it/s]\n"
     ]
    },
    {
     "name": "stdout",
     "output_type": "stream",
     "text": [
      "(106000, 768)\n",
      "(106000, 768)\n",
      "(106000, 768)\n",
      "(106000, 768)\n",
      "106000\n"
     ]
    },
    {
     "name": "stderr",
     "output_type": "stream",
     "text": [
      "100%|███████████████████████████████████████████| 32/32 [00:13<00:00,  2.35it/s]\n",
      "100%|███████████████████████████████████████████| 32/32 [00:14<00:00,  2.18it/s]\n",
      "100%|███████████████████████████████████████████| 32/32 [00:13<00:00,  2.36it/s]\n",
      "100%|███████████████████████████████████████████| 32/32 [00:13<00:00,  2.40it/s]\n"
     ]
    },
    {
     "name": "stdout",
     "output_type": "stream",
     "text": [
      "(107000, 768)\n",
      "(107000, 768)\n",
      "(107000, 768)\n",
      "(107000, 768)\n",
      "107000\n"
     ]
    },
    {
     "name": "stderr",
     "output_type": "stream",
     "text": [
      "100%|███████████████████████████████████████████| 32/32 [00:13<00:00,  2.41it/s]\n",
      "100%|███████████████████████████████████████████| 32/32 [00:13<00:00,  2.40it/s]\n",
      "100%|███████████████████████████████████████████| 32/32 [00:15<00:00,  2.11it/s]\n",
      "100%|███████████████████████████████████████████| 32/32 [00:12<00:00,  2.49it/s]\n"
     ]
    },
    {
     "name": "stdout",
     "output_type": "stream",
     "text": [
      "(108000, 768)\n",
      "(108000, 768)\n",
      "(108000, 768)\n",
      "(108000, 768)\n",
      "108000\n"
     ]
    },
    {
     "name": "stderr",
     "output_type": "stream",
     "text": [
      "100%|███████████████████████████████████████████| 32/32 [00:12<00:00,  2.63it/s]\n",
      "100%|███████████████████████████████████████████| 32/32 [00:11<00:00,  2.67it/s]\n",
      "100%|███████████████████████████████████████████| 32/32 [00:12<00:00,  2.67it/s]\n",
      "100%|███████████████████████████████████████████| 32/32 [00:12<00:00,  2.67it/s]\n"
     ]
    },
    {
     "name": "stdout",
     "output_type": "stream",
     "text": [
      "(109000, 768)\n",
      "(109000, 768)\n",
      "(109000, 768)\n",
      "(109000, 768)\n",
      "109000\n"
     ]
    },
    {
     "name": "stderr",
     "output_type": "stream",
     "text": [
      "100%|███████████████████████████████████████████| 32/32 [00:13<00:00,  2.37it/s]\n",
      "100%|███████████████████████████████████████████| 32/32 [00:12<00:00,  2.49it/s]\n",
      "100%|███████████████████████████████████████████| 32/32 [00:12<00:00,  2.47it/s]\n",
      "100%|███████████████████████████████████████████| 32/32 [00:12<00:00,  2.53it/s]\n"
     ]
    },
    {
     "name": "stdout",
     "output_type": "stream",
     "text": [
      "(110000, 768)\n",
      "(110000, 768)\n",
      "(110000, 768)\n",
      "(110000, 768)\n",
      "110000\n"
     ]
    },
    {
     "name": "stderr",
     "output_type": "stream",
     "text": [
      "100%|███████████████████████████████████████████| 32/32 [00:14<00:00,  2.26it/s]\n",
      "100%|███████████████████████████████████████████| 32/32 [00:14<00:00,  2.22it/s]\n",
      "100%|███████████████████████████████████████████| 32/32 [00:14<00:00,  2.21it/s]\n",
      "100%|███████████████████████████████████████████| 32/32 [00:13<00:00,  2.29it/s]\n"
     ]
    },
    {
     "name": "stdout",
     "output_type": "stream",
     "text": [
      "(111000, 768)\n",
      "(111000, 768)\n",
      "(111000, 768)\n",
      "(111000, 768)\n",
      "111000\n"
     ]
    },
    {
     "name": "stderr",
     "output_type": "stream",
     "text": [
      "100%|███████████████████████████████████████████| 32/32 [00:12<00:00,  2.50it/s]\n",
      "100%|███████████████████████████████████████████| 32/32 [00:12<00:00,  2.55it/s]\n",
      "100%|███████████████████████████████████████████| 32/32 [00:12<00:00,  2.57it/s]\n",
      "100%|███████████████████████████████████████████| 32/32 [00:12<00:00,  2.52it/s]\n"
     ]
    },
    {
     "name": "stdout",
     "output_type": "stream",
     "text": [
      "(112000, 768)\n",
      "(112000, 768)\n",
      "(112000, 768)\n",
      "(112000, 768)\n",
      "112000\n"
     ]
    },
    {
     "name": "stderr",
     "output_type": "stream",
     "text": [
      "100%|███████████████████████████████████████████| 32/32 [00:15<00:00,  2.05it/s]\n",
      "100%|███████████████████████████████████████████| 32/32 [00:15<00:00,  2.07it/s]\n",
      "100%|███████████████████████████████████████████| 32/32 [00:17<00:00,  1.87it/s]\n",
      "100%|███████████████████████████████████████████| 32/32 [00:15<00:00,  2.07it/s]\n"
     ]
    },
    {
     "name": "stdout",
     "output_type": "stream",
     "text": [
      "(113000, 768)\n",
      "(113000, 768)\n",
      "(113000, 768)\n",
      "(113000, 768)\n",
      "113000\n"
     ]
    },
    {
     "name": "stderr",
     "output_type": "stream",
     "text": [
      "100%|███████████████████████████████████████████| 32/32 [00:13<00:00,  2.34it/s]\n",
      "100%|███████████████████████████████████████████| 32/32 [00:12<00:00,  2.57it/s]\n",
      "100%|███████████████████████████████████████████| 32/32 [00:12<00:00,  2.56it/s]\n",
      "100%|███████████████████████████████████████████| 32/32 [00:12<00:00,  2.59it/s]\n"
     ]
    },
    {
     "name": "stdout",
     "output_type": "stream",
     "text": [
      "(114000, 768)\n",
      "(114000, 768)\n",
      "(114000, 768)\n",
      "(114000, 768)\n",
      "114000\n"
     ]
    },
    {
     "name": "stderr",
     "output_type": "stream",
     "text": [
      "100%|███████████████████████████████████████████| 32/32 [00:15<00:00,  2.11it/s]\n",
      "100%|███████████████████████████████████████████| 32/32 [00:14<00:00,  2.19it/s]\n",
      "100%|███████████████████████████████████████████| 32/32 [00:14<00:00,  2.18it/s]\n",
      "100%|███████████████████████████████████████████| 32/32 [00:14<00:00,  2.14it/s]\n"
     ]
    },
    {
     "name": "stdout",
     "output_type": "stream",
     "text": [
      "(115000, 768)\n",
      "(115000, 768)\n",
      "(115000, 768)\n",
      "(115000, 768)\n",
      "115000\n"
     ]
    },
    {
     "name": "stderr",
     "output_type": "stream",
     "text": [
      "100%|███████████████████████████████████████████| 32/32 [00:11<00:00,  2.70it/s]\n",
      "100%|███████████████████████████████████████████| 32/32 [00:11<00:00,  2.77it/s]\n",
      "100%|███████████████████████████████████████████| 32/32 [00:11<00:00,  2.77it/s]\n",
      "100%|███████████████████████████████████████████| 32/32 [00:11<00:00,  2.79it/s]\n"
     ]
    },
    {
     "name": "stdout",
     "output_type": "stream",
     "text": [
      "(116000, 768)\n",
      "(116000, 768)\n",
      "(116000, 768)\n",
      "(116000, 768)\n",
      "116000\n"
     ]
    },
    {
     "name": "stderr",
     "output_type": "stream",
     "text": [
      "100%|███████████████████████████████████████████| 32/32 [00:11<00:00,  2.87it/s]\n",
      "100%|███████████████████████████████████████████| 32/32 [00:11<00:00,  2.86it/s]\n",
      "100%|███████████████████████████████████████████| 32/32 [00:11<00:00,  2.89it/s]\n",
      "100%|███████████████████████████████████████████| 32/32 [00:10<00:00,  2.94it/s]\n"
     ]
    },
    {
     "name": "stdout",
     "output_type": "stream",
     "text": [
      "(117000, 768)\n",
      "(117000, 768)\n",
      "(117000, 768)\n",
      "(117000, 768)\n",
      "117000\n"
     ]
    },
    {
     "name": "stderr",
     "output_type": "stream",
     "text": [
      "100%|███████████████████████████████████████████| 32/32 [00:12<00:00,  2.48it/s]\n",
      "100%|███████████████████████████████████████████| 32/32 [00:12<00:00,  2.53it/s]\n",
      "100%|███████████████████████████████████████████| 32/32 [00:13<00:00,  2.44it/s]\n",
      "100%|███████████████████████████████████████████| 32/32 [00:12<00:00,  2.48it/s]\n"
     ]
    },
    {
     "name": "stdout",
     "output_type": "stream",
     "text": [
      "(118000, 768)\n",
      "(118000, 768)\n",
      "(118000, 768)\n",
      "(118000, 768)\n",
      "118000\n"
     ]
    },
    {
     "name": "stderr",
     "output_type": "stream",
     "text": [
      "100%|███████████████████████████████████████████| 32/32 [00:12<00:00,  2.49it/s]\n",
      "100%|███████████████████████████████████████████| 32/32 [00:12<00:00,  2.58it/s]\n",
      "100%|███████████████████████████████████████████| 32/32 [00:12<00:00,  2.60it/s]\n",
      "100%|███████████████████████████████████████████| 32/32 [00:12<00:00,  2.58it/s]\n"
     ]
    },
    {
     "name": "stdout",
     "output_type": "stream",
     "text": [
      "(119000, 768)\n",
      "(119000, 768)\n",
      "(119000, 768)\n",
      "(119000, 768)\n",
      "119000\n"
     ]
    },
    {
     "name": "stderr",
     "output_type": "stream",
     "text": [
      "100%|███████████████████████████████████████████| 32/32 [00:12<00:00,  2.50it/s]\n",
      "100%|███████████████████████████████████████████| 32/32 [00:12<00:00,  2.46it/s]\n",
      "100%|███████████████████████████████████████████| 32/32 [00:12<00:00,  2.48it/s]\n",
      "100%|███████████████████████████████████████████| 32/32 [00:12<00:00,  2.50it/s]\n"
     ]
    },
    {
     "name": "stdout",
     "output_type": "stream",
     "text": [
      "(120000, 768)\n",
      "(120000, 768)\n",
      "(120000, 768)\n",
      "(120000, 768)\n",
      "120000\n"
     ]
    },
    {
     "name": "stderr",
     "output_type": "stream",
     "text": [
      "100%|███████████████████████████████████████████| 32/32 [00:12<00:00,  2.60it/s]\n",
      "100%|███████████████████████████████████████████| 32/32 [00:11<00:00,  2.67it/s]\n",
      "100%|███████████████████████████████████████████| 32/32 [00:12<00:00,  2.64it/s]\n",
      "100%|███████████████████████████████████████████| 32/32 [00:12<00:00,  2.65it/s]\n"
     ]
    },
    {
     "name": "stdout",
     "output_type": "stream",
     "text": [
      "(121000, 768)\n",
      "(121000, 768)\n",
      "(121000, 768)\n",
      "(121000, 768)\n",
      "121000\n"
     ]
    },
    {
     "name": "stderr",
     "output_type": "stream",
     "text": [
      "100%|███████████████████████████████████████████| 32/32 [00:15<00:00,  2.07it/s]\n",
      "100%|███████████████████████████████████████████| 32/32 [00:15<00:00,  2.11it/s]\n",
      "100%|███████████████████████████████████████████| 32/32 [00:15<00:00,  2.08it/s]\n",
      "100%|███████████████████████████████████████████| 32/32 [00:14<00:00,  2.16it/s]\n"
     ]
    },
    {
     "name": "stdout",
     "output_type": "stream",
     "text": [
      "(122000, 768)\n",
      "(122000, 768)\n",
      "(122000, 768)\n",
      "(122000, 768)\n",
      "122000\n"
     ]
    },
    {
     "name": "stderr",
     "output_type": "stream",
     "text": [
      "100%|███████████████████████████████████████████| 32/32 [00:12<00:00,  2.46it/s]\n",
      "100%|███████████████████████████████████████████| 32/32 [00:12<00:00,  2.56it/s]\n",
      "100%|███████████████████████████████████████████| 32/32 [00:12<00:00,  2.55it/s]\n",
      "100%|███████████████████████████████████████████| 32/32 [00:12<00:00,  2.52it/s]\n"
     ]
    },
    {
     "name": "stdout",
     "output_type": "stream",
     "text": [
      "(123000, 768)\n",
      "(123000, 768)\n",
      "(123000, 768)\n",
      "(123000, 768)\n",
      "123000\n"
     ]
    },
    {
     "name": "stderr",
     "output_type": "stream",
     "text": [
      "100%|███████████████████████████████████████████| 32/32 [00:12<00:00,  2.55it/s]\n",
      "100%|███████████████████████████████████████████| 32/32 [00:12<00:00,  2.51it/s]\n",
      "100%|███████████████████████████████████████████| 32/32 [00:12<00:00,  2.55it/s]\n",
      "100%|███████████████████████████████████████████| 32/32 [00:12<00:00,  2.61it/s]\n"
     ]
    },
    {
     "name": "stdout",
     "output_type": "stream",
     "text": [
      "(124000, 768)\n",
      "(124000, 768)\n",
      "(124000, 768)\n",
      "(124000, 768)\n",
      "124000\n"
     ]
    },
    {
     "name": "stderr",
     "output_type": "stream",
     "text": [
      "100%|███████████████████████████████████████████| 32/32 [00:13<00:00,  2.30it/s]\n",
      "100%|███████████████████████████████████████████| 32/32 [00:13<00:00,  2.40it/s]\n",
      "100%|███████████████████████████████████████████| 32/32 [00:12<00:00,  2.48it/s]\n",
      "100%|███████████████████████████████████████████| 32/32 [00:13<00:00,  2.42it/s]\n"
     ]
    },
    {
     "name": "stdout",
     "output_type": "stream",
     "text": [
      "(125000, 768)\n",
      "(125000, 768)\n",
      "(125000, 768)\n",
      "(125000, 768)\n",
      "125000\n"
     ]
    },
    {
     "name": "stderr",
     "output_type": "stream",
     "text": [
      "100%|███████████████████████████████████████████| 32/32 [00:13<00:00,  2.45it/s]\n",
      "100%|███████████████████████████████████████████| 32/32 [00:12<00:00,  2.52it/s]\n",
      "100%|███████████████████████████████████████████| 32/32 [00:13<00:00,  2.45it/s]\n",
      "100%|███████████████████████████████████████████| 32/32 [00:13<00:00,  2.44it/s]\n"
     ]
    },
    {
     "name": "stdout",
     "output_type": "stream",
     "text": [
      "(126000, 768)\n",
      "(126000, 768)\n",
      "(126000, 768)\n",
      "(126000, 768)\n",
      "126000\n"
     ]
    },
    {
     "name": "stderr",
     "output_type": "stream",
     "text": [
      "100%|███████████████████████████████████████████| 32/32 [00:12<00:00,  2.65it/s]\n",
      "100%|███████████████████████████████████████████| 32/32 [00:12<00:00,  2.54it/s]\n",
      "100%|███████████████████████████████████████████| 32/32 [00:11<00:00,  2.74it/s]\n",
      "100%|███████████████████████████████████████████| 32/32 [00:11<00:00,  2.71it/s]\n"
     ]
    },
    {
     "name": "stdout",
     "output_type": "stream",
     "text": [
      "(127000, 768)\n",
      "(127000, 768)\n",
      "(127000, 768)\n",
      "(127000, 768)\n",
      "127000\n"
     ]
    },
    {
     "name": "stderr",
     "output_type": "stream",
     "text": [
      "100%|███████████████████████████████████████████| 32/32 [00:11<00:00,  2.73it/s]\n",
      "100%|███████████████████████████████████████████| 32/32 [00:11<00:00,  2.78it/s]\n",
      "100%|███████████████████████████████████████████| 32/32 [00:11<00:00,  2.79it/s]\n",
      "100%|███████████████████████████████████████████| 32/32 [00:12<00:00,  2.57it/s]\n"
     ]
    },
    {
     "name": "stdout",
     "output_type": "stream",
     "text": [
      "(128000, 768)\n",
      "(128000, 768)\n",
      "(128000, 768)\n",
      "(128000, 768)\n",
      "128000\n"
     ]
    },
    {
     "name": "stderr",
     "output_type": "stream",
     "text": [
      "100%|███████████████████████████████████████████| 32/32 [00:13<00:00,  2.37it/s]\n",
      "100%|███████████████████████████████████████████| 32/32 [00:13<00:00,  2.34it/s]\n",
      "100%|███████████████████████████████████████████| 32/32 [00:13<00:00,  2.36it/s]\n",
      "100%|███████████████████████████████████████████| 32/32 [00:13<00:00,  2.44it/s]\n"
     ]
    },
    {
     "name": "stdout",
     "output_type": "stream",
     "text": [
      "(129000, 768)\n",
      "(129000, 768)\n",
      "(129000, 768)\n",
      "(129000, 768)\n",
      "129000\n"
     ]
    },
    {
     "name": "stderr",
     "output_type": "stream",
     "text": [
      "100%|███████████████████████████████████████████| 32/32 [00:12<00:00,  2.49it/s]\n",
      "100%|███████████████████████████████████████████| 32/32 [00:12<00:00,  2.54it/s]\n",
      "100%|███████████████████████████████████████████| 32/32 [00:12<00:00,  2.61it/s]\n",
      "100%|███████████████████████████████████████████| 32/32 [00:12<00:00,  2.61it/s]\n"
     ]
    },
    {
     "name": "stdout",
     "output_type": "stream",
     "text": [
      "(130000, 768)\n",
      "(130000, 768)\n",
      "(130000, 768)\n",
      "(130000, 768)\n",
      "130000\n"
     ]
    },
    {
     "name": "stderr",
     "output_type": "stream",
     "text": [
      "100%|███████████████████████████████████████████| 32/32 [00:12<00:00,  2.61it/s]\n",
      "100%|███████████████████████████████████████████| 32/32 [00:11<00:00,  2.81it/s]\n",
      "100%|███████████████████████████████████████████| 32/32 [00:11<00:00,  2.83it/s]\n",
      "100%|███████████████████████████████████████████| 32/32 [00:11<00:00,  2.82it/s]\n"
     ]
    },
    {
     "name": "stdout",
     "output_type": "stream",
     "text": [
      "(131000, 768)\n",
      "(131000, 768)\n",
      "(131000, 768)\n",
      "(131000, 768)\n",
      "131000\n"
     ]
    },
    {
     "name": "stderr",
     "output_type": "stream",
     "text": [
      "100%|███████████████████████████████████████████| 32/32 [00:13<00:00,  2.40it/s]\n",
      "100%|███████████████████████████████████████████| 32/32 [00:12<00:00,  2.47it/s]\n",
      "100%|███████████████████████████████████████████| 32/32 [00:13<00:00,  2.43it/s]\n",
      "100%|███████████████████████████████████████████| 32/32 [00:13<00:00,  2.44it/s]\n"
     ]
    },
    {
     "name": "stdout",
     "output_type": "stream",
     "text": [
      "(132000, 768)\n",
      "(132000, 768)\n",
      "(132000, 768)\n",
      "(132000, 768)\n",
      "132000\n"
     ]
    },
    {
     "name": "stderr",
     "output_type": "stream",
     "text": [
      "100%|███████████████████████████████████████████| 32/32 [00:14<00:00,  2.18it/s]\n",
      "100%|███████████████████████████████████████████| 32/32 [00:13<00:00,  2.37it/s]\n",
      "100%|███████████████████████████████████████████| 32/32 [00:12<00:00,  2.48it/s]\n",
      "100%|███████████████████████████████████████████| 32/32 [00:13<00:00,  2.44it/s]\n"
     ]
    },
    {
     "name": "stdout",
     "output_type": "stream",
     "text": [
      "(133000, 768)\n",
      "(133000, 768)\n",
      "(133000, 768)\n",
      "(133000, 768)\n",
      "133000\n"
     ]
    },
    {
     "name": "stderr",
     "output_type": "stream",
     "text": [
      "100%|███████████████████████████████████████████| 32/32 [00:10<00:00,  3.07it/s]\n",
      "100%|███████████████████████████████████████████| 32/32 [00:10<00:00,  3.12it/s]\n",
      "100%|███████████████████████████████████████████| 32/32 [00:10<00:00,  3.05it/s]\n",
      "100%|███████████████████████████████████████████| 32/32 [00:10<00:00,  3.05it/s]\n"
     ]
    },
    {
     "name": "stdout",
     "output_type": "stream",
     "text": [
      "(134000, 768)\n",
      "(134000, 768)\n",
      "(134000, 768)\n",
      "(134000, 768)\n",
      "134000\n"
     ]
    },
    {
     "name": "stderr",
     "output_type": "stream",
     "text": [
      "100%|███████████████████████████████████████████| 32/32 [00:14<00:00,  2.18it/s]\n",
      "100%|███████████████████████████████████████████| 32/32 [00:14<00:00,  2.20it/s]\n",
      "100%|███████████████████████████████████████████| 32/32 [00:14<00:00,  2.18it/s]\n",
      "100%|███████████████████████████████████████████| 32/32 [00:14<00:00,  2.17it/s]\n"
     ]
    },
    {
     "name": "stdout",
     "output_type": "stream",
     "text": [
      "(135000, 768)\n",
      "(135000, 768)\n",
      "(135000, 768)\n",
      "(135000, 768)\n",
      "135000\n"
     ]
    },
    {
     "name": "stderr",
     "output_type": "stream",
     "text": [
      "100%|███████████████████████████████████████████| 32/32 [00:11<00:00,  2.73it/s]\n",
      "100%|███████████████████████████████████████████| 32/32 [00:11<00:00,  2.80it/s]\n",
      "100%|███████████████████████████████████████████| 32/32 [00:11<00:00,  2.73it/s]\n",
      "100%|███████████████████████████████████████████| 32/32 [00:11<00:00,  2.77it/s]\n"
     ]
    },
    {
     "name": "stdout",
     "output_type": "stream",
     "text": [
      "(136000, 768)\n",
      "(136000, 768)\n",
      "(136000, 768)\n",
      "(136000, 768)\n",
      "136000\n"
     ]
    },
    {
     "name": "stderr",
     "output_type": "stream",
     "text": [
      "100%|███████████████████████████████████████████| 32/32 [00:12<00:00,  2.67it/s]\n",
      "100%|███████████████████████████████████████████| 32/32 [00:11<00:00,  2.68it/s]\n",
      "100%|███████████████████████████████████████████| 32/32 [00:13<00:00,  2.43it/s]\n",
      "100%|███████████████████████████████████████████| 32/32 [00:11<00:00,  2.69it/s]\n"
     ]
    },
    {
     "name": "stdout",
     "output_type": "stream",
     "text": [
      "(137000, 768)\n",
      "(137000, 768)\n",
      "(137000, 768)\n",
      "(137000, 768)\n",
      "137000\n"
     ]
    },
    {
     "name": "stderr",
     "output_type": "stream",
     "text": [
      "100%|███████████████████████████████████████████| 32/32 [00:13<00:00,  2.30it/s]\n",
      "100%|███████████████████████████████████████████| 32/32 [00:13<00:00,  2.35it/s]\n",
      "100%|███████████████████████████████████████████| 32/32 [00:13<00:00,  2.41it/s]\n",
      "100%|███████████████████████████████████████████| 32/32 [00:13<00:00,  2.41it/s]\n"
     ]
    },
    {
     "name": "stdout",
     "output_type": "stream",
     "text": [
      "(138000, 768)\n",
      "(138000, 768)\n",
      "(138000, 768)\n",
      "(138000, 768)\n",
      "138000\n"
     ]
    },
    {
     "name": "stderr",
     "output_type": "stream",
     "text": [
      "100%|███████████████████████████████████████████| 32/32 [00:12<00:00,  2.59it/s]\n",
      "100%|███████████████████████████████████████████| 32/32 [00:12<00:00,  2.66it/s]\n",
      "100%|███████████████████████████████████████████| 32/32 [00:12<00:00,  2.59it/s]\n",
      "100%|███████████████████████████████████████████| 32/32 [00:12<00:00,  2.63it/s]\n"
     ]
    },
    {
     "name": "stdout",
     "output_type": "stream",
     "text": [
      "(139000, 768)\n",
      "(139000, 768)\n",
      "(139000, 768)\n",
      "(139000, 768)\n",
      "139000\n"
     ]
    },
    {
     "name": "stderr",
     "output_type": "stream",
     "text": [
      "100%|███████████████████████████████████████████| 32/32 [00:12<00:00,  2.57it/s]\n",
      "100%|███████████████████████████████████████████| 32/32 [00:12<00:00,  2.62it/s]\n",
      "100%|███████████████████████████████████████████| 32/32 [00:12<00:00,  2.56it/s]\n",
      "100%|███████████████████████████████████████████| 32/32 [00:12<00:00,  2.54it/s]\n"
     ]
    },
    {
     "name": "stdout",
     "output_type": "stream",
     "text": [
      "(140000, 768)\n",
      "(140000, 768)\n",
      "(140000, 768)\n",
      "(140000, 768)\n",
      "140000\n"
     ]
    },
    {
     "name": "stderr",
     "output_type": "stream",
     "text": [
      "100%|███████████████████████████████████████████| 32/32 [00:12<00:00,  2.57it/s]\n",
      "100%|███████████████████████████████████████████| 32/32 [00:12<00:00,  2.58it/s]\n",
      "100%|███████████████████████████████████████████| 32/32 [00:12<00:00,  2.50it/s]\n",
      "100%|███████████████████████████████████████████| 32/32 [00:12<00:00,  2.57it/s]\n"
     ]
    },
    {
     "name": "stdout",
     "output_type": "stream",
     "text": [
      "(141000, 768)\n",
      "(141000, 768)\n",
      "(141000, 768)\n",
      "(141000, 768)\n",
      "141000\n"
     ]
    },
    {
     "name": "stderr",
     "output_type": "stream",
     "text": [
      "100%|███████████████████████████████████████████| 32/32 [00:13<00:00,  2.43it/s]\n",
      "100%|███████████████████████████████████████████| 32/32 [00:12<00:00,  2.48it/s]\n",
      "100%|███████████████████████████████████████████| 32/32 [00:12<00:00,  2.55it/s]\n",
      "100%|███████████████████████████████████████████| 32/32 [00:12<00:00,  2.52it/s]\n"
     ]
    },
    {
     "name": "stdout",
     "output_type": "stream",
     "text": [
      "(142000, 768)\n",
      "(142000, 768)\n",
      "(142000, 768)\n",
      "(142000, 768)\n",
      "142000\n"
     ]
    },
    {
     "name": "stderr",
     "output_type": "stream",
     "text": [
      "100%|███████████████████████████████████████████| 32/32 [00:14<00:00,  2.27it/s]\n",
      "100%|███████████████████████████████████████████| 32/32 [00:14<00:00,  2.23it/s]\n",
      "100%|███████████████████████████████████████████| 32/32 [00:13<00:00,  2.36it/s]\n",
      "100%|███████████████████████████████████████████| 32/32 [00:13<00:00,  2.34it/s]\n"
     ]
    },
    {
     "name": "stdout",
     "output_type": "stream",
     "text": [
      "(143000, 768)\n",
      "(143000, 768)\n",
      "(143000, 768)\n",
      "(143000, 768)\n",
      "143000\n"
     ]
    },
    {
     "name": "stderr",
     "output_type": "stream",
     "text": [
      "100%|███████████████████████████████████████████| 32/32 [00:10<00:00,  3.02it/s]\n",
      "100%|███████████████████████████████████████████| 32/32 [00:10<00:00,  3.14it/s]\n",
      "100%|███████████████████████████████████████████| 32/32 [00:10<00:00,  3.15it/s]\n",
      "100%|███████████████████████████████████████████| 32/32 [00:10<00:00,  3.01it/s]\n"
     ]
    },
    {
     "name": "stdout",
     "output_type": "stream",
     "text": [
      "(144000, 768)\n",
      "(144000, 768)\n",
      "(144000, 768)\n",
      "(144000, 768)\n",
      "144000\n"
     ]
    },
    {
     "name": "stderr",
     "output_type": "stream",
     "text": [
      "100%|███████████████████████████████████████████| 32/32 [00:14<00:00,  2.19it/s]\n",
      "100%|███████████████████████████████████████████| 32/32 [00:14<00:00,  2.27it/s]\n",
      "100%|███████████████████████████████████████████| 32/32 [00:14<00:00,  2.22it/s]\n",
      "100%|███████████████████████████████████████████| 32/32 [00:13<00:00,  2.34it/s]\n"
     ]
    },
    {
     "name": "stdout",
     "output_type": "stream",
     "text": [
      "(145000, 768)\n",
      "(145000, 768)\n",
      "(145000, 768)\n",
      "(145000, 768)\n",
      "145000\n"
     ]
    },
    {
     "name": "stderr",
     "output_type": "stream",
     "text": [
      "100%|███████████████████████████████████████████| 32/32 [00:13<00:00,  2.33it/s]\n",
      "100%|███████████████████████████████████████████| 32/32 [00:13<00:00,  2.32it/s]\n",
      "100%|███████████████████████████████████████████| 32/32 [00:13<00:00,  2.35it/s]\n",
      "100%|███████████████████████████████████████████| 32/32 [00:14<00:00,  2.28it/s]\n"
     ]
    },
    {
     "name": "stdout",
     "output_type": "stream",
     "text": [
      "(146000, 768)\n",
      "(146000, 768)\n",
      "(146000, 768)\n",
      "(146000, 768)\n",
      "146000\n"
     ]
    },
    {
     "name": "stderr",
     "output_type": "stream",
     "text": [
      "100%|███████████████████████████████████████████| 32/32 [00:15<00:00,  2.13it/s]\n",
      "100%|███████████████████████████████████████████| 32/32 [00:13<00:00,  2.32it/s]\n",
      "100%|███████████████████████████████████████████| 32/32 [00:13<00:00,  2.30it/s]\n",
      "100%|███████████████████████████████████████████| 32/32 [00:13<00:00,  2.29it/s]\n"
     ]
    },
    {
     "name": "stdout",
     "output_type": "stream",
     "text": [
      "(147000, 768)\n",
      "(147000, 768)\n",
      "(147000, 768)\n",
      "(147000, 768)\n",
      "147000\n"
     ]
    },
    {
     "name": "stderr",
     "output_type": "stream",
     "text": [
      "100%|███████████████████████████████████████████| 32/32 [00:11<00:00,  2.69it/s]\n",
      "100%|███████████████████████████████████████████| 32/32 [00:11<00:00,  2.73it/s]\n",
      "100%|███████████████████████████████████████████| 32/32 [00:11<00:00,  2.73it/s]\n",
      "100%|███████████████████████████████████████████| 32/32 [00:11<00:00,  2.70it/s]\n"
     ]
    },
    {
     "name": "stdout",
     "output_type": "stream",
     "text": [
      "(148000, 768)\n",
      "(148000, 768)\n",
      "(148000, 768)\n",
      "(148000, 768)\n",
      "148000\n"
     ]
    },
    {
     "name": "stderr",
     "output_type": "stream",
     "text": [
      "100%|███████████████████████████████████████████| 32/32 [00:12<00:00,  2.58it/s]\n",
      "100%|███████████████████████████████████████████| 32/32 [00:13<00:00,  2.40it/s]\n",
      "100%|███████████████████████████████████████████| 32/32 [00:12<00:00,  2.62it/s]\n",
      "100%|███████████████████████████████████████████| 32/32 [00:11<00:00,  2.70it/s]\n"
     ]
    },
    {
     "name": "stdout",
     "output_type": "stream",
     "text": [
      "(149000, 768)\n",
      "(149000, 768)\n",
      "(149000, 768)\n",
      "(149000, 768)\n",
      "149000\n"
     ]
    },
    {
     "name": "stderr",
     "output_type": "stream",
     "text": [
      "100%|███████████████████████████████████████████| 32/32 [00:12<00:00,  2.54it/s]\n",
      "100%|███████████████████████████████████████████| 32/32 [00:12<00:00,  2.59it/s]\n",
      "100%|███████████████████████████████████████████| 32/32 [00:12<00:00,  2.57it/s]\n",
      "100%|███████████████████████████████████████████| 32/32 [00:12<00:00,  2.60it/s]\n"
     ]
    },
    {
     "name": "stdout",
     "output_type": "stream",
     "text": [
      "(150000, 768)\n",
      "(150000, 768)\n",
      "(150000, 768)\n",
      "(150000, 768)\n",
      "150000\n"
     ]
    },
    {
     "name": "stderr",
     "output_type": "stream",
     "text": [
      "100%|███████████████████████████████████████████| 32/32 [00:12<00:00,  2.58it/s]\n",
      "100%|███████████████████████████████████████████| 32/32 [00:12<00:00,  2.54it/s]\n",
      "100%|███████████████████████████████████████████| 32/32 [00:12<00:00,  2.55it/s]\n",
      "100%|███████████████████████████████████████████| 32/32 [00:12<00:00,  2.57it/s]\n"
     ]
    },
    {
     "name": "stdout",
     "output_type": "stream",
     "text": [
      "(151000, 768)\n",
      "(151000, 768)\n",
      "(151000, 768)\n",
      "(151000, 768)\n",
      "151000\n"
     ]
    },
    {
     "name": "stderr",
     "output_type": "stream",
     "text": [
      "100%|███████████████████████████████████████████| 32/32 [00:13<00:00,  2.31it/s]\n",
      "100%|███████████████████████████████████████████| 32/32 [00:14<00:00,  2.25it/s]\n",
      "100%|███████████████████████████████████████████| 32/32 [00:13<00:00,  2.32it/s]\n",
      "100%|███████████████████████████████████████████| 32/32 [00:13<00:00,  2.29it/s]\n"
     ]
    },
    {
     "name": "stdout",
     "output_type": "stream",
     "text": [
      "(152000, 768)\n",
      "(152000, 768)\n",
      "(152000, 768)\n",
      "(152000, 768)\n",
      "152000\n"
     ]
    },
    {
     "name": "stderr",
     "output_type": "stream",
     "text": [
      "100%|███████████████████████████████████████████| 32/32 [00:14<00:00,  2.14it/s]\n",
      "100%|███████████████████████████████████████████| 32/32 [00:14<00:00,  2.22it/s]\n",
      "100%|███████████████████████████████████████████| 32/32 [00:14<00:00,  2.18it/s]\n",
      "100%|███████████████████████████████████████████| 32/32 [00:14<00:00,  2.16it/s]\n"
     ]
    },
    {
     "name": "stdout",
     "output_type": "stream",
     "text": [
      "(153000, 768)\n",
      "(153000, 768)\n",
      "(153000, 768)\n",
      "(153000, 768)\n",
      "153000\n"
     ]
    },
    {
     "name": "stderr",
     "output_type": "stream",
     "text": [
      "100%|███████████████████████████████████████████| 32/32 [00:13<00:00,  2.45it/s]\n",
      "100%|███████████████████████████████████████████| 32/32 [00:13<00:00,  2.46it/s]\n",
      "100%|███████████████████████████████████████████| 32/32 [00:12<00:00,  2.51it/s]\n",
      "100%|███████████████████████████████████████████| 32/32 [00:12<00:00,  2.50it/s]\n"
     ]
    },
    {
     "name": "stdout",
     "output_type": "stream",
     "text": [
      "(154000, 768)\n",
      "(154000, 768)\n",
      "(154000, 768)\n",
      "(154000, 768)\n",
      "154000\n"
     ]
    },
    {
     "name": "stderr",
     "output_type": "stream",
     "text": [
      "100%|███████████████████████████████████████████| 32/32 [00:13<00:00,  2.33it/s]\n",
      "100%|███████████████████████████████████████████| 32/32 [00:13<00:00,  2.37it/s]\n",
      "100%|███████████████████████████████████████████| 32/32 [00:13<00:00,  2.39it/s]\n",
      "100%|███████████████████████████████████████████| 32/32 [00:13<00:00,  2.43it/s]\n"
     ]
    },
    {
     "name": "stdout",
     "output_type": "stream",
     "text": [
      "(155000, 768)\n",
      "(155000, 768)\n",
      "(155000, 768)\n",
      "(155000, 768)\n",
      "155000\n"
     ]
    },
    {
     "name": "stderr",
     "output_type": "stream",
     "text": [
      "100%|███████████████████████████████████████████| 32/32 [00:13<00:00,  2.41it/s]\n",
      "100%|███████████████████████████████████████████| 32/32 [00:13<00:00,  2.32it/s]\n",
      "100%|███████████████████████████████████████████| 32/32 [00:13<00:00,  2.34it/s]\n",
      "100%|███████████████████████████████████████████| 32/32 [00:13<00:00,  2.39it/s]\n"
     ]
    },
    {
     "name": "stdout",
     "output_type": "stream",
     "text": [
      "(156000, 768)\n",
      "(156000, 768)\n",
      "(156000, 768)\n",
      "(156000, 768)\n",
      "156000\n"
     ]
    },
    {
     "name": "stderr",
     "output_type": "stream",
     "text": [
      "100%|███████████████████████████████████████████| 32/32 [00:13<00:00,  2.39it/s]\n",
      "100%|███████████████████████████████████████████| 32/32 [00:13<00:00,  2.45it/s]\n",
      "100%|███████████████████████████████████████████| 32/32 [00:12<00:00,  2.55it/s]\n",
      "100%|███████████████████████████████████████████| 32/32 [00:12<00:00,  2.49it/s]\n"
     ]
    },
    {
     "name": "stdout",
     "output_type": "stream",
     "text": [
      "(157000, 768)\n",
      "(157000, 768)\n",
      "(157000, 768)\n",
      "(157000, 768)\n",
      "157000\n"
     ]
    },
    {
     "name": "stderr",
     "output_type": "stream",
     "text": [
      "100%|███████████████████████████████████████████| 32/32 [00:13<00:00,  2.38it/s]\n",
      "100%|███████████████████████████████████████████| 32/32 [00:13<00:00,  2.44it/s]\n",
      "100%|███████████████████████████████████████████| 32/32 [00:13<00:00,  2.41it/s]\n",
      "100%|███████████████████████████████████████████| 32/32 [00:13<00:00,  2.36it/s]\n"
     ]
    },
    {
     "name": "stdout",
     "output_type": "stream",
     "text": [
      "(158000, 768)\n",
      "(158000, 768)\n",
      "(158000, 768)\n",
      "(158000, 768)\n",
      "158000\n"
     ]
    },
    {
     "name": "stderr",
     "output_type": "stream",
     "text": [
      "100%|███████████████████████████████████████████| 32/32 [00:13<00:00,  2.41it/s]\n",
      "100%|███████████████████████████████████████████| 32/32 [00:13<00:00,  2.46it/s]\n",
      "100%|███████████████████████████████████████████| 32/32 [00:13<00:00,  2.44it/s]\n",
      "100%|███████████████████████████████████████████| 32/32 [00:12<00:00,  2.53it/s]\n"
     ]
    },
    {
     "name": "stdout",
     "output_type": "stream",
     "text": [
      "(159000, 768)\n",
      "(159000, 768)\n",
      "(159000, 768)\n",
      "(159000, 768)\n",
      "159000\n"
     ]
    },
    {
     "name": "stderr",
     "output_type": "stream",
     "text": [
      "100%|███████████████████████████████████████████| 32/32 [00:12<00:00,  2.47it/s]\n",
      "100%|███████████████████████████████████████████| 32/32 [00:12<00:00,  2.47it/s]\n",
      "100%|███████████████████████████████████████████| 32/32 [00:12<00:00,  2.46it/s]\n",
      "100%|███████████████████████████████████████████| 32/32 [00:12<00:00,  2.48it/s]\n"
     ]
    },
    {
     "name": "stdout",
     "output_type": "stream",
     "text": [
      "(160000, 768)\n",
      "(160000, 768)\n",
      "(160000, 768)\n",
      "(160000, 768)\n",
      "160000\n"
     ]
    },
    {
     "name": "stderr",
     "output_type": "stream",
     "text": [
      "100%|███████████████████████████████████████████| 32/32 [00:17<00:00,  1.83it/s]\n",
      "100%|███████████████████████████████████████████| 32/32 [00:13<00:00,  2.33it/s]\n",
      "100%|███████████████████████████████████████████| 32/32 [00:13<00:00,  2.33it/s]\n",
      "100%|███████████████████████████████████████████| 32/32 [00:14<00:00,  2.27it/s]\n"
     ]
    },
    {
     "name": "stdout",
     "output_type": "stream",
     "text": [
      "(161000, 768)\n",
      "(161000, 768)\n",
      "(161000, 768)\n",
      "(161000, 768)\n",
      "161000\n"
     ]
    },
    {
     "name": "stderr",
     "output_type": "stream",
     "text": [
      "100%|███████████████████████████████████████████| 32/32 [00:12<00:00,  2.65it/s]\n",
      "100%|███████████████████████████████████████████| 32/32 [00:11<00:00,  2.67it/s]\n",
      "100%|███████████████████████████████████████████| 32/32 [00:12<00:00,  2.62it/s]\n",
      "100%|███████████████████████████████████████████| 32/32 [00:11<00:00,  2.74it/s]\n"
     ]
    },
    {
     "name": "stdout",
     "output_type": "stream",
     "text": [
      "(162000, 768)\n",
      "(162000, 768)\n",
      "(162000, 768)\n",
      "(162000, 768)\n",
      "162000\n"
     ]
    },
    {
     "name": "stderr",
     "output_type": "stream",
     "text": [
      "100%|███████████████████████████████████████████| 32/32 [00:13<00:00,  2.35it/s]\n",
      "100%|███████████████████████████████████████████| 32/32 [00:13<00:00,  2.36it/s]\n",
      "100%|███████████████████████████████████████████| 32/32 [00:13<00:00,  2.37it/s]\n",
      "100%|███████████████████████████████████████████| 32/32 [00:13<00:00,  2.33it/s]\n"
     ]
    },
    {
     "name": "stdout",
     "output_type": "stream",
     "text": [
      "(163000, 768)\n",
      "(163000, 768)\n",
      "(163000, 768)\n",
      "(163000, 768)\n",
      "163000\n"
     ]
    },
    {
     "name": "stderr",
     "output_type": "stream",
     "text": [
      "100%|███████████████████████████████████████████| 32/32 [00:12<00:00,  2.54it/s]\n",
      "100%|███████████████████████████████████████████| 32/32 [00:12<00:00,  2.60it/s]\n",
      "100%|███████████████████████████████████████████| 32/32 [00:12<00:00,  2.60it/s]\n",
      "100%|███████████████████████████████████████████| 32/32 [00:11<00:00,  2.67it/s]\n"
     ]
    },
    {
     "name": "stdout",
     "output_type": "stream",
     "text": [
      "(164000, 768)\n",
      "(164000, 768)\n",
      "(164000, 768)\n",
      "(164000, 768)\n",
      "164000\n"
     ]
    },
    {
     "name": "stderr",
     "output_type": "stream",
     "text": [
      "100%|███████████████████████████████████████████| 32/32 [00:10<00:00,  2.93it/s]\n",
      "100%|███████████████████████████████████████████| 32/32 [00:10<00:00,  2.95it/s]\n",
      "100%|███████████████████████████████████████████| 32/32 [00:11<00:00,  2.85it/s]\n",
      "100%|███████████████████████████████████████████| 32/32 [00:10<00:00,  2.92it/s]\n"
     ]
    },
    {
     "name": "stdout",
     "output_type": "stream",
     "text": [
      "(165000, 768)\n",
      "(165000, 768)\n",
      "(165000, 768)\n",
      "(165000, 768)\n",
      "165000\n"
     ]
    },
    {
     "name": "stderr",
     "output_type": "stream",
     "text": [
      "100%|███████████████████████████████████████████| 32/32 [00:11<00:00,  2.83it/s]\n",
      "100%|███████████████████████████████████████████| 32/32 [00:11<00:00,  2.89it/s]\n",
      "100%|███████████████████████████████████████████| 32/32 [00:11<00:00,  2.89it/s]\n",
      "100%|███████████████████████████████████████████| 32/32 [00:10<00:00,  2.93it/s]\n"
     ]
    },
    {
     "name": "stdout",
     "output_type": "stream",
     "text": [
      "(166000, 768)\n",
      "(166000, 768)\n",
      "(166000, 768)\n",
      "(166000, 768)\n",
      "166000\n"
     ]
    },
    {
     "name": "stderr",
     "output_type": "stream",
     "text": [
      "100%|███████████████████████████████████████████| 32/32 [00:14<00:00,  2.23it/s]\n",
      "100%|███████████████████████████████████████████| 32/32 [00:14<00:00,  2.27it/s]\n",
      "100%|███████████████████████████████████████████| 32/32 [00:14<00:00,  2.18it/s]\n",
      "100%|███████████████████████████████████████████| 32/32 [00:14<00:00,  2.28it/s]\n"
     ]
    },
    {
     "name": "stdout",
     "output_type": "stream",
     "text": [
      "(167000, 768)\n",
      "(167000, 768)\n",
      "(167000, 768)\n",
      "(167000, 768)\n",
      "167000\n"
     ]
    },
    {
     "name": "stderr",
     "output_type": "stream",
     "text": [
      "100%|███████████████████████████████████████████| 32/32 [00:13<00:00,  2.35it/s]\n",
      "100%|███████████████████████████████████████████| 32/32 [00:13<00:00,  2.33it/s]\n",
      "100%|███████████████████████████████████████████| 32/32 [00:14<00:00,  2.27it/s]\n",
      "100%|███████████████████████████████████████████| 32/32 [00:13<00:00,  2.35it/s]\n"
     ]
    },
    {
     "name": "stdout",
     "output_type": "stream",
     "text": [
      "(168000, 768)\n",
      "(168000, 768)\n",
      "(168000, 768)\n",
      "(168000, 768)\n",
      "168000\n"
     ]
    },
    {
     "name": "stderr",
     "output_type": "stream",
     "text": [
      "100%|███████████████████████████████████████████| 32/32 [00:12<00:00,  2.62it/s]\n",
      "100%|███████████████████████████████████████████| 32/32 [00:12<00:00,  2.65it/s]\n",
      "100%|███████████████████████████████████████████| 32/32 [00:12<00:00,  2.55it/s]\n",
      "100%|███████████████████████████████████████████| 32/32 [00:11<00:00,  2.67it/s]\n"
     ]
    },
    {
     "name": "stdout",
     "output_type": "stream",
     "text": [
      "(169000, 768)\n",
      "(169000, 768)\n",
      "(169000, 768)\n",
      "(169000, 768)\n",
      "169000\n"
     ]
    },
    {
     "name": "stderr",
     "output_type": "stream",
     "text": [
      "100%|███████████████████████████████████████████| 32/32 [00:13<00:00,  2.34it/s]\n",
      "100%|███████████████████████████████████████████| 32/32 [00:13<00:00,  2.34it/s]\n",
      "100%|███████████████████████████████████████████| 32/32 [00:13<00:00,  2.34it/s]\n",
      "100%|███████████████████████████████████████████| 32/32 [00:13<00:00,  2.32it/s]\n"
     ]
    },
    {
     "name": "stdout",
     "output_type": "stream",
     "text": [
      "(170000, 768)\n",
      "(170000, 768)\n",
      "(170000, 768)\n",
      "(170000, 768)\n",
      "170000\n"
     ]
    },
    {
     "name": "stderr",
     "output_type": "stream",
     "text": [
      "100%|███████████████████████████████████████████| 32/32 [00:13<00:00,  2.30it/s]\n",
      "100%|███████████████████████████████████████████| 32/32 [00:13<00:00,  2.42it/s]\n",
      "100%|███████████████████████████████████████████| 32/32 [00:13<00:00,  2.34it/s]\n",
      "100%|███████████████████████████████████████████| 32/32 [00:13<00:00,  2.41it/s]\n"
     ]
    },
    {
     "name": "stdout",
     "output_type": "stream",
     "text": [
      "(171000, 768)\n",
      "(171000, 768)\n",
      "(171000, 768)\n",
      "(171000, 768)\n",
      "171000\n"
     ]
    },
    {
     "name": "stderr",
     "output_type": "stream",
     "text": [
      "100%|███████████████████████████████████████████| 32/32 [00:11<00:00,  2.67it/s]\n",
      "100%|███████████████████████████████████████████| 32/32 [00:11<00:00,  2.69it/s]\n",
      "100%|███████████████████████████████████████████| 32/32 [00:11<00:00,  2.78it/s]\n",
      "100%|███████████████████████████████████████████| 32/32 [00:11<00:00,  2.74it/s]\n"
     ]
    },
    {
     "name": "stdout",
     "output_type": "stream",
     "text": [
      "(172000, 768)\n",
      "(172000, 768)\n",
      "(172000, 768)\n",
      "(172000, 768)\n",
      "172000\n"
     ]
    },
    {
     "name": "stderr",
     "output_type": "stream",
     "text": [
      "100%|███████████████████████████████████████████| 32/32 [00:12<00:00,  2.56it/s]\n",
      "100%|███████████████████████████████████████████| 32/32 [00:12<00:00,  2.58it/s]\n",
      "100%|███████████████████████████████████████████| 32/32 [00:12<00:00,  2.62it/s]\n",
      "100%|███████████████████████████████████████████| 32/32 [00:12<00:00,  2.55it/s]\n"
     ]
    },
    {
     "name": "stdout",
     "output_type": "stream",
     "text": [
      "(173000, 768)\n",
      "(173000, 768)\n",
      "(173000, 768)\n",
      "(173000, 768)\n",
      "173000\n"
     ]
    },
    {
     "name": "stderr",
     "output_type": "stream",
     "text": [
      "100%|███████████████████████████████████████████| 32/32 [00:12<00:00,  2.66it/s]\n",
      "100%|███████████████████████████████████████████| 32/32 [00:11<00:00,  2.73it/s]\n",
      "100%|███████████████████████████████████████████| 32/32 [00:11<00:00,  2.76it/s]\n",
      "100%|███████████████████████████████████████████| 32/32 [00:11<00:00,  2.84it/s]\n"
     ]
    },
    {
     "name": "stdout",
     "output_type": "stream",
     "text": [
      "(174000, 768)\n",
      "(174000, 768)\n",
      "(174000, 768)\n",
      "(174000, 768)\n",
      "174000\n"
     ]
    },
    {
     "name": "stderr",
     "output_type": "stream",
     "text": [
      "100%|███████████████████████████████████████████| 32/32 [00:12<00:00,  2.52it/s]\n",
      "100%|███████████████████████████████████████████| 32/32 [00:12<00:00,  2.59it/s]\n",
      "100%|███████████████████████████████████████████| 32/32 [00:12<00:00,  2.61it/s]\n",
      "100%|███████████████████████████████████████████| 32/32 [00:12<00:00,  2.56it/s]\n"
     ]
    },
    {
     "name": "stdout",
     "output_type": "stream",
     "text": [
      "(175000, 768)\n",
      "(175000, 768)\n",
      "(175000, 768)\n",
      "(175000, 768)\n",
      "175000\n"
     ]
    },
    {
     "name": "stderr",
     "output_type": "stream",
     "text": [
      "100%|███████████████████████████████████████████| 32/32 [00:12<00:00,  2.52it/s]\n",
      "100%|███████████████████████████████████████████| 32/32 [00:12<00:00,  2.54it/s]\n",
      "100%|███████████████████████████████████████████| 32/32 [00:12<00:00,  2.55it/s]\n",
      "100%|███████████████████████████████████████████| 32/32 [00:12<00:00,  2.48it/s]\n"
     ]
    },
    {
     "name": "stdout",
     "output_type": "stream",
     "text": [
      "(176000, 768)\n",
      "(176000, 768)\n",
      "(176000, 768)\n",
      "(176000, 768)\n",
      "176000\n"
     ]
    },
    {
     "name": "stderr",
     "output_type": "stream",
     "text": [
      "100%|███████████████████████████████████████████| 32/32 [00:12<00:00,  2.50it/s]\n",
      "100%|███████████████████████████████████████████| 32/32 [00:12<00:00,  2.50it/s]\n",
      "100%|███████████████████████████████████████████| 32/32 [00:12<00:00,  2.60it/s]\n",
      "100%|███████████████████████████████████████████| 32/32 [00:12<00:00,  2.53it/s]\n"
     ]
    },
    {
     "name": "stdout",
     "output_type": "stream",
     "text": [
      "(177000, 768)\n",
      "(177000, 768)\n",
      "(177000, 768)\n",
      "(177000, 768)\n",
      "177000\n"
     ]
    },
    {
     "name": "stderr",
     "output_type": "stream",
     "text": [
      "100%|███████████████████████████████████████████| 32/32 [00:10<00:00,  2.98it/s]\n",
      "100%|███████████████████████████████████████████| 32/32 [00:11<00:00,  2.91it/s]\n",
      "100%|███████████████████████████████████████████| 32/32 [00:10<00:00,  2.96it/s]\n",
      "100%|███████████████████████████████████████████| 32/32 [00:11<00:00,  2.87it/s]\n"
     ]
    },
    {
     "name": "stdout",
     "output_type": "stream",
     "text": [
      "(178000, 768)\n",
      "(178000, 768)\n",
      "(178000, 768)\n",
      "(178000, 768)\n",
      "178000\n"
     ]
    },
    {
     "name": "stderr",
     "output_type": "stream",
     "text": [
      "100%|███████████████████████████████████████████| 32/32 [00:14<00:00,  2.23it/s]\n",
      "100%|███████████████████████████████████████████| 32/32 [00:13<00:00,  2.29it/s]\n",
      "100%|███████████████████████████████████████████| 32/32 [00:14<00:00,  2.25it/s]\n",
      "100%|███████████████████████████████████████████| 32/32 [00:14<00:00,  2.25it/s]\n"
     ]
    },
    {
     "name": "stdout",
     "output_type": "stream",
     "text": [
      "(179000, 768)\n",
      "(179000, 768)\n",
      "(179000, 768)\n",
      "(179000, 768)\n",
      "179000\n"
     ]
    },
    {
     "name": "stderr",
     "output_type": "stream",
     "text": [
      "100%|███████████████████████████████████████████| 32/32 [00:11<00:00,  2.85it/s]\n",
      "100%|███████████████████████████████████████████| 32/32 [00:11<00:00,  2.91it/s]\n",
      "100%|███████████████████████████████████████████| 32/32 [00:10<00:00,  2.93it/s]\n",
      "100%|███████████████████████████████████████████| 32/32 [00:10<00:00,  2.93it/s]\n"
     ]
    },
    {
     "name": "stdout",
     "output_type": "stream",
     "text": [
      "(180000, 768)\n",
      "(180000, 768)\n",
      "(180000, 768)\n",
      "(180000, 768)\n",
      "180000\n"
     ]
    },
    {
     "name": "stderr",
     "output_type": "stream",
     "text": [
      "100%|███████████████████████████████████████████| 32/32 [00:12<00:00,  2.52it/s]\n",
      "100%|███████████████████████████████████████████| 32/32 [00:12<00:00,  2.61it/s]\n",
      "100%|███████████████████████████████████████████| 32/32 [00:12<00:00,  2.55it/s]\n",
      "100%|███████████████████████████████████████████| 32/32 [00:12<00:00,  2.51it/s]\n"
     ]
    },
    {
     "name": "stdout",
     "output_type": "stream",
     "text": [
      "(181000, 768)\n",
      "(181000, 768)\n",
      "(181000, 768)\n",
      "(181000, 768)\n",
      "181000\n"
     ]
    },
    {
     "name": "stderr",
     "output_type": "stream",
     "text": [
      "100%|███████████████████████████████████████████| 32/32 [00:13<00:00,  2.29it/s]\n",
      "100%|███████████████████████████████████████████| 32/32 [00:13<00:00,  2.33it/s]\n",
      "100%|███████████████████████████████████████████| 32/32 [00:13<00:00,  2.36it/s]\n",
      "100%|███████████████████████████████████████████| 32/32 [00:13<00:00,  2.38it/s]\n"
     ]
    },
    {
     "name": "stdout",
     "output_type": "stream",
     "text": [
      "(182000, 768)\n",
      "(182000, 768)\n",
      "(182000, 768)\n",
      "(182000, 768)\n",
      "182000\n"
     ]
    },
    {
     "name": "stderr",
     "output_type": "stream",
     "text": [
      "100%|███████████████████████████████████████████| 32/32 [00:13<00:00,  2.45it/s]\n",
      "100%|███████████████████████████████████████████| 32/32 [00:13<00:00,  2.45it/s]\n",
      "100%|███████████████████████████████████████████| 32/32 [00:12<00:00,  2.48it/s]\n",
      "100%|███████████████████████████████████████████| 32/32 [00:12<00:00,  2.48it/s]\n"
     ]
    },
    {
     "name": "stdout",
     "output_type": "stream",
     "text": [
      "(183000, 768)\n",
      "(183000, 768)\n",
      "(183000, 768)\n",
      "(183000, 768)\n",
      "183000\n"
     ]
    },
    {
     "name": "stderr",
     "output_type": "stream",
     "text": [
      "100%|███████████████████████████████████████████| 32/32 [00:12<00:00,  2.59it/s]\n",
      "100%|███████████████████████████████████████████| 32/32 [00:11<00:00,  2.67it/s]\n",
      "100%|███████████████████████████████████████████| 32/32 [00:12<00:00,  2.65it/s]\n",
      "100%|███████████████████████████████████████████| 32/32 [00:11<00:00,  2.70it/s]\n"
     ]
    },
    {
     "name": "stdout",
     "output_type": "stream",
     "text": [
      "(184000, 768)\n",
      "(184000, 768)\n",
      "(184000, 768)\n",
      "(184000, 768)\n",
      "184000\n"
     ]
    },
    {
     "name": "stderr",
     "output_type": "stream",
     "text": [
      "100%|███████████████████████████████████████████| 32/32 [00:13<00:00,  2.33it/s]\n",
      "100%|███████████████████████████████████████████| 32/32 [00:13<00:00,  2.32it/s]\n",
      "100%|███████████████████████████████████████████| 32/32 [00:13<00:00,  2.33it/s]\n",
      "100%|███████████████████████████████████████████| 32/32 [00:13<00:00,  2.35it/s]\n"
     ]
    },
    {
     "name": "stdout",
     "output_type": "stream",
     "text": [
      "(185000, 768)\n",
      "(185000, 768)\n",
      "(185000, 768)\n",
      "(185000, 768)\n",
      "185000\n"
     ]
    },
    {
     "name": "stderr",
     "output_type": "stream",
     "text": [
      "100%|███████████████████████████████████████████| 32/32 [00:12<00:00,  2.59it/s]\n",
      "100%|███████████████████████████████████████████| 32/32 [00:12<00:00,  2.64it/s]\n",
      "100%|███████████████████████████████████████████| 32/32 [00:11<00:00,  2.70it/s]\n",
      "100%|███████████████████████████████████████████| 32/32 [00:12<00:00,  2.66it/s]\n"
     ]
    },
    {
     "name": "stdout",
     "output_type": "stream",
     "text": [
      "(186000, 768)\n",
      "(186000, 768)\n",
      "(186000, 768)\n",
      "(186000, 768)\n",
      "186000\n"
     ]
    },
    {
     "name": "stderr",
     "output_type": "stream",
     "text": [
      "100%|███████████████████████████████████████████| 32/32 [00:12<00:00,  2.47it/s]\n",
      "100%|███████████████████████████████████████████| 32/32 [00:12<00:00,  2.47it/s]\n",
      "100%|███████████████████████████████████████████| 32/32 [00:12<00:00,  2.53it/s]\n",
      "100%|███████████████████████████████████████████| 32/32 [00:12<00:00,  2.50it/s]\n"
     ]
    },
    {
     "name": "stdout",
     "output_type": "stream",
     "text": [
      "(187000, 768)\n",
      "(187000, 768)\n",
      "(187000, 768)\n",
      "(187000, 768)\n",
      "187000\n"
     ]
    },
    {
     "name": "stderr",
     "output_type": "stream",
     "text": [
      "100%|███████████████████████████████████████████| 32/32 [00:12<00:00,  2.56it/s]\n",
      "100%|███████████████████████████████████████████| 32/32 [00:12<00:00,  2.59it/s]\n",
      "100%|███████████████████████████████████████████| 32/32 [00:12<00:00,  2.55it/s]\n",
      "100%|███████████████████████████████████████████| 32/32 [00:12<00:00,  2.48it/s]\n"
     ]
    },
    {
     "name": "stdout",
     "output_type": "stream",
     "text": [
      "(188000, 768)\n",
      "(188000, 768)\n",
      "(188000, 768)\n",
      "(188000, 768)\n",
      "188000\n"
     ]
    },
    {
     "name": "stderr",
     "output_type": "stream",
     "text": [
      "100%|███████████████████████████████████████████| 32/32 [00:11<00:00,  2.75it/s]\n",
      "100%|███████████████████████████████████████████| 32/32 [00:11<00:00,  2.77it/s]\n",
      "100%|███████████████████████████████████████████| 32/32 [00:11<00:00,  2.68it/s]\n",
      "100%|███████████████████████████████████████████| 32/32 [00:11<00:00,  2.71it/s]\n"
     ]
    },
    {
     "name": "stdout",
     "output_type": "stream",
     "text": [
      "(189000, 768)\n",
      "(189000, 768)\n",
      "(189000, 768)\n",
      "(189000, 768)\n",
      "189000\n"
     ]
    },
    {
     "name": "stderr",
     "output_type": "stream",
     "text": [
      "100%|███████████████████████████████████████████| 32/32 [00:13<00:00,  2.45it/s]\n",
      "100%|███████████████████████████████████████████| 32/32 [00:12<00:00,  2.47it/s]\n",
      "100%|███████████████████████████████████████████| 32/32 [00:12<00:00,  2.47it/s]\n",
      "100%|███████████████████████████████████████████| 32/32 [00:12<00:00,  2.52it/s]\n"
     ]
    },
    {
     "name": "stdout",
     "output_type": "stream",
     "text": [
      "(190000, 768)\n",
      "(190000, 768)\n",
      "(190000, 768)\n",
      "(190000, 768)\n",
      "190000\n"
     ]
    },
    {
     "name": "stderr",
     "output_type": "stream",
     "text": [
      "100%|███████████████████████████████████████████| 32/32 [00:14<00:00,  2.17it/s]\n",
      "100%|███████████████████████████████████████████| 32/32 [00:14<00:00,  2.20it/s]\n",
      "100%|███████████████████████████████████████████| 32/32 [00:14<00:00,  2.17it/s]\n",
      "100%|███████████████████████████████████████████| 32/32 [00:14<00:00,  2.15it/s]\n"
     ]
    },
    {
     "name": "stdout",
     "output_type": "stream",
     "text": [
      "(191000, 768)\n",
      "(191000, 768)\n",
      "(191000, 768)\n",
      "(191000, 768)\n",
      "191000\n"
     ]
    },
    {
     "name": "stderr",
     "output_type": "stream",
     "text": [
      "100%|███████████████████████████████████████████| 32/32 [00:14<00:00,  2.24it/s]\n",
      "100%|███████████████████████████████████████████| 32/32 [00:14<00:00,  2.23it/s]\n",
      "100%|███████████████████████████████████████████| 32/32 [00:14<00:00,  2.17it/s]\n",
      "100%|███████████████████████████████████████████| 32/32 [00:14<00:00,  2.21it/s]\n"
     ]
    },
    {
     "name": "stdout",
     "output_type": "stream",
     "text": [
      "(192000, 768)\n",
      "(192000, 768)\n",
      "(192000, 768)\n",
      "(192000, 768)\n",
      "192000\n"
     ]
    },
    {
     "name": "stderr",
     "output_type": "stream",
     "text": [
      "100%|███████████████████████████████████████████| 32/32 [00:13<00:00,  2.33it/s]\n",
      "100%|███████████████████████████████████████████| 32/32 [00:13<00:00,  2.41it/s]\n",
      "100%|███████████████████████████████████████████| 32/32 [00:13<00:00,  2.40it/s]\n",
      "100%|███████████████████████████████████████████| 32/32 [00:13<00:00,  2.40it/s]\n"
     ]
    },
    {
     "name": "stdout",
     "output_type": "stream",
     "text": [
      "(193000, 768)\n",
      "(193000, 768)\n",
      "(193000, 768)\n",
      "(193000, 768)\n",
      "193000\n"
     ]
    },
    {
     "name": "stderr",
     "output_type": "stream",
     "text": [
      "100%|███████████████████████████████████████████| 32/32 [00:11<00:00,  2.74it/s]\n",
      "100%|███████████████████████████████████████████| 32/32 [00:11<00:00,  2.76it/s]\n",
      "100%|███████████████████████████████████████████| 32/32 [00:11<00:00,  2.78it/s]\n",
      "100%|███████████████████████████████████████████| 32/32 [00:11<00:00,  2.76it/s]\n"
     ]
    },
    {
     "name": "stdout",
     "output_type": "stream",
     "text": [
      "(194000, 768)\n",
      "(194000, 768)\n",
      "(194000, 768)\n",
      "(194000, 768)\n",
      "194000\n"
     ]
    },
    {
     "name": "stderr",
     "output_type": "stream",
     "text": [
      "100%|███████████████████████████████████████████| 32/32 [00:11<00:00,  2.90it/s]\n",
      "100%|███████████████████████████████████████████| 32/32 [00:11<00:00,  2.81it/s]\n",
      "100%|███████████████████████████████████████████| 32/32 [00:11<00:00,  2.86it/s]\n",
      "100%|███████████████████████████████████████████| 32/32 [00:10<00:00,  3.00it/s]\n"
     ]
    },
    {
     "name": "stdout",
     "output_type": "stream",
     "text": [
      "(195000, 768)\n",
      "(195000, 768)\n",
      "(195000, 768)\n",
      "(195000, 768)\n",
      "195000\n"
     ]
    },
    {
     "name": "stderr",
     "output_type": "stream",
     "text": [
      "100%|███████████████████████████████████████████| 21/21 [00:08<00:00,  2.61it/s]\n",
      "100%|███████████████████████████████████████████| 21/21 [00:07<00:00,  2.69it/s]\n",
      "100%|███████████████████████████████████████████| 21/21 [00:08<00:00,  2.61it/s]\n",
      "100%|███████████████████████████████████████████| 21/21 [00:07<00:00,  2.66it/s]\n"
     ]
    },
    {
     "name": "stdout",
     "output_type": "stream",
     "text": [
      "(195662, 768)\n",
      "(195662, 768)\n",
      "(195662, 768)\n",
      "(195662, 768)\n"
     ]
    }
   ],
   "source": [
    "for i in range(0, len(train_df), 1000):\n",
    "    print(i)\n",
    "    reduced_train_df = train_df[i: i + 1000]\n",
    "    reduced_x_train_roberta_utt = extract_roberta(list(reduced_train_df['Utterance']))\n",
    "    reduced_x_train_utt_torch = torch.cat(reduced_x_train_roberta_utt)\n",
    "    reduced_x_train_features = reduced_x_train_utt_torch.cpu().detach().numpy()\n",
    "    if i != 0:\n",
    "        x_train_features_utt = np.concatenate((x_train_features_utt, reduced_x_train_features), axis = 0)\n",
    "    else:\n",
    "        x_train_features_utt = reduced_x_train_features\n",
    "    del reduced_x_train_roberta_utt, reduced_x_train_utt_torch, reduced_x_train_features\n",
    "    \n",
    "    reduced_x_train_roberta_utt = extract_roberta(list(reduced_train_df['context_1']))\n",
    "    reduced_x_train_utt_torch = torch.cat(reduced_x_train_roberta_utt)\n",
    "    reduced_x_train_features = reduced_x_train_utt_torch.cpu().detach().numpy()\n",
    "    if i != 0:\n",
    "        x_train_features_context1 = np.concatenate((x_train_features_context1, reduced_x_train_features), axis = 0)\n",
    "    else:\n",
    "        x_train_features_context1 = reduced_x_train_features\n",
    "    del reduced_x_train_roberta_utt, reduced_x_train_utt_torch, reduced_x_train_features\n",
    "    \n",
    "    reduced_x_train_roberta_utt = extract_roberta(list(reduced_train_df['context_2']))\n",
    "    reduced_x_train_utt_torch = torch.cat(reduced_x_train_roberta_utt)\n",
    "    reduced_x_train_features = reduced_x_train_utt_torch.cpu().detach().numpy()\n",
    "    if i != 0:\n",
    "        x_train_features_context2 = np.concatenate((x_train_features_context2, reduced_x_train_features), axis = 0)\n",
    "    else:\n",
    "        x_train_features_context2 = reduced_x_train_features\n",
    "    del reduced_x_train_roberta_utt, reduced_x_train_utt_torch, reduced_x_train_features\n",
    "    \n",
    "    reduced_x_train_roberta_utt = extract_roberta(list(reduced_train_df['context_3']))\n",
    "    reduced_x_train_utt_torch = torch.cat(reduced_x_train_roberta_utt)\n",
    "    reduced_x_train_features = reduced_x_train_utt_torch.cpu().detach().numpy()\n",
    "    if i != 0:\n",
    "        x_train_features_context3 = np.concatenate((x_train_features_context3, reduced_x_train_features), axis = 0)\n",
    "    else:\n",
    "        x_train_features_context3 = reduced_x_train_features\n",
    "    del reduced_x_train_roberta_utt, reduced_x_train_utt_torch, reduced_x_train_features\n",
    "    \n",
    "    print(x_train_features_utt.shape)\n",
    "    print(x_train_features_context1.shape)\n",
    "    print(x_train_features_context2.shape)\n",
    "    print(x_train_features_context3.shape)\n",
    "    del reduced_train_df"
   ]
  },
  {
   "cell_type": "code",
   "execution_count": 23,
   "id": "d17aacd9",
   "metadata": {},
   "outputs": [],
   "source": [
    "y_train = train_df['Label']\n",
    "y_train = np.array(y_train)"
   ]
  },
  {
   "cell_type": "code",
   "execution_count": 24,
   "id": "473bdc51",
   "metadata": {},
   "outputs": [],
   "source": [
    "with open('features/train_features_roberta_context_utt.npy', 'wb') as f:\n",
    "    np.save(f, x_train_features_utt)\n",
    "\n",
    "with open('features/train_features_roberta_context_1.npy', 'wb') as f:\n",
    "    np.save(f, x_train_features_context1)\n",
    "    \n",
    "with open('features/train_features_roberta_context_2.npy', 'wb') as f:\n",
    "    np.save(f, x_train_features_context2)\n",
    "    \n",
    "with open('features/train_features_roberta_context_3.npy', 'wb') as f:\n",
    "    np.save(f, x_train_features_context3)\n",
    "    \n",
    "with open('features/train_labels_roberta_context.npy', 'wb') as f:\n",
    "    np.save(f, y_train)"
   ]
  },
  {
   "cell_type": "code",
   "execution_count": 26,
   "id": "4b296cce",
   "metadata": {},
   "outputs": [
    {
     "name": "stdout",
     "output_type": "stream",
     "text": [
      "0\n"
     ]
    },
    {
     "name": "stderr",
     "output_type": "stream",
     "text": [
      "100%|███████████████████████████████████████████| 32/32 [00:16<00:00,  1.97it/s]\n",
      "100%|███████████████████████████████████████████| 32/32 [00:12<00:00,  2.49it/s]\n",
      "100%|███████████████████████████████████████████| 32/32 [00:13<00:00,  2.31it/s]\n",
      "100%|███████████████████████████████████████████| 32/32 [00:13<00:00,  2.38it/s]\n"
     ]
    },
    {
     "name": "stdout",
     "output_type": "stream",
     "text": [
      "(1000, 768)\n",
      "(1000, 768)\n",
      "(1000, 768)\n",
      "(1000, 768)\n",
      "1000\n"
     ]
    },
    {
     "name": "stderr",
     "output_type": "stream",
     "text": [
      "100%|███████████████████████████████████████████| 32/32 [00:13<00:00,  2.32it/s]\n",
      "100%|███████████████████████████████████████████| 32/32 [00:12<00:00,  2.49it/s]\n",
      "100%|███████████████████████████████████████████| 32/32 [00:13<00:00,  2.45it/s]\n",
      "100%|███████████████████████████████████████████| 32/32 [00:14<00:00,  2.20it/s]\n"
     ]
    },
    {
     "name": "stdout",
     "output_type": "stream",
     "text": [
      "(2000, 768)\n",
      "(2000, 768)\n",
      "(2000, 768)\n",
      "(2000, 768)\n",
      "2000\n"
     ]
    },
    {
     "name": "stderr",
     "output_type": "stream",
     "text": [
      "100%|███████████████████████████████████████████| 32/32 [00:11<00:00,  2.67it/s]\n",
      "100%|███████████████████████████████████████████| 32/32 [00:12<00:00,  2.60it/s]\n",
      "100%|███████████████████████████████████████████| 32/32 [00:12<00:00,  2.60it/s]\n",
      "100%|███████████████████████████████████████████| 32/32 [00:12<00:00,  2.54it/s]\n"
     ]
    },
    {
     "name": "stdout",
     "output_type": "stream",
     "text": [
      "(3000, 768)\n",
      "(3000, 768)\n",
      "(3000, 768)\n",
      "(3000, 768)\n",
      "3000\n"
     ]
    },
    {
     "name": "stderr",
     "output_type": "stream",
     "text": [
      "100%|███████████████████████████████████████████| 32/32 [00:11<00:00,  2.87it/s]\n",
      "100%|███████████████████████████████████████████| 32/32 [00:10<00:00,  2.91it/s]\n",
      "100%|███████████████████████████████████████████| 32/32 [00:11<00:00,  2.87it/s]\n",
      "100%|███████████████████████████████████████████| 32/32 [00:11<00:00,  2.88it/s]\n"
     ]
    },
    {
     "name": "stdout",
     "output_type": "stream",
     "text": [
      "(4000, 768)\n",
      "(4000, 768)\n",
      "(4000, 768)\n",
      "(4000, 768)\n",
      "4000\n"
     ]
    },
    {
     "name": "stderr",
     "output_type": "stream",
     "text": [
      "100%|█████████████████████████████████████████████| 3/3 [00:00<00:00,  3.50it/s]\n",
      "100%|█████████████████████████████████████████████| 3/3 [00:00<00:00,  4.17it/s]\n",
      "100%|█████████████████████████████████████████████| 3/3 [00:00<00:00,  4.19it/s]\n",
      "100%|█████████████████████████████████████████████| 3/3 [00:00<00:00,  4.12it/s]"
     ]
    },
    {
     "name": "stdout",
     "output_type": "stream",
     "text": [
      "(4078, 768)\n",
      "(4078, 768)\n",
      "(4078, 768)\n",
      "(4078, 768)\n"
     ]
    },
    {
     "name": "stderr",
     "output_type": "stream",
     "text": [
      "\n"
     ]
    }
   ],
   "source": [
    "for i in range(0, len(test_df), 1000):\n",
    "    print(i)\n",
    "    reduced_train_df = test_df[i: i + 1000]\n",
    "    reduced_x_train_roberta_utt = extract_roberta(list(reduced_train_df['Utterance']))\n",
    "    reduced_x_train_utt_torch = torch.cat(reduced_x_train_roberta_utt)\n",
    "    reduced_x_train_features = reduced_x_train_utt_torch.cpu().detach().numpy()\n",
    "    if i != 0:\n",
    "        x_test_features_utt = np.concatenate((x_test_features_utt, reduced_x_train_features), axis = 0)\n",
    "    else:\n",
    "        x_test_features_utt = reduced_x_train_features\n",
    "    del reduced_x_train_roberta_utt, reduced_x_train_utt_torch, reduced_x_train_features\n",
    "    \n",
    "    reduced_x_train_roberta_utt = extract_roberta(list(reduced_train_df['context_1']))\n",
    "    reduced_x_train_utt_torch = torch.cat(reduced_x_train_roberta_utt)\n",
    "    reduced_x_train_features = reduced_x_train_utt_torch.cpu().detach().numpy()\n",
    "    if i != 0:\n",
    "        x_test_features_context1 = np.concatenate((x_test_features_context1, reduced_x_train_features), axis = 0)\n",
    "    else:\n",
    "        x_test_features_context1 = reduced_x_train_features\n",
    "    del reduced_x_train_roberta_utt, reduced_x_train_utt_torch, reduced_x_train_features\n",
    "    \n",
    "    reduced_x_train_roberta_utt = extract_roberta(list(reduced_train_df['context_2']))\n",
    "    reduced_x_train_utt_torch = torch.cat(reduced_x_train_roberta_utt)\n",
    "    reduced_x_train_features = reduced_x_train_utt_torch.cpu().detach().numpy()\n",
    "    if i != 0:\n",
    "        x_test_features_context2 = np.concatenate((x_test_features_context2, reduced_x_train_features), axis = 0)\n",
    "    else:\n",
    "        x_test_features_context2 = reduced_x_train_features\n",
    "    del reduced_x_train_roberta_utt, reduced_x_train_utt_torch, reduced_x_train_features\n",
    "    \n",
    "    reduced_x_train_roberta_utt = extract_roberta(list(reduced_train_df['context_3']))\n",
    "    reduced_x_train_utt_torch = torch.cat(reduced_x_train_roberta_utt)\n",
    "    reduced_x_train_features = reduced_x_train_utt_torch.cpu().detach().numpy()\n",
    "    if i != 0:\n",
    "        x_test_features_context3 = np.concatenate((x_test_features_context3, reduced_x_train_features), axis = 0)\n",
    "    else:\n",
    "        x_test_features_context3 = reduced_x_train_features\n",
    "    del reduced_x_train_roberta_utt, reduced_x_train_utt_torch, reduced_x_train_features\n",
    "    \n",
    "    print(x_test_features_utt.shape)\n",
    "    print(x_test_features_context1.shape)\n",
    "    print(x_test_features_context2.shape)\n",
    "    print(x_test_features_context3.shape)\n",
    "    del reduced_train_df"
   ]
  },
  {
   "cell_type": "code",
   "execution_count": 27,
   "id": "863fab89",
   "metadata": {},
   "outputs": [],
   "source": [
    "y_test = test_df['Label']\n",
    "y_test = np.array(y_test)"
   ]
  },
  {
   "cell_type": "code",
   "execution_count": 28,
   "id": "5489c0d6",
   "metadata": {},
   "outputs": [],
   "source": [
    "with open('features/test_features_roberta_context_utt.npy', 'wb') as f:\n",
    "    np.save(f, x_test_features_utt)\n",
    "\n",
    "with open('features/test_features_roberta_context_1.npy', 'wb') as f:\n",
    "    np.save(f, x_test_features_context1)\n",
    "    \n",
    "with open('features/test_features_roberta_context_2.npy', 'wb') as f:\n",
    "    np.save(f, x_test_features_context2)\n",
    "    \n",
    "with open('features/test_features_roberta_context_3.npy', 'wb') as f:\n",
    "    np.save(f, x_test_features_context3)\n",
    "    \n",
    "with open('features/test_labels_roberta_context.npy', 'wb') as f:\n",
    "    np.save(f, y_test)"
   ]
  },
  {
   "cell_type": "code",
   "execution_count": 136,
   "id": "90c128a1",
   "metadata": {},
   "outputs": [],
   "source": [
    "x_train_utt = np.load('features/train_features_roberta_context_utt.npy', allow_pickle=True)\n",
    "x_train_context1 = np.load('features/train_features_roberta_context_1.npy', allow_pickle=True)\n",
    "x_train_context2 = np.load('features/train_features_roberta_context_2.npy', allow_pickle=True)\n",
    "x_train_context3 = np.load('features/train_features_roberta_context_3.npy', allow_pickle=True)\n",
    "y_train = np.load('features/train_labels_roberta_context.npy', allow_pickle=True)\n",
    "\n",
    "x_test_utt = np.load('features/test_features_roberta_context_utt.npy', allow_pickle=True)\n",
    "x_test_context1 = np.load('features/test_features_roberta_context_1.npy', allow_pickle = True)\n",
    "x_test_context2 = np.load('features/test_features_roberta_context_2.npy', allow_pickle = True)\n",
    "x_test_context3 = np.load('features/test_features_roberta_context_3.npy', allow_pickle = True)\n",
    "y_test = np.load('features/test_labels_roberta_context.npy', allow_pickle=True)"
   ]
  },
  {
   "cell_type": "code",
   "execution_count": null,
   "id": "4e36ed41",
   "metadata": {},
   "outputs": [],
   "source": [
    "# for index, row in train_df.iterrows():\n",
    "#     if row['Channel'] == 'A':\n",
    "        "
   ]
  },
  {
   "cell_type": "code",
   "execution_count": 137,
   "id": "dd0623f6",
   "metadata": {},
   "outputs": [
    {
     "name": "stdout",
     "output_type": "stream",
     "text": [
      "(195662, 768)\n",
      "(195662, 768)\n",
      "(195662, 768)\n",
      "(195662, 768)\n"
     ]
    }
   ],
   "source": [
    "print(x_train_utt.shape)\n",
    "print(x_train_context1.shape)\n",
    "print(x_train_context2.shape)\n",
    "print(x_train_context3.shape)"
   ]
  },
  {
   "cell_type": "code",
   "execution_count": 138,
   "id": "2e09727e",
   "metadata": {},
   "outputs": [
    {
     "name": "stdout",
     "output_type": "stream",
     "text": [
      "(4078, 768)\n",
      "(4078, 768)\n",
      "(4078, 768)\n",
      "(4078, 768)\n"
     ]
    }
   ],
   "source": [
    "print(x_test_utt.shape)\n",
    "print(x_test_context1.shape)\n",
    "print(x_test_context2.shape)\n",
    "print(x_test_context3.shape)"
   ]
  },
  {
   "cell_type": "code",
   "execution_count": 139,
   "id": "15e3814a",
   "metadata": {},
   "outputs": [],
   "source": [
    "# x_train_utt[0]"
   ]
  },
  {
   "cell_type": "code",
   "execution_count": 140,
   "id": "10ad95f8",
   "metadata": {},
   "outputs": [],
   "source": [
    "x_train_utt = np.reshape(x_train_utt, (195662, 1, 768))\n",
    "x_train_context1 = np.reshape(x_train_context1, (195662, 1, 768))\n",
    "x_train_context2 = np.reshape(x_train_context2, (195662, 1, 768))\n",
    "x_train_context3 = np.reshape(x_train_context3, (195662, 1, 768))"
   ]
  },
  {
   "cell_type": "code",
   "execution_count": 141,
   "id": "b4255bc6",
   "metadata": {},
   "outputs": [
    {
     "data": {
      "text/plain": [
       "(195662, 1, 768)"
      ]
     },
     "execution_count": 141,
     "metadata": {},
     "output_type": "execute_result"
    }
   ],
   "source": [
    "x_train_utt.shape"
   ]
  },
  {
   "cell_type": "code",
   "execution_count": 142,
   "id": "0ce24623",
   "metadata": {},
   "outputs": [],
   "source": [
    "# x_train_utt[0]"
   ]
  },
  {
   "cell_type": "code",
   "execution_count": 143,
   "id": "d1d3c489",
   "metadata": {},
   "outputs": [],
   "source": [
    "x_test_utt = np.reshape(x_test_utt, (4078, 1, 768))\n",
    "x_test_context1 = np.reshape(x_test_context1, (4078, 1, 768))\n",
    "x_test_context2 = np.reshape(x_test_context2, (4078, 1, 768))\n",
    "x_test_context3 = np.reshape(x_test_context3, (4078, 1, 768))"
   ]
  },
  {
   "cell_type": "code",
   "execution_count": 169,
   "id": "c2e9456d",
   "metadata": {},
   "outputs": [],
   "source": [
    "x_train = x_train_context3\n",
    "x_train = np.concatenate((x_train, x_train_context2, x_train_context1, x_train_utt), axis = 1)"
   ]
  },
  {
   "cell_type": "code",
   "execution_count": 170,
   "id": "c9b277d8",
   "metadata": {},
   "outputs": [],
   "source": [
    "# x_train = x_train_utt\n",
    "# x_train = np.concatenate((x_train, x_train_context1, x_train_context2, x_train_context3), axis = 1)"
   ]
  },
  {
   "cell_type": "code",
   "execution_count": 171,
   "id": "2ed1e8d1",
   "metadata": {},
   "outputs": [],
   "source": [
    "x_test = x_test_context3\n",
    "x_test = np.concatenate((x_test, x_test_context2, x_test_context1, x_test_utt), axis = 1)"
   ]
  },
  {
   "cell_type": "code",
   "execution_count": 172,
   "id": "fab60cac",
   "metadata": {},
   "outputs": [],
   "source": [
    "# x_test = x_test_utt\n",
    "# x_test = np.concatenate((x_test, x_test_context1, x_test_context2, x_test_context3), axis = 1)"
   ]
  },
  {
   "cell_type": "code",
   "execution_count": 173,
   "id": "df40e273",
   "metadata": {},
   "outputs": [
    {
     "data": {
      "text/plain": [
       "(195662, 4, 768)"
      ]
     },
     "execution_count": 173,
     "metadata": {},
     "output_type": "execute_result"
    }
   ],
   "source": [
    "x_train.shape"
   ]
  },
  {
   "cell_type": "code",
   "execution_count": 174,
   "id": "3bf9b7a6",
   "metadata": {},
   "outputs": [
    {
     "data": {
      "text/plain": [
       "(4078, 4, 768)"
      ]
     },
     "execution_count": 174,
     "metadata": {},
     "output_type": "execute_result"
    }
   ],
   "source": [
    "x_test.shape"
   ]
  },
  {
   "cell_type": "code",
   "execution_count": 175,
   "id": "232dfa29",
   "metadata": {},
   "outputs": [],
   "source": [
    "x_train_utt_torch = torch.from_numpy(x_train_utt)\n",
    "x_train_context1_torch = torch.from_numpy(x_train_context1)\n",
    "x_train_context2_torch = torch.from_numpy(x_train_context2)\n",
    "x_train_context3_torch = torch.from_numpy(x_train_context3)\n",
    "\n",
    "x_test_utt_torch = torch.from_numpy(x_test_utt)\n",
    "x_test_context1_torch = torch.from_numpy(x_test_context1)\n",
    "x_test_context2_torch = torch.from_numpy(x_test_context2)\n",
    "x_test_context3_torch = torch.from_numpy(x_test_context3)"
   ]
  },
  {
   "cell_type": "code",
   "execution_count": 151,
   "id": "6229c98c",
   "metadata": {},
   "outputs": [],
   "source": [
    "x_train_torch = torch.from_numpy(x_train)\n",
    "x_test_torch = torch.from_numpy(x_test)"
   ]
  },
  {
   "cell_type": "code",
   "execution_count": 152,
   "id": "d065dd77",
   "metadata": {},
   "outputs": [],
   "source": [
    "# y_train_torch = torch.from_numpy(y_train)\n",
    "# y_test_torch = torch.from_numpy(y_test)"
   ]
  },
  {
   "cell_type": "code",
   "execution_count": 153,
   "id": "d889ac2d",
   "metadata": {},
   "outputs": [],
   "source": [
    "from sklearn import preprocessing\n",
    "\n",
    "le = preprocessing.LabelEncoder()\n",
    "le.fit(y_train)\n",
    "y_train = le.transform(y_train)\n",
    "y_test = le.transform(y_test)"
   ]
  },
  {
   "cell_type": "code",
   "execution_count": 154,
   "id": "c1ca23a2",
   "metadata": {},
   "outputs": [],
   "source": [
    "zipper = lambda x,y : list(zip(x,y))"
   ]
  },
  {
   "cell_type": "code",
   "execution_count": 155,
   "id": "c3ae55c8",
   "metadata": {},
   "outputs": [
    {
     "data": {
      "text/plain": [
       "(195662,)"
      ]
     },
     "execution_count": 155,
     "metadata": {},
     "output_type": "execute_result"
    }
   ],
   "source": [
    "y_train.shape"
   ]
  },
  {
   "cell_type": "code",
   "execution_count": 156,
   "id": "0f636105",
   "metadata": {},
   "outputs": [
    {
     "data": {
      "text/plain": [
       "(4078,)"
      ]
     },
     "execution_count": 156,
     "metadata": {},
     "output_type": "execute_result"
    }
   ],
   "source": [
    "y_test.shape"
   ]
  },
  {
   "cell_type": "code",
   "execution_count": 157,
   "id": "e5c7b179",
   "metadata": {},
   "outputs": [],
   "source": [
    "train_torch = zipper(x_train, y_train)\n",
    "test_torch = zipper(x_test, y_test)\n",
    "\n",
    "train_loader = torch.utils.data.DataLoader(train_torch, batch_size=128)\n",
    "test_loader = torch.utils.data.DataLoader(test_torch, batch_size=128)"
   ]
  },
  {
   "cell_type": "code",
   "execution_count": 158,
   "id": "d1fc6936",
   "metadata": {},
   "outputs": [],
   "source": [
    "import torch.nn as nn\n",
    "import torch.nn.functional as F\n",
    "\n",
    "class Net(nn.Module): \n",
    "    \n",
    "    def __init__(self):\n",
    "        super(Net, self).__init__() \n",
    "        hidden_1 = 256\n",
    "        hidden_2 = 10\n",
    "        self.lstm = nn.LSTM(input_size=768, hidden_size=hidden_1, \n",
    "                            batch_first=True, bidirectional = True) \n",
    "        self.fc1 = nn.Linear(hidden_1 * 2, 128)\n",
    "        self.fc2 = nn.Linear(128, 42)\n",
    "        self.relu = nn.ReLU()\n",
    "        self.dropout = nn.Dropout(0.2)\n",
    "\n",
    "    \n",
    "    def forward(self, x):\n",
    "        out, hn = self.lstm(x)\n",
    "        out = self.fc1(self.relu(out[:, -1]))\n",
    "        out = self.fc2(self.relu(out))\n",
    "        return out"
   ]
  },
  {
   "cell_type": "code",
   "execution_count": 165,
   "id": "81dfa5f9",
   "metadata": {},
   "outputs": [
    {
     "name": "stdout",
     "output_type": "stream",
     "text": [
      "Net(\n",
      "  (lstm): LSTM(768, 256, batch_first=True, bidirectional=True)\n",
      "  (fc1): Linear(in_features=512, out_features=128, bias=True)\n",
      "  (fc2): Linear(in_features=128, out_features=42, bias=True)\n",
      "  (relu): ReLU()\n",
      "  (dropout): Dropout(p=0.2, inplace=False)\n",
      ")\n"
     ]
    }
   ],
   "source": [
    "lstm_model = Net()\n",
    "print(lstm_model)"
   ]
  },
  {
   "cell_type": "code",
   "execution_count": 166,
   "id": "4a5dfe64",
   "metadata": {},
   "outputs": [],
   "source": [
    "# specify loss function (categorical cross-entropy)\n",
    "criterion = nn.CrossEntropyLoss()\n",
    "# specify optimizer (stochastic gradient descent) and learning rate = 0.01\n",
    "optimizer = torch.optim.SGD(lstm_model.parameters(), lr=0.05)"
   ]
  },
  {
   "cell_type": "code",
   "execution_count": 167,
   "id": "dc0c96c7",
   "metadata": {},
   "outputs": [
    {
     "name": "stdout",
     "output_type": "stream",
     "text": [
      "Epoch: 1 \tTraining Loss: 2.151116 \tValidation Loss: 2.221570\n",
      "Validation loss decreased (inf --> 2.221570).         Saving model ...\n",
      "Epoch: 2 \tTraining Loss: 2.118629 \tValidation Loss: 2.215169\n",
      "Validation loss decreased (2.221570 --> 2.215169).         Saving model ...\n",
      "Epoch: 3 \tTraining Loss: 2.116705 \tValidation Loss: 2.210391\n",
      "Validation loss decreased (2.215169 --> 2.210391).         Saving model ...\n",
      "Epoch: 4 \tTraining Loss: 2.113895 \tValidation Loss: 2.202138\n",
      "Validation loss decreased (2.210391 --> 2.202138).         Saving model ...\n",
      "Epoch: 5 \tTraining Loss: 2.104172 \tValidation Loss: 2.169659\n",
      "Validation loss decreased (2.202138 --> 2.169659).         Saving model ...\n",
      "Epoch: 6 \tTraining Loss: 2.073237 \tValidation Loss: 2.127890\n",
      "Validation loss decreased (2.169659 --> 2.127890).         Saving model ...\n",
      "Epoch: 7 \tTraining Loss: 2.039763 \tValidation Loss: 2.068361\n",
      "Validation loss decreased (2.127890 --> 2.068361).         Saving model ...\n",
      "Epoch: 8 \tTraining Loss: 2.011462 \tValidation Loss: 2.038600\n",
      "Validation loss decreased (2.068361 --> 2.038600).         Saving model ...\n",
      "Epoch: 9 \tTraining Loss: 1.974145 \tValidation Loss: 2.190144\n",
      "Epoch: 10 \tTraining Loss: 1.929139 \tValidation Loss: 2.017979\n",
      "Validation loss decreased (2.038600 --> 2.017979).         Saving model ...\n",
      "Epoch: 11 \tTraining Loss: 1.869467 \tValidation Loss: 2.084723\n",
      "Epoch: 12 \tTraining Loss: 1.795430 \tValidation Loss: 1.768245\n",
      "Validation loss decreased (2.017979 --> 1.768245).         Saving model ...\n",
      "Epoch: 13 \tTraining Loss: 1.714963 \tValidation Loss: 1.719936\n",
      "Validation loss decreased (1.768245 --> 1.719936).         Saving model ...\n",
      "Epoch: 14 \tTraining Loss: 1.646807 \tValidation Loss: 1.737033\n",
      "Epoch: 15 \tTraining Loss: 1.595065 \tValidation Loss: 1.669727\n",
      "Validation loss decreased (1.719936 --> 1.669727).         Saving model ...\n",
      "Epoch: 16 \tTraining Loss: 1.556517 \tValidation Loss: 1.647499\n",
      "Validation loss decreased (1.669727 --> 1.647499).         Saving model ...\n",
      "Epoch: 17 \tTraining Loss: 1.522381 \tValidation Loss: 1.749697\n",
      "Epoch: 18 \tTraining Loss: 1.504792 \tValidation Loss: 1.565792\n",
      "Validation loss decreased (1.647499 --> 1.565792).         Saving model ...\n",
      "Epoch: 19 \tTraining Loss: 1.471839 \tValidation Loss: 1.578876\n",
      "Epoch: 20 \tTraining Loss: 1.444439 \tValidation Loss: 1.494561\n",
      "Validation loss decreased (1.565792 --> 1.494561).         Saving model ...\n",
      "Epoch: 21 \tTraining Loss: 1.413966 \tValidation Loss: 1.487923\n",
      "Validation loss decreased (1.494561 --> 1.487923).         Saving model ...\n",
      "Epoch: 22 \tTraining Loss: 1.398865 \tValidation Loss: 1.488109\n",
      "Epoch: 23 \tTraining Loss: 1.371670 \tValidation Loss: 1.426079\n",
      "Validation loss decreased (1.487923 --> 1.426079).         Saving model ...\n",
      "Epoch: 24 \tTraining Loss: 1.355842 \tValidation Loss: 1.394313\n",
      "Validation loss decreased (1.426079 --> 1.394313).         Saving model ...\n",
      "Epoch: 25 \tTraining Loss: 1.332254 \tValidation Loss: 1.388408\n",
      "Validation loss decreased (1.394313 --> 1.388408).         Saving model ...\n",
      "Epoch: 26 \tTraining Loss: 1.312785 \tValidation Loss: 1.413532\n",
      "Epoch: 27 \tTraining Loss: 1.290767 \tValidation Loss: 1.392519\n",
      "Epoch: 28 \tTraining Loss: 1.274454 \tValidation Loss: 1.323388\n",
      "Validation loss decreased (1.388408 --> 1.323388).         Saving model ...\n",
      "Epoch: 29 \tTraining Loss: 1.260826 \tValidation Loss: 1.293667\n",
      "Validation loss decreased (1.323388 --> 1.293667).         Saving model ...\n",
      "Epoch: 30 \tTraining Loss: 1.241093 \tValidation Loss: 1.306854\n",
      "Epoch: 31 \tTraining Loss: 1.222970 \tValidation Loss: 1.318643\n",
      "Epoch: 32 \tTraining Loss: 1.211751 \tValidation Loss: 1.280698\n",
      "Validation loss decreased (1.293667 --> 1.280698).         Saving model ...\n",
      "Epoch: 33 \tTraining Loss: 1.197052 \tValidation Loss: 1.232023\n",
      "Validation loss decreased (1.280698 --> 1.232023).         Saving model ...\n",
      "Epoch: 34 \tTraining Loss: 1.185163 \tValidation Loss: 1.262155\n",
      "Epoch: 35 \tTraining Loss: 1.172055 \tValidation Loss: 1.223557\n",
      "Validation loss decreased (1.232023 --> 1.223557).         Saving model ...\n",
      "Epoch: 36 \tTraining Loss: 1.158424 \tValidation Loss: 1.230891\n",
      "Epoch: 37 \tTraining Loss: 1.147643 \tValidation Loss: 1.201484\n",
      "Validation loss decreased (1.223557 --> 1.201484).         Saving model ...\n",
      "Epoch: 38 \tTraining Loss: 1.133965 \tValidation Loss: 1.199546\n",
      "Validation loss decreased (1.201484 --> 1.199546).         Saving model ...\n",
      "Epoch: 39 \tTraining Loss: 1.128744 \tValidation Loss: 1.172752\n",
      "Validation loss decreased (1.199546 --> 1.172752).         Saving model ...\n",
      "Epoch: 40 \tTraining Loss: 1.112972 \tValidation Loss: 1.172134\n",
      "Validation loss decreased (1.172752 --> 1.172134).         Saving model ...\n",
      "Epoch: 41 \tTraining Loss: 1.102591 \tValidation Loss: 1.171487\n",
      "Validation loss decreased (1.172134 --> 1.171487).         Saving model ...\n",
      "Epoch: 42 \tTraining Loss: 1.088645 \tValidation Loss: 1.155945\n",
      "Validation loss decreased (1.171487 --> 1.155945).         Saving model ...\n",
      "Epoch: 43 \tTraining Loss: 1.078288 \tValidation Loss: 1.157384\n",
      "Epoch: 44 \tTraining Loss: 1.073814 \tValidation Loss: 1.151513\n",
      "Validation loss decreased (1.155945 --> 1.151513).         Saving model ...\n",
      "Epoch: 45 \tTraining Loss: 1.059470 \tValidation Loss: 1.201133\n",
      "Epoch: 46 \tTraining Loss: 1.051677 \tValidation Loss: 1.162147\n",
      "Epoch: 47 \tTraining Loss: 1.043098 \tValidation Loss: 1.117074\n",
      "Validation loss decreased (1.151513 --> 1.117074).         Saving model ...\n",
      "Epoch: 48 \tTraining Loss: 1.038507 \tValidation Loss: 1.130324\n",
      "Epoch: 49 \tTraining Loss: 1.028210 \tValidation Loss: 1.107211\n",
      "Validation loss decreased (1.117074 --> 1.107211).         Saving model ...\n",
      "Epoch: 50 \tTraining Loss: 1.019912 \tValidation Loss: 1.095319\n",
      "Validation loss decreased (1.107211 --> 1.095319).         Saving model ...\n",
      "Epoch: 51 \tTraining Loss: 1.011743 \tValidation Loss: 1.108543\n",
      "Epoch: 52 \tTraining Loss: 1.006416 \tValidation Loss: 1.076529\n",
      "Validation loss decreased (1.095319 --> 1.076529).         Saving model ...\n",
      "Epoch: 53 \tTraining Loss: 1.000157 \tValidation Loss: 1.089364\n",
      "Epoch: 54 \tTraining Loss: 0.995638 \tValidation Loss: 1.197686\n",
      "Epoch: 55 \tTraining Loss: 0.999626 \tValidation Loss: 1.149551\n",
      "Epoch: 56 \tTraining Loss: 0.981131 \tValidation Loss: 1.098564\n",
      "Epoch: 57 \tTraining Loss: 0.974481 \tValidation Loss: 1.133250\n",
      "Epoch: 58 \tTraining Loss: 0.969290 \tValidation Loss: 1.132047\n",
      "Epoch: 59 \tTraining Loss: 0.965782 \tValidation Loss: 1.078886\n",
      "Epoch: 60 \tTraining Loss: 0.960279 \tValidation Loss: 1.125288\n",
      "Epoch: 61 \tTraining Loss: 0.953701 \tValidation Loss: 1.100751\n",
      "Epoch: 62 \tTraining Loss: 0.949092 \tValidation Loss: 1.121227\n",
      "Epoch: 63 \tTraining Loss: 0.943792 \tValidation Loss: 1.056119\n",
      "Validation loss decreased (1.076529 --> 1.056119).         Saving model ...\n",
      "Epoch: 64 \tTraining Loss: 0.937869 \tValidation Loss: 1.037549\n",
      "Validation loss decreased (1.056119 --> 1.037549).         Saving model ...\n",
      "Epoch: 65 \tTraining Loss: 0.934779 \tValidation Loss: 1.033536\n",
      "Validation loss decreased (1.037549 --> 1.033536).         Saving model ...\n",
      "Epoch: 66 \tTraining Loss: 0.929931 \tValidation Loss: 1.053065\n",
      "Epoch: 67 \tTraining Loss: 0.922983 \tValidation Loss: 1.026010\n",
      "Validation loss decreased (1.033536 --> 1.026010).         Saving model ...\n",
      "Epoch: 68 \tTraining Loss: 0.920359 \tValidation Loss: 1.050757\n",
      "Epoch: 69 \tTraining Loss: 0.914778 \tValidation Loss: 1.034441\n",
      "Epoch: 70 \tTraining Loss: 0.916492 \tValidation Loss: 0.997903\n",
      "Validation loss decreased (1.026010 --> 0.997903).         Saving model ...\n",
      "Epoch: 71 \tTraining Loss: 0.907697 \tValidation Loss: 0.996823\n",
      "Validation loss decreased (0.997903 --> 0.996823).         Saving model ...\n",
      "Epoch: 72 \tTraining Loss: 0.906159 \tValidation Loss: 0.986683\n",
      "Validation loss decreased (0.996823 --> 0.986683).         Saving model ...\n",
      "Epoch: 73 \tTraining Loss: 0.898919 \tValidation Loss: 0.988047\n",
      "Epoch: 74 \tTraining Loss: 0.896662 \tValidation Loss: 1.014217\n",
      "Epoch: 75 \tTraining Loss: 0.891878 \tValidation Loss: 1.016323\n",
      "Epoch: 76 \tTraining Loss: 0.889788 \tValidation Loss: 0.998545\n",
      "Epoch: 77 \tTraining Loss: 0.884873 \tValidation Loss: 0.996137\n",
      "Epoch: 78 \tTraining Loss: 0.881483 \tValidation Loss: 0.981146\n",
      "Validation loss decreased (0.986683 --> 0.981146).         Saving model ...\n",
      "Epoch: 79 \tTraining Loss: 0.877791 \tValidation Loss: 0.987015\n",
      "Epoch: 80 \tTraining Loss: 0.874329 \tValidation Loss: 0.995576\n"
     ]
    },
    {
     "name": "stdout",
     "output_type": "stream",
     "text": [
      "Epoch: 81 \tTraining Loss: 0.871938 \tValidation Loss: 0.965714\n",
      "Validation loss decreased (0.981146 --> 0.965714).         Saving model ...\n",
      "Epoch: 82 \tTraining Loss: 0.868642 \tValidation Loss: 0.974237\n",
      "Epoch: 83 \tTraining Loss: 0.864941 \tValidation Loss: 0.959886\n",
      "Validation loss decreased (0.965714 --> 0.959886).         Saving model ...\n",
      "Epoch: 84 \tTraining Loss: 0.862271 \tValidation Loss: 0.957591\n",
      "Validation loss decreased (0.959886 --> 0.957591).         Saving model ...\n",
      "Epoch: 85 \tTraining Loss: 0.858921 \tValidation Loss: 0.954215\n",
      "Validation loss decreased (0.957591 --> 0.954215).         Saving model ...\n",
      "Epoch: 86 \tTraining Loss: 0.855117 \tValidation Loss: 0.929642\n",
      "Validation loss decreased (0.954215 --> 0.929642).         Saving model ...\n",
      "Epoch: 87 \tTraining Loss: 0.853284 \tValidation Loss: 0.940000\n",
      "Epoch: 88 \tTraining Loss: 0.849589 \tValidation Loss: 0.946699\n",
      "Epoch: 89 \tTraining Loss: 0.850079 \tValidation Loss: 0.927828\n",
      "Validation loss decreased (0.929642 --> 0.927828).         Saving model ...\n",
      "Epoch: 90 \tTraining Loss: 0.846131 \tValidation Loss: 0.940192\n",
      "Epoch: 91 \tTraining Loss: 0.841479 \tValidation Loss: 0.936529\n",
      "Epoch: 92 \tTraining Loss: 0.840256 \tValidation Loss: 0.939773\n",
      "Epoch: 93 \tTraining Loss: 0.836546 \tValidation Loss: 0.946192\n",
      "Epoch: 94 \tTraining Loss: 0.838002 \tValidation Loss: 0.923991\n",
      "Validation loss decreased (0.927828 --> 0.923991).         Saving model ...\n",
      "Epoch: 95 \tTraining Loss: 0.831993 \tValidation Loss: 0.924130\n",
      "Epoch: 96 \tTraining Loss: 0.829406 \tValidation Loss: 0.938567\n",
      "Epoch: 97 \tTraining Loss: 0.826810 \tValidation Loss: 0.947275\n",
      "Epoch: 98 \tTraining Loss: 0.825445 \tValidation Loss: 0.921629\n",
      "Validation loss decreased (0.923991 --> 0.921629).         Saving model ...\n",
      "Epoch: 99 \tTraining Loss: 0.822486 \tValidation Loss: 0.929914\n",
      "Epoch: 100 \tTraining Loss: 0.819925 \tValidation Loss: 0.947588\n",
      "Epoch: 101 \tTraining Loss: 0.817974 \tValidation Loss: 0.937544\n",
      "Epoch: 102 \tTraining Loss: 0.814735 \tValidation Loss: 0.960754\n",
      "Epoch: 103 \tTraining Loss: 0.813271 \tValidation Loss: 0.912404\n",
      "Validation loss decreased (0.921629 --> 0.912404).         Saving model ...\n",
      "Epoch: 104 \tTraining Loss: 0.809933 \tValidation Loss: 0.955554\n",
      "Epoch: 105 \tTraining Loss: 0.808549 \tValidation Loss: 0.923131\n",
      "Epoch: 106 \tTraining Loss: 0.807157 \tValidation Loss: 0.973103\n",
      "Epoch: 107 \tTraining Loss: 0.808274 \tValidation Loss: 0.928342\n",
      "Epoch: 108 \tTraining Loss: 0.801441 \tValidation Loss: 0.924276\n",
      "Epoch: 109 \tTraining Loss: 0.802640 \tValidation Loss: 0.907140\n",
      "Validation loss decreased (0.912404 --> 0.907140).         Saving model ...\n",
      "Epoch: 110 \tTraining Loss: 0.797773 \tValidation Loss: 0.910959\n",
      "Epoch: 111 \tTraining Loss: 0.795673 \tValidation Loss: 0.939174\n",
      "Epoch: 112 \tTraining Loss: 0.793908 \tValidation Loss: 0.930000\n",
      "Epoch: 113 \tTraining Loss: 0.792183 \tValidation Loss: 0.918974\n",
      "Epoch: 114 \tTraining Loss: 0.789778 \tValidation Loss: 0.907423\n",
      "Epoch: 115 \tTraining Loss: 0.787856 \tValidation Loss: 0.891710\n",
      "Validation loss decreased (0.907140 --> 0.891710).         Saving model ...\n",
      "Epoch: 116 \tTraining Loss: 0.786441 \tValidation Loss: 0.909375\n",
      "Epoch: 117 \tTraining Loss: 0.784010 \tValidation Loss: 0.895553\n",
      "Epoch: 118 \tTraining Loss: 0.781479 \tValidation Loss: 0.900786\n",
      "Epoch: 119 \tTraining Loss: 0.780864 \tValidation Loss: 0.904916\n",
      "Epoch: 120 \tTraining Loss: 0.778624 \tValidation Loss: 0.888212\n",
      "Validation loss decreased (0.891710 --> 0.888212).         Saving model ...\n",
      "Epoch: 121 \tTraining Loss: 0.777179 \tValidation Loss: 0.874005\n",
      "Validation loss decreased (0.888212 --> 0.874005).         Saving model ...\n",
      "Epoch: 122 \tTraining Loss: 0.774479 \tValidation Loss: 0.880232\n",
      "Epoch: 123 \tTraining Loss: 0.774129 \tValidation Loss: 0.917795\n",
      "Epoch: 124 \tTraining Loss: 0.771233 \tValidation Loss: 0.874591\n",
      "Epoch: 125 \tTraining Loss: 0.770472 \tValidation Loss: 0.867742\n",
      "Validation loss decreased (0.874005 --> 0.867742).         Saving model ...\n",
      "Epoch: 126 \tTraining Loss: 0.768050 \tValidation Loss: 0.872984\n",
      "Epoch: 127 \tTraining Loss: 0.768824 \tValidation Loss: 0.868613\n",
      "Epoch: 128 \tTraining Loss: 0.764506 \tValidation Loss: 0.859101\n",
      "Validation loss decreased (0.867742 --> 0.859101).         Saving model ...\n",
      "Epoch: 129 \tTraining Loss: 0.765551 \tValidation Loss: 0.850087\n",
      "Validation loss decreased (0.859101 --> 0.850087).         Saving model ...\n",
      "Epoch: 130 \tTraining Loss: 0.761667 \tValidation Loss: 0.864825\n",
      "Epoch: 131 \tTraining Loss: 0.760232 \tValidation Loss: 0.860439\n",
      "Epoch: 132 \tTraining Loss: 0.758795 \tValidation Loss: 0.855709\n",
      "Epoch: 133 \tTraining Loss: 0.756684 \tValidation Loss: 0.868708\n",
      "Epoch: 134 \tTraining Loss: 0.755512 \tValidation Loss: 0.856754\n",
      "Epoch: 135 \tTraining Loss: 0.752424 \tValidation Loss: 0.837602\n",
      "Validation loss decreased (0.850087 --> 0.837602).         Saving model ...\n",
      "Epoch: 136 \tTraining Loss: 0.752097 \tValidation Loss: 0.869653\n",
      "Epoch: 137 \tTraining Loss: 0.750204 \tValidation Loss: 0.843671\n",
      "Epoch: 138 \tTraining Loss: 0.749854 \tValidation Loss: 0.847341\n",
      "Epoch: 139 \tTraining Loss: 0.747728 \tValidation Loss: 0.863901\n",
      "Epoch: 140 \tTraining Loss: 0.746163 \tValidation Loss: 0.859608\n",
      "Epoch: 141 \tTraining Loss: 0.744840 \tValidation Loss: 0.850547\n",
      "Epoch: 142 \tTraining Loss: 0.743583 \tValidation Loss: 0.868503\n",
      "Epoch: 143 \tTraining Loss: 0.740166 \tValidation Loss: 0.844174\n",
      "Epoch: 144 \tTraining Loss: 0.741002 \tValidation Loss: 0.866696\n",
      "Epoch: 145 \tTraining Loss: 0.738903 \tValidation Loss: 0.848921\n",
      "Epoch: 146 \tTraining Loss: 0.737418 \tValidation Loss: 0.847551\n",
      "Epoch: 147 \tTraining Loss: 0.735583 \tValidation Loss: 0.851206\n",
      "Epoch: 148 \tTraining Loss: 0.735749 \tValidation Loss: 0.891096\n",
      "Epoch: 149 \tTraining Loss: 0.734404 \tValidation Loss: 0.849489\n",
      "Epoch: 150 \tTraining Loss: 0.731564 \tValidation Loss: 0.843641\n",
      "Epoch: 151 \tTraining Loss: 0.731860 \tValidation Loss: 0.855748\n",
      "Epoch: 152 \tTraining Loss: 0.729527 \tValidation Loss: 0.859711\n",
      "Epoch: 153 \tTraining Loss: 0.728798 \tValidation Loss: 0.856407\n",
      "Epoch: 154 \tTraining Loss: 0.727503 \tValidation Loss: 0.883648\n",
      "Epoch: 155 \tTraining Loss: 0.725585 \tValidation Loss: 0.909693\n",
      "Epoch: 156 \tTraining Loss: 0.723801 \tValidation Loss: 0.876270\n",
      "Epoch: 157 \tTraining Loss: 0.722999 \tValidation Loss: 0.850307\n",
      "Epoch: 158 \tTraining Loss: 0.722574 \tValidation Loss: 0.855237\n",
      "Epoch: 159 \tTraining Loss: 0.721237 \tValidation Loss: 0.868272\n",
      "Epoch: 160 \tTraining Loss: 0.719355 \tValidation Loss: 0.863368\n",
      "Epoch: 161 \tTraining Loss: 0.718725 \tValidation Loss: 0.880900\n",
      "Epoch: 162 \tTraining Loss: 0.716624 \tValidation Loss: 0.834034\n",
      "Validation loss decreased (0.837602 --> 0.834034).         Saving model ...\n",
      "Epoch: 163 \tTraining Loss: 0.716220 \tValidation Loss: 0.941268\n",
      "Epoch: 164 \tTraining Loss: 0.715235 \tValidation Loss: 0.852718\n",
      "Epoch: 165 \tTraining Loss: 0.714325 \tValidation Loss: 0.956934\n",
      "Epoch: 166 \tTraining Loss: 0.713212 \tValidation Loss: 0.871482\n",
      "Epoch: 167 \tTraining Loss: 0.710979 \tValidation Loss: 0.886821\n",
      "Epoch: 168 \tTraining Loss: 0.710945 \tValidation Loss: 0.861171\n",
      "Epoch: 169 \tTraining Loss: 0.710311 \tValidation Loss: 0.910384\n",
      "Epoch: 170 \tTraining Loss: 0.708302 \tValidation Loss: 0.889064\n",
      "Epoch: 171 \tTraining Loss: 0.707304 \tValidation Loss: 0.877589\n",
      "Epoch: 172 \tTraining Loss: 0.708703 \tValidation Loss: 0.888318\n",
      "Epoch: 173 \tTraining Loss: 0.705905 \tValidation Loss: 0.883879\n",
      "Epoch: 174 \tTraining Loss: 0.705766 \tValidation Loss: 0.916262\n",
      "Epoch: 175 \tTraining Loss: 0.703645 \tValidation Loss: 0.956800\n",
      "Epoch: 176 \tTraining Loss: 0.702711 \tValidation Loss: 0.878616\n",
      "Epoch: 177 \tTraining Loss: 0.699916 \tValidation Loss: 0.900959\n",
      "Epoch: 178 \tTraining Loss: 0.700542 \tValidation Loss: 0.902896\n",
      "Epoch: 179 \tTraining Loss: 0.699329 \tValidation Loss: 0.873976\n",
      "Epoch: 180 \tTraining Loss: 0.698842 \tValidation Loss: 0.895598\n",
      "Epoch: 181 \tTraining Loss: 0.696924 \tValidation Loss: 0.882982\n",
      "Epoch: 182 \tTraining Loss: 0.696584 \tValidation Loss: 0.888751\n",
      "Epoch: 183 \tTraining Loss: 0.695211 \tValidation Loss: 0.885505\n",
      "Epoch: 184 \tTraining Loss: 0.694191 \tValidation Loss: 0.916384\n",
      "Epoch: 185 \tTraining Loss: 0.692668 \tValidation Loss: 0.880844\n",
      "Epoch: 186 \tTraining Loss: 0.693329 \tValidation Loss: 0.916606\n",
      "Epoch: 187 \tTraining Loss: 0.692399 \tValidation Loss: 0.890465\n",
      "Epoch: 188 \tTraining Loss: 0.691004 \tValidation Loss: 0.890326\n",
      "Epoch: 189 \tTraining Loss: 0.689395 \tValidation Loss: 0.917999\n"
     ]
    },
    {
     "name": "stdout",
     "output_type": "stream",
     "text": [
      "Epoch: 190 \tTraining Loss: 0.689012 \tValidation Loss: 0.913038\n",
      "Epoch: 191 \tTraining Loss: 0.687787 \tValidation Loss: 0.899646\n",
      "Epoch: 192 \tTraining Loss: 0.687500 \tValidation Loss: 0.874599\n",
      "Epoch: 193 \tTraining Loss: 0.685069 \tValidation Loss: 0.883100\n",
      "Epoch: 194 \tTraining Loss: 0.684751 \tValidation Loss: 0.879873\n",
      "Epoch: 195 \tTraining Loss: 0.684433 \tValidation Loss: 0.864592\n",
      "Epoch: 196 \tTraining Loss: 0.682528 \tValidation Loss: 0.859690\n",
      "Epoch: 197 \tTraining Loss: 0.681715 \tValidation Loss: 0.885393\n",
      "Epoch: 198 \tTraining Loss: 0.681175 \tValidation Loss: 0.839254\n",
      "Epoch: 199 \tTraining Loss: 0.680998 \tValidation Loss: 0.821023\n",
      "Validation loss decreased (0.834034 --> 0.821023).         Saving model ...\n",
      "Epoch: 200 \tTraining Loss: 0.679154 \tValidation Loss: 0.824142\n",
      "Epoch: 201 \tTraining Loss: 0.677712 \tValidation Loss: 0.871741\n",
      "Epoch: 202 \tTraining Loss: 0.678507 \tValidation Loss: 0.848819\n",
      "Epoch: 203 \tTraining Loss: 0.678442 \tValidation Loss: 0.857247\n",
      "Epoch: 204 \tTraining Loss: 0.677486 \tValidation Loss: 0.860299\n",
      "Epoch: 205 \tTraining Loss: 0.673926 \tValidation Loss: 0.904264\n",
      "Epoch: 206 \tTraining Loss: 0.672730 \tValidation Loss: 0.853122\n",
      "Epoch: 207 \tTraining Loss: 0.673898 \tValidation Loss: 0.836472\n",
      "Epoch: 208 \tTraining Loss: 0.672261 \tValidation Loss: 0.898607\n",
      "Epoch: 209 \tTraining Loss: 0.671911 \tValidation Loss: 0.829607\n",
      "Epoch: 210 \tTraining Loss: 0.670229 \tValidation Loss: 0.846461\n",
      "Epoch: 211 \tTraining Loss: 0.669920 \tValidation Loss: 0.826827\n",
      "Epoch: 212 \tTraining Loss: 0.671365 \tValidation Loss: 0.839106\n",
      "Epoch: 213 \tTraining Loss: 0.668431 \tValidation Loss: 0.849351\n",
      "Epoch: 214 \tTraining Loss: 0.668696 \tValidation Loss: 0.827645\n",
      "Epoch: 215 \tTraining Loss: 0.666211 \tValidation Loss: 0.849845\n",
      "Epoch: 216 \tTraining Loss: 0.663794 \tValidation Loss: 0.830117\n",
      "Epoch: 217 \tTraining Loss: 0.667064 \tValidation Loss: 0.820131\n",
      "Validation loss decreased (0.821023 --> 0.820131).         Saving model ...\n",
      "Epoch: 218 \tTraining Loss: 0.664052 \tValidation Loss: 0.813947\n",
      "Validation loss decreased (0.820131 --> 0.813947).         Saving model ...\n",
      "Epoch: 219 \tTraining Loss: 0.663149 \tValidation Loss: 0.816979\n",
      "Epoch: 220 \tTraining Loss: 0.661822 \tValidation Loss: 0.824056\n",
      "Epoch: 221 \tTraining Loss: 0.661339 \tValidation Loss: 0.818819\n",
      "Epoch: 222 \tTraining Loss: 0.661510 \tValidation Loss: 0.832913\n",
      "Epoch: 223 \tTraining Loss: 0.660824 \tValidation Loss: 0.836010\n",
      "Epoch: 224 \tTraining Loss: 0.657705 \tValidation Loss: 0.823645\n",
      "Epoch: 225 \tTraining Loss: 0.659185 \tValidation Loss: 0.836799\n",
      "Epoch: 226 \tTraining Loss: 0.657982 \tValidation Loss: 0.820783\n",
      "Epoch: 227 \tTraining Loss: 0.656476 \tValidation Loss: 0.852338\n",
      "Epoch: 228 \tTraining Loss: 0.655938 \tValidation Loss: 0.816052\n",
      "Epoch: 229 \tTraining Loss: 0.656150 \tValidation Loss: 0.873704\n",
      "Epoch: 230 \tTraining Loss: 0.655596 \tValidation Loss: 0.840356\n",
      "Epoch: 231 \tTraining Loss: 0.653587 \tValidation Loss: 0.858530\n",
      "Epoch: 232 \tTraining Loss: 0.653567 \tValidation Loss: 0.825823\n",
      "Epoch: 233 \tTraining Loss: 0.653242 \tValidation Loss: 0.813567\n",
      "Validation loss decreased (0.813947 --> 0.813567).         Saving model ...\n",
      "Epoch: 234 \tTraining Loss: 0.652080 \tValidation Loss: 0.828407\n",
      "Epoch: 235 \tTraining Loss: 0.650689 \tValidation Loss: 0.840449\n",
      "Epoch: 236 \tTraining Loss: 0.649165 \tValidation Loss: 0.839508\n",
      "Epoch: 237 \tTraining Loss: 0.648425 \tValidation Loss: 0.842390\n",
      "Epoch: 238 \tTraining Loss: 0.648907 \tValidation Loss: 0.848789\n",
      "Epoch: 239 \tTraining Loss: 0.649449 \tValidation Loss: 0.842793\n",
      "Epoch: 240 \tTraining Loss: 0.647267 \tValidation Loss: 0.835844\n",
      "Epoch: 241 \tTraining Loss: 0.645998 \tValidation Loss: 0.831051\n",
      "Epoch: 242 \tTraining Loss: 0.645890 \tValidation Loss: 0.832597\n",
      "Epoch: 243 \tTraining Loss: 0.646772 \tValidation Loss: 0.844509\n",
      "Epoch: 244 \tTraining Loss: 0.645975 \tValidation Loss: 0.847105\n",
      "Epoch: 245 \tTraining Loss: 0.643081 \tValidation Loss: 0.908203\n",
      "Epoch: 246 \tTraining Loss: 0.644147 \tValidation Loss: 0.861298\n",
      "Epoch: 247 \tTraining Loss: 0.645780 \tValidation Loss: 0.841514\n",
      "Epoch: 248 \tTraining Loss: 0.641690 \tValidation Loss: 0.866436\n",
      "Epoch: 249 \tTraining Loss: 0.641276 \tValidation Loss: 0.882412\n",
      "Epoch: 250 \tTraining Loss: 0.641188 \tValidation Loss: 0.867228\n",
      "Epoch: 251 \tTraining Loss: 0.639618 \tValidation Loss: 0.834915\n",
      "Epoch: 252 \tTraining Loss: 0.638839 \tValidation Loss: 0.861786\n",
      "Epoch: 253 \tTraining Loss: 0.636874 \tValidation Loss: 0.853918\n",
      "Epoch: 254 \tTraining Loss: 0.635648 \tValidation Loss: 0.862393\n",
      "Epoch: 255 \tTraining Loss: 0.636167 \tValidation Loss: 0.866396\n",
      "Epoch: 256 \tTraining Loss: 0.635575 \tValidation Loss: 0.888642\n",
      "Epoch: 257 \tTraining Loss: 0.634044 \tValidation Loss: 0.845154\n",
      "Epoch: 258 \tTraining Loss: 0.633052 \tValidation Loss: 0.877913\n",
      "Epoch: 259 \tTraining Loss: 0.635283 \tValidation Loss: 0.891561\n",
      "Epoch: 260 \tTraining Loss: 0.632193 \tValidation Loss: 0.893660\n",
      "Epoch: 261 \tTraining Loss: 0.631869 \tValidation Loss: 0.852890\n",
      "Epoch: 262 \tTraining Loss: 0.631448 \tValidation Loss: 0.946101\n",
      "Epoch: 263 \tTraining Loss: 0.632199 \tValidation Loss: 0.883628\n",
      "Epoch: 264 \tTraining Loss: 0.628450 \tValidation Loss: 0.946570\n",
      "Epoch: 265 \tTraining Loss: 0.628675 \tValidation Loss: 0.907084\n",
      "Epoch: 266 \tTraining Loss: 0.627993 \tValidation Loss: 0.866798\n",
      "Epoch: 267 \tTraining Loss: 0.626844 \tValidation Loss: 0.919352\n",
      "Epoch: 268 \tTraining Loss: 0.626196 \tValidation Loss: 0.871507\n",
      "Epoch: 269 \tTraining Loss: 0.627607 \tValidation Loss: 0.861534\n",
      "Epoch: 270 \tTraining Loss: 0.625097 \tValidation Loss: 0.902226\n",
      "Epoch: 271 \tTraining Loss: 0.626058 \tValidation Loss: 0.854768\n",
      "Epoch: 272 \tTraining Loss: 0.624198 \tValidation Loss: 0.925361\n",
      "Epoch: 273 \tTraining Loss: 0.624451 \tValidation Loss: 0.882646\n",
      "Epoch: 274 \tTraining Loss: 0.623978 \tValidation Loss: 0.889154\n",
      "Epoch: 275 \tTraining Loss: 0.622999 \tValidation Loss: 0.892751\n",
      "Epoch: 276 \tTraining Loss: 0.622592 \tValidation Loss: 0.883475\n",
      "Epoch: 277 \tTraining Loss: 0.621368 \tValidation Loss: 0.910425\n",
      "Epoch: 278 \tTraining Loss: 0.622852 \tValidation Loss: 0.880078\n",
      "Epoch: 279 \tTraining Loss: 0.619386 \tValidation Loss: 0.871680\n",
      "Epoch: 280 \tTraining Loss: 0.618881 \tValidation Loss: 0.877844\n",
      "Epoch: 281 \tTraining Loss: 0.621333 \tValidation Loss: 0.888274\n",
      "Epoch: 282 \tTraining Loss: 0.619823 \tValidation Loss: 0.937995\n",
      "Epoch: 283 \tTraining Loss: 0.616275 \tValidation Loss: 0.841502\n",
      "Epoch: 284 \tTraining Loss: 0.615447 \tValidation Loss: 0.881802\n",
      "Epoch: 285 \tTraining Loss: 0.614797 \tValidation Loss: 0.879518\n",
      "Epoch: 286 \tTraining Loss: 0.613911 \tValidation Loss: 0.883150\n",
      "Epoch: 287 \tTraining Loss: 0.615876 \tValidation Loss: 0.879952\n",
      "Epoch: 288 \tTraining Loss: 0.612951 \tValidation Loss: 0.903590\n",
      "Epoch: 289 \tTraining Loss: 0.613900 \tValidation Loss: 0.872255\n",
      "Epoch: 290 \tTraining Loss: 0.612620 \tValidation Loss: 0.865079\n",
      "Epoch: 291 \tTraining Loss: 0.612032 \tValidation Loss: 0.885713\n",
      "Epoch: 292 \tTraining Loss: 0.612279 \tValidation Loss: 0.906145\n",
      "Epoch: 293 \tTraining Loss: 0.610074 \tValidation Loss: 0.956647\n",
      "Epoch: 294 \tTraining Loss: 0.609442 \tValidation Loss: 0.894468\n",
      "Epoch: 295 \tTraining Loss: 0.610671 \tValidation Loss: 0.906754\n",
      "Epoch: 296 \tTraining Loss: 0.610684 \tValidation Loss: 0.907394\n",
      "Epoch: 297 \tTraining Loss: 0.608729 \tValidation Loss: 0.871201\n",
      "Epoch: 298 \tTraining Loss: 0.607515 \tValidation Loss: 0.935622\n",
      "Epoch: 299 \tTraining Loss: 0.605684 \tValidation Loss: 0.883938\n",
      "Epoch: 300 \tTraining Loss: 0.604827 \tValidation Loss: 0.885038\n",
      "Epoch: 301 \tTraining Loss: 0.606839 \tValidation Loss: 0.880473\n",
      "Epoch: 302 \tTraining Loss: 0.604846 \tValidation Loss: 0.886852\n",
      "Epoch: 303 \tTraining Loss: 0.602750 \tValidation Loss: 0.871228\n",
      "Epoch: 304 \tTraining Loss: 0.602328 \tValidation Loss: 0.920582\n",
      "Epoch: 305 \tTraining Loss: 0.601838 \tValidation Loss: 0.897235\n",
      "Epoch: 306 \tTraining Loss: 0.601431 \tValidation Loss: 0.993117\n",
      "Epoch: 307 \tTraining Loss: 0.602010 \tValidation Loss: 0.882986\n",
      "Epoch: 308 \tTraining Loss: 0.603949 \tValidation Loss: 0.897508\n",
      "Epoch: 309 \tTraining Loss: 0.599192 \tValidation Loss: 0.913315\n",
      "Epoch: 310 \tTraining Loss: 0.602092 \tValidation Loss: 0.888934\n",
      "Epoch: 311 \tTraining Loss: 0.597600 \tValidation Loss: 0.950589\n",
      "Epoch: 312 \tTraining Loss: 0.598826 \tValidation Loss: 0.900760\n",
      "Epoch: 313 \tTraining Loss: 0.599644 \tValidation Loss: 0.861501\n",
      "Epoch: 314 \tTraining Loss: 0.595185 \tValidation Loss: 0.903073\n",
      "Epoch: 315 \tTraining Loss: 0.597133 \tValidation Loss: 0.879661\n"
     ]
    },
    {
     "name": "stdout",
     "output_type": "stream",
     "text": [
      "Epoch: 316 \tTraining Loss: 0.596755 \tValidation Loss: 0.943737\n",
      "Epoch: 317 \tTraining Loss: 0.595831 \tValidation Loss: 0.956550\n",
      "Epoch: 318 \tTraining Loss: 0.594718 \tValidation Loss: 0.889610\n",
      "Epoch: 319 \tTraining Loss: 0.593908 \tValidation Loss: 0.993703\n",
      "Epoch: 320 \tTraining Loss: 0.593936 \tValidation Loss: 0.911177\n",
      "Epoch: 321 \tTraining Loss: 0.593099 \tValidation Loss: 0.890396\n",
      "Epoch: 322 \tTraining Loss: 0.591119 \tValidation Loss: 0.933341\n",
      "Epoch: 323 \tTraining Loss: 0.590767 \tValidation Loss: 0.890192\n",
      "Epoch: 324 \tTraining Loss: 0.590054 \tValidation Loss: 0.886942\n",
      "Epoch: 325 \tTraining Loss: 0.588363 \tValidation Loss: 0.900965\n",
      "Epoch: 326 \tTraining Loss: 0.591344 \tValidation Loss: 0.898517\n",
      "Epoch: 327 \tTraining Loss: 0.589014 \tValidation Loss: 0.876326\n",
      "Epoch: 328 \tTraining Loss: 0.590151 \tValidation Loss: 0.856222\n",
      "Epoch: 329 \tTraining Loss: 0.588030 \tValidation Loss: 0.921771\n",
      "Epoch: 330 \tTraining Loss: 0.586715 \tValidation Loss: 0.910062\n",
      "Epoch: 331 \tTraining Loss: 0.588481 \tValidation Loss: 0.912049\n",
      "Epoch: 332 \tTraining Loss: 0.586359 \tValidation Loss: 1.011836\n",
      "Epoch: 333 \tTraining Loss: 0.582955 \tValidation Loss: 0.887246\n",
      "Epoch: 334 \tTraining Loss: 0.583918 \tValidation Loss: 0.927414\n",
      "Epoch: 335 \tTraining Loss: 0.583678 \tValidation Loss: 0.875095\n",
      "Epoch: 336 \tTraining Loss: 0.582483 \tValidation Loss: 0.856585\n",
      "Epoch: 337 \tTraining Loss: 0.582055 \tValidation Loss: 0.915188\n",
      "Epoch: 338 \tTraining Loss: 0.581858 \tValidation Loss: 1.012215\n",
      "Epoch: 339 \tTraining Loss: 0.580773 \tValidation Loss: 0.874924\n",
      "Epoch: 340 \tTraining Loss: 0.579008 \tValidation Loss: 0.873146\n",
      "Epoch: 341 \tTraining Loss: 0.580865 \tValidation Loss: 0.887447\n",
      "Epoch: 342 \tTraining Loss: 0.580413 \tValidation Loss: 0.892912\n",
      "Epoch: 343 \tTraining Loss: 0.580056 \tValidation Loss: 0.892453\n",
      "Epoch: 344 \tTraining Loss: 0.577559 \tValidation Loss: 0.891572\n",
      "Epoch: 345 \tTraining Loss: 0.575972 \tValidation Loss: 0.881527\n",
      "Epoch: 346 \tTraining Loss: 0.579257 \tValidation Loss: 0.880274\n",
      "Epoch: 347 \tTraining Loss: 0.576862 \tValidation Loss: 0.915397\n",
      "Epoch: 348 \tTraining Loss: 0.573492 \tValidation Loss: 0.880871\n",
      "Epoch: 349 \tTraining Loss: 0.572272 \tValidation Loss: 0.916529\n",
      "Epoch: 350 \tTraining Loss: 0.575920 \tValidation Loss: 0.971892\n",
      "Epoch: 351 \tTraining Loss: 0.572297 \tValidation Loss: 0.901649\n",
      "Epoch: 352 \tTraining Loss: 0.572452 \tValidation Loss: 0.903016\n",
      "Epoch: 353 \tTraining Loss: 0.571616 \tValidation Loss: 0.896817\n",
      "Epoch: 354 \tTraining Loss: 0.570221 \tValidation Loss: 0.890237\n",
      "Epoch: 355 \tTraining Loss: 0.567878 \tValidation Loss: 0.932216\n",
      "Epoch: 356 \tTraining Loss: 0.569591 \tValidation Loss: 0.886731\n",
      "Epoch: 357 \tTraining Loss: 0.570231 \tValidation Loss: 0.896694\n",
      "Epoch: 358 \tTraining Loss: 0.568166 \tValidation Loss: 0.964058\n",
      "Epoch: 359 \tTraining Loss: 0.566714 \tValidation Loss: 0.882627\n",
      "Epoch: 360 \tTraining Loss: 0.566355 \tValidation Loss: 1.031264\n",
      "Epoch: 361 \tTraining Loss: 0.565059 \tValidation Loss: 0.927324\n",
      "Epoch: 362 \tTraining Loss: 0.564444 \tValidation Loss: 0.897205\n",
      "Epoch: 363 \tTraining Loss: 0.564133 \tValidation Loss: 0.893921\n",
      "Epoch: 364 \tTraining Loss: 0.565614 \tValidation Loss: 0.889335\n",
      "Epoch: 365 \tTraining Loss: 0.562734 \tValidation Loss: 0.942652\n",
      "Epoch: 366 \tTraining Loss: 0.563640 \tValidation Loss: 0.955677\n",
      "Epoch: 367 \tTraining Loss: 0.562336 \tValidation Loss: 0.906643\n",
      "Epoch: 368 \tTraining Loss: 0.562080 \tValidation Loss: 0.938144\n",
      "Epoch: 369 \tTraining Loss: 0.558612 \tValidation Loss: 0.924723\n",
      "Epoch: 370 \tTraining Loss: 0.561790 \tValidation Loss: 0.941988\n",
      "Epoch: 371 \tTraining Loss: 0.560885 \tValidation Loss: 0.926514\n",
      "Epoch: 372 \tTraining Loss: 0.558371 \tValidation Loss: 0.909739\n",
      "Epoch: 373 \tTraining Loss: 0.560150 \tValidation Loss: 0.929365\n",
      "Epoch: 374 \tTraining Loss: 0.559635 \tValidation Loss: 0.911205\n",
      "Epoch: 375 \tTraining Loss: 0.559693 \tValidation Loss: 0.895380\n",
      "Epoch: 376 \tTraining Loss: 0.559232 \tValidation Loss: 0.887701\n",
      "Epoch: 377 \tTraining Loss: 0.557107 \tValidation Loss: 0.934630\n",
      "Epoch: 378 \tTraining Loss: 0.554691 \tValidation Loss: 0.935971\n",
      "Epoch: 379 \tTraining Loss: 0.554460 \tValidation Loss: 0.964220\n",
      "Epoch: 380 \tTraining Loss: 0.555654 \tValidation Loss: 0.918039\n",
      "Epoch: 381 \tTraining Loss: 0.553281 \tValidation Loss: 0.978823\n",
      "Epoch: 382 \tTraining Loss: 0.552843 \tValidation Loss: 0.949046\n",
      "Epoch: 383 \tTraining Loss: 0.550531 \tValidation Loss: 0.910650\n",
      "Epoch: 384 \tTraining Loss: 0.550607 \tValidation Loss: 0.898277\n",
      "Epoch: 385 \tTraining Loss: 0.552595 \tValidation Loss: 0.977827\n",
      "Epoch: 386 \tTraining Loss: 0.550190 \tValidation Loss: 0.960039\n",
      "Epoch: 387 \tTraining Loss: 0.549794 \tValidation Loss: 0.927622\n",
      "Epoch: 388 \tTraining Loss: 0.547906 \tValidation Loss: 0.941708\n",
      "Epoch: 389 \tTraining Loss: 0.548330 \tValidation Loss: 0.927979\n",
      "Epoch: 390 \tTraining Loss: 0.543594 \tValidation Loss: 0.994508\n",
      "Epoch: 391 \tTraining Loss: 0.546426 \tValidation Loss: 0.952099\n",
      "Epoch: 392 \tTraining Loss: 0.545743 \tValidation Loss: 0.918289\n",
      "Epoch: 393 \tTraining Loss: 0.543224 \tValidation Loss: 0.907137\n",
      "Epoch: 394 \tTraining Loss: 0.545394 \tValidation Loss: 1.092792\n",
      "Epoch: 395 \tTraining Loss: 0.546947 \tValidation Loss: 0.898602\n",
      "Epoch: 396 \tTraining Loss: 0.546507 \tValidation Loss: 0.951304\n",
      "Epoch: 397 \tTraining Loss: 0.541309 \tValidation Loss: 0.987371\n",
      "Epoch: 398 \tTraining Loss: 0.540142 \tValidation Loss: 0.932828\n",
      "Epoch: 399 \tTraining Loss: 0.542221 \tValidation Loss: 0.953993\n",
      "Epoch: 400 \tTraining Loss: 0.539827 \tValidation Loss: 0.912673\n",
      "Epoch: 401 \tTraining Loss: 0.540399 \tValidation Loss: 0.968473\n",
      "Epoch: 402 \tTraining Loss: 0.538023 \tValidation Loss: 1.012040\n",
      "Epoch: 403 \tTraining Loss: 0.536835 \tValidation Loss: 0.966274\n",
      "Epoch: 404 \tTraining Loss: 0.538157 \tValidation Loss: 0.998094\n",
      "Epoch: 405 \tTraining Loss: 0.540462 \tValidation Loss: 0.951941\n",
      "Epoch: 406 \tTraining Loss: 0.537068 \tValidation Loss: 0.933121\n",
      "Epoch: 407 \tTraining Loss: 0.537235 \tValidation Loss: 1.016771\n",
      "Epoch: 408 \tTraining Loss: 0.535274 \tValidation Loss: 0.991845\n",
      "Epoch: 409 \tTraining Loss: 0.532216 \tValidation Loss: 0.919154\n",
      "Epoch: 410 \tTraining Loss: 0.535855 \tValidation Loss: 0.928282\n",
      "Epoch: 411 \tTraining Loss: 0.532065 \tValidation Loss: 0.924672\n",
      "Epoch: 412 \tTraining Loss: 0.532873 \tValidation Loss: 0.959261\n",
      "Epoch: 413 \tTraining Loss: 0.532546 \tValidation Loss: 0.937001\n",
      "Epoch: 414 \tTraining Loss: 0.533465 \tValidation Loss: 0.931956\n",
      "Epoch: 415 \tTraining Loss: 0.530178 \tValidation Loss: 0.949156\n",
      "Epoch: 416 \tTraining Loss: 0.529025 \tValidation Loss: 0.938630\n",
      "Epoch: 417 \tTraining Loss: 0.534647 \tValidation Loss: 0.957578\n",
      "Epoch: 418 \tTraining Loss: 0.527508 \tValidation Loss: 0.925658\n",
      "Epoch: 419 \tTraining Loss: 0.527163 \tValidation Loss: 0.944071\n",
      "Epoch: 420 \tTraining Loss: 0.524227 \tValidation Loss: 1.003847\n",
      "Epoch: 421 \tTraining Loss: 0.527033 \tValidation Loss: 0.923440\n",
      "Epoch: 422 \tTraining Loss: 0.523712 \tValidation Loss: 0.958426\n",
      "Epoch: 423 \tTraining Loss: 0.524432 \tValidation Loss: 0.947043\n",
      "Epoch: 424 \tTraining Loss: 0.525998 \tValidation Loss: 0.925949\n",
      "Epoch: 425 \tTraining Loss: 0.524794 \tValidation Loss: 1.001107\n",
      "Epoch: 426 \tTraining Loss: 0.524896 \tValidation Loss: 1.037133\n",
      "Epoch: 427 \tTraining Loss: 0.522469 \tValidation Loss: 0.980392\n",
      "Epoch: 428 \tTraining Loss: 0.521974 \tValidation Loss: 0.941742\n",
      "Epoch: 429 \tTraining Loss: 0.518623 \tValidation Loss: 0.931682\n",
      "Epoch: 430 \tTraining Loss: 0.520266 \tValidation Loss: 1.003634\n",
      "Epoch: 431 \tTraining Loss: 0.521014 \tValidation Loss: 0.959328\n",
      "Epoch: 432 \tTraining Loss: 0.515121 \tValidation Loss: 0.999366\n",
      "Epoch: 433 \tTraining Loss: 0.520764 \tValidation Loss: 0.995545\n",
      "Epoch: 434 \tTraining Loss: 0.517391 \tValidation Loss: 0.963482\n",
      "Epoch: 435 \tTraining Loss: 0.519882 \tValidation Loss: 0.961992\n",
      "Epoch: 436 \tTraining Loss: 0.520480 \tValidation Loss: 0.989400\n",
      "Epoch: 437 \tTraining Loss: 0.518511 \tValidation Loss: 0.985049\n",
      "Epoch: 438 \tTraining Loss: 0.514068 \tValidation Loss: 0.920027\n",
      "Epoch: 439 \tTraining Loss: 0.514728 \tValidation Loss: 0.985048\n",
      "Epoch: 440 \tTraining Loss: 0.510391 \tValidation Loss: 0.930282\n",
      "Epoch: 441 \tTraining Loss: 0.514211 \tValidation Loss: 0.958441\n",
      "Epoch: 442 \tTraining Loss: 0.512128 \tValidation Loss: 0.954491\n",
      "Epoch: 443 \tTraining Loss: 0.514471 \tValidation Loss: 0.979687\n",
      "Epoch: 444 \tTraining Loss: 0.512980 \tValidation Loss: 0.922834\n",
      "Epoch: 445 \tTraining Loss: 0.510248 \tValidation Loss: 0.947399\n",
      "Epoch: 446 \tTraining Loss: 0.509861 \tValidation Loss: 0.942634\n"
     ]
    },
    {
     "name": "stdout",
     "output_type": "stream",
     "text": [
      "Epoch: 447 \tTraining Loss: 0.510063 \tValidation Loss: 0.936073\n",
      "Epoch: 448 \tTraining Loss: 0.507931 \tValidation Loss: 0.946970\n",
      "Epoch: 449 \tTraining Loss: 0.509358 \tValidation Loss: 0.961207\n",
      "Epoch: 450 \tTraining Loss: 0.510268 \tValidation Loss: 0.958056\n",
      "Epoch: 451 \tTraining Loss: 0.510222 \tValidation Loss: 0.978883\n",
      "Epoch: 452 \tTraining Loss: 0.505928 \tValidation Loss: 0.976006\n",
      "Epoch: 453 \tTraining Loss: 0.508408 \tValidation Loss: 1.011968\n",
      "Epoch: 454 \tTraining Loss: 0.505547 \tValidation Loss: 0.980223\n",
      "Epoch: 455 \tTraining Loss: 0.502750 \tValidation Loss: 0.938200\n",
      "Epoch: 456 \tTraining Loss: 0.504952 \tValidation Loss: 0.952890\n",
      "Epoch: 457 \tTraining Loss: 0.503019 \tValidation Loss: 1.031865\n",
      "Epoch: 458 \tTraining Loss: 0.504778 \tValidation Loss: 0.973251\n",
      "Epoch: 459 \tTraining Loss: 0.500442 \tValidation Loss: 0.982541\n",
      "Epoch: 460 \tTraining Loss: 0.499879 \tValidation Loss: 1.037658\n",
      "Epoch: 461 \tTraining Loss: 0.499559 \tValidation Loss: 0.970357\n",
      "Epoch: 462 \tTraining Loss: 0.498318 \tValidation Loss: 0.984123\n",
      "Epoch: 463 \tTraining Loss: 0.498637 \tValidation Loss: 1.046105\n",
      "Epoch: 464 \tTraining Loss: 0.498889 \tValidation Loss: 0.998304\n",
      "Epoch: 465 \tTraining Loss: 0.498572 \tValidation Loss: 0.985903\n",
      "Epoch: 466 \tTraining Loss: 0.497972 \tValidation Loss: 1.043631\n",
      "Epoch: 467 \tTraining Loss: 0.496345 \tValidation Loss: 1.060371\n",
      "Epoch: 468 \tTraining Loss: 0.494653 \tValidation Loss: 1.019788\n",
      "Epoch: 469 \tTraining Loss: 0.498905 \tValidation Loss: 0.978144\n",
      "Epoch: 470 \tTraining Loss: 0.495000 \tValidation Loss: 0.984632\n",
      "Epoch: 471 \tTraining Loss: 0.494066 \tValidation Loss: 1.016757\n",
      "Epoch: 472 \tTraining Loss: 0.491592 \tValidation Loss: 1.034107\n",
      "Epoch: 473 \tTraining Loss: 0.490866 \tValidation Loss: 0.964879\n",
      "Epoch: 474 \tTraining Loss: 0.493604 \tValidation Loss: 0.964990\n",
      "Epoch: 475 \tTraining Loss: 0.491949 \tValidation Loss: 0.996342\n",
      "Epoch: 476 \tTraining Loss: 0.490342 \tValidation Loss: 0.981374\n",
      "Epoch: 477 \tTraining Loss: 0.489444 \tValidation Loss: 0.952564\n",
      "Epoch: 478 \tTraining Loss: 0.485709 \tValidation Loss: 0.965426\n",
      "Epoch: 479 \tTraining Loss: 0.490917 \tValidation Loss: 0.958802\n",
      "Epoch: 480 \tTraining Loss: 0.490389 \tValidation Loss: 0.993316\n",
      "Epoch: 481 \tTraining Loss: 0.488599 \tValidation Loss: 0.991687\n",
      "Epoch: 482 \tTraining Loss: 0.484680 \tValidation Loss: 0.943986\n",
      "Epoch: 483 \tTraining Loss: 0.483592 \tValidation Loss: 1.007189\n",
      "Epoch: 484 \tTraining Loss: 0.482011 \tValidation Loss: 1.002381\n",
      "Epoch: 485 \tTraining Loss: 0.485187 \tValidation Loss: 1.040515\n",
      "Epoch: 486 \tTraining Loss: 0.485329 \tValidation Loss: 0.990595\n",
      "Epoch: 487 \tTraining Loss: 0.484620 \tValidation Loss: 0.981789\n",
      "Epoch: 488 \tTraining Loss: 0.479233 \tValidation Loss: 1.050753\n",
      "Epoch: 489 \tTraining Loss: 0.479603 \tValidation Loss: 1.065650\n",
      "Epoch: 490 \tTraining Loss: 0.480749 \tValidation Loss: 0.971255\n",
      "Epoch: 491 \tTraining Loss: 0.480415 \tValidation Loss: 0.992559\n",
      "Epoch: 492 \tTraining Loss: 0.479354 \tValidation Loss: 0.995321\n",
      "Epoch: 493 \tTraining Loss: 0.475383 \tValidation Loss: 0.994757\n",
      "Epoch: 494 \tTraining Loss: 0.479331 \tValidation Loss: 0.984603\n",
      "Epoch: 495 \tTraining Loss: 0.478257 \tValidation Loss: 0.984670\n",
      "Epoch: 496 \tTraining Loss: 0.475820 \tValidation Loss: 1.005484\n",
      "Epoch: 497 \tTraining Loss: 0.473373 \tValidation Loss: 1.015594\n",
      "Epoch: 498 \tTraining Loss: 0.474725 \tValidation Loss: 1.066876\n",
      "Epoch: 499 \tTraining Loss: 0.476168 \tValidation Loss: 0.998342\n",
      "Epoch: 500 \tTraining Loss: 0.474533 \tValidation Loss: 1.013831\n"
     ]
    }
   ],
   "source": [
    "# number of epochs to train the model\n",
    "n_epochs = 500\n",
    "\n",
    "# initialize tracker for minimum validation loss\n",
    "valid_loss_min = np.Inf # set initial \"min\" to infinity\n",
    "\n",
    "for epoch in range(n_epochs):\n",
    "    # monitor training loss\n",
    "    train_loss = 0.0\n",
    "    valid_loss = 0.0\n",
    "    \n",
    "    ###################\n",
    "    # train the model #\n",
    "    ###################\n",
    "    lstm_model.train() # prep model for training\n",
    "    for data, target in train_loader:\n",
    "        # clear the gradients of all optimized variables\n",
    "        optimizer.zero_grad()\n",
    "        # forward pass: compute predicted outputs by passing inputs to the model\n",
    "        output = lstm_model(data)\n",
    "        # calculate the loss\n",
    "        loss = criterion(output, target)\n",
    "        # backward pass: compute gradient of the loss with respect to model parameters\n",
    "        loss.backward()\n",
    "        # perform a single optimization step (parameter update)\n",
    "        optimizer.step()\n",
    "        # update running training loss\n",
    "        train_loss += loss.item()*data.size(0)\n",
    "        \n",
    "    lstm_model.eval() # prep model for evaluation\n",
    "    for data, target in test_loader:\n",
    "        # forward pass: compute predicted outputs by passing inputs to the model\n",
    "        output = lstm_model(data)\n",
    "        # calculate the loss\n",
    "        loss = criterion(output, target)\n",
    "        # update running validation loss \n",
    "        valid_loss += loss.item()*data.size(0)\n",
    "        \n",
    "    # print training/validation statistics \n",
    "    # calculate average loss over an epoch\n",
    "    train_loss = train_loss/len(train_loader.dataset)\n",
    "    valid_loss = valid_loss/len(test_loader.dataset)\n",
    "    \n",
    "    print('Epoch: {} \\tTraining Loss: {:.6f} \\tValidation Loss: {:.6f}' \\\n",
    "          .format(epoch+1, train_loss, valid_loss))\n",
    "    \n",
    "    # save model if validation loss has decreased\n",
    "    if valid_loss <= valid_loss_min:\n",
    "        print('Validation loss decreased ({:.6f} --> {:.6f}). \\\n",
    "        Saving model ...'.format(valid_loss_min, valid_loss))\n",
    "        \n",
    "        torch.save(lstm_model.state_dict(), 'lstm_context_1.pt')\n",
    "        valid_loss_min = valid_loss"
   ]
  },
  {
   "cell_type": "code",
   "execution_count": 168,
   "id": "4f67998b",
   "metadata": {},
   "outputs": [
    {
     "name": "stdout",
     "output_type": "stream",
     "text": [
      "Training Classification report: \n",
      "               precision    recall  f1-score   support\n",
      "\n",
      "           0       0.79      0.78      0.78     15158\n",
      "           1       0.30      0.23      0.26       928\n",
      "           2       0.38      0.56      0.45        63\n",
      "           3       0.34      0.81      0.48       231\n",
      "           4       0.15      0.22      0.18       646\n",
      "           5       0.36      0.62      0.46      6285\n",
      "           6       0.00      0.00      0.00         0\n",
      "           7       0.26      0.49      0.34       377\n",
      "           8       0.09      0.46      0.16        70\n",
      "           9       0.00      0.00      0.00         0\n",
      "          10       0.94      0.80      0.87     44262\n",
      "          11       0.17      0.35      0.23       322\n",
      "          12       0.55      0.86      0.67      3003\n",
      "          13       0.00      0.00      0.00         1\n",
      "          14       0.03      0.21      0.06       145\n",
      "          15       0.71      0.79      0.75       928\n",
      "          16       0.45      0.63      0.53       917\n",
      "          17       0.29      0.59      0.39       143\n",
      "          18       0.26      0.54      0.35        37\n",
      "          19       0.65      0.90      0.76      1810\n",
      "          20       0.57      0.83      0.67       594\n",
      "          21       0.34      0.86      0.49        87\n",
      "          22       0.11      0.47      0.18        17\n",
      "          23       0.68      0.84      0.75       971\n",
      "          24       0.25      0.48      0.33       446\n",
      "          25       0.10      0.65      0.18        48\n",
      "          26       0.83      0.80      0.81      1386\n",
      "          27       0.22      0.65      0.33        95\n",
      "          28       0.72      0.75      0.74      2819\n",
      "          29       0.01      0.25      0.02         4\n",
      "          30       0.30      0.39      0.34       442\n",
      "          31       0.21      0.86      0.34       158\n",
      "          32       0.40      0.69      0.50       118\n",
      "          33       0.95      0.59      0.73      3080\n",
      "          34       0.00      0.00      0.00         0\n",
      "          35       0.79      0.81      0.80      4528\n",
      "          36       0.11      0.41      0.17       314\n",
      "          37       0.85      0.83      0.84     75199\n",
      "          38       0.70      0.60      0.65     30011\n",
      "          39       0.05      0.28      0.08        18\n",
      "          40       0.01      1.00      0.02         1\n",
      "\n",
      "    accuracy                           0.76    195662\n",
      "   macro avg       0.36      0.56      0.41    195662\n",
      "weighted avg       0.80      0.76      0.78    195662\n",
      "\n",
      "Testing Classification report: \n",
      "               precision    recall  f1-score   support\n",
      "\n",
      "           0       0.78      0.70      0.74       392\n",
      "           1       0.42      0.25      0.31        32\n",
      "           2       0.00      0.00      0.00         2\n",
      "           3       0.14      0.50      0.22         2\n",
      "           4       0.24      0.24      0.24        17\n",
      "           5       0.46      0.65      0.54       148\n",
      "           6       0.00      0.00      0.00         0\n",
      "           7       0.00      0.00      0.00         4\n",
      "           8       0.00      0.00      0.00         0\n",
      "           9       0.00      0.00      0.00         0\n",
      "          10       0.92      0.80      0.85       884\n",
      "          11       0.19      0.50      0.28         8\n",
      "          12       0.62      0.76      0.68        62\n",
      "          13       0.00      0.00      0.00         0\n",
      "          14       0.04      1.00      0.08         1\n",
      "          15       0.52      0.69      0.59        16\n",
      "          16       0.39      0.69      0.50        16\n",
      "          17       0.33      1.00      0.50         3\n",
      "          18       0.00      0.00      0.00         0\n",
      "          19       0.63      0.88      0.73        58\n",
      "          20       0.47      0.70      0.56        10\n",
      "          21       0.20      0.50      0.29         2\n",
      "          22       0.00      0.00      0.00         1\n",
      "          23       0.61      0.78      0.68        18\n",
      "          24       0.10      0.12      0.11         8\n",
      "          25       0.00      0.00      0.00         0\n",
      "          26       0.81      0.81      0.81        26\n",
      "          27       0.17      1.00      0.29         1\n",
      "          28       0.63      0.81      0.71        57\n",
      "          30       0.25      0.27      0.26        11\n",
      "          31       0.44      1.00      0.61         7\n",
      "          32       0.50      1.00      0.67         1\n",
      "          33       0.87      0.57      0.69        84\n",
      "          34       0.00      0.00      0.00         0\n",
      "          35       0.76      0.74      0.75        87\n",
      "          36       0.19      0.58      0.29        12\n",
      "          37       0.81      0.78      0.80      1374\n",
      "          38       0.69      0.67      0.68       734\n",
      "          39       0.00      0.00      0.00         0\n",
      "\n",
      "    accuracy                           0.74      4078\n",
      "   macro avg       0.34      0.49      0.37      4078\n",
      "weighted avg       0.77      0.74      0.75      4078\n",
      "\n"
     ]
    }
   ],
   "source": [
    "lstm_model = Net()\n",
    "lstm_model.load_state_dict(torch.load(\"lstm_context_1.pt\"))\n",
    "lstm_model.eval()\n",
    "\n",
    "pred_list = torch.zeros(0, dtype=torch.long)\n",
    "target_list = torch.zeros(0, dtype=torch.long)\n",
    "train_count = 0\n",
    "count = 0\n",
    "\n",
    "train_pred_list = torch.zeros(0, dtype=torch.long)\n",
    "train_target_list = torch.zeros(0, dtype=torch.long)\n",
    "\n",
    "for data, target in train_loader:\n",
    "    output = lstm_model(data)\n",
    "    _, preds = torch.max(output, 1)\n",
    "    train_pred_list = torch.cat([train_pred_list, preds.view(-1)])\n",
    "    train_target_list = torch.cat([train_target_list, target.view(-1)])\n",
    "#     for x in range(16):\n",
    "#         if preds[x] == target[x]: \n",
    "#             train_count+=1\n",
    "            \n",
    "# print(\"Training Accuracy =\", train_count / len(train_loader.dataset))\n",
    "train_result = classification_report(train_pred_list.numpy(), \n",
    "                                     train_target_list.numpy())\n",
    "print(\"Training Classification report: \\n\", train_result)\n",
    "            \n",
    "for data, target in test_loader:\n",
    "    output = lstm_model(data)\n",
    "    _, preds = torch.max(output, 1) \n",
    "    pred_list = torch.cat([pred_list, preds.view(-1)])\n",
    "    target_list = torch.cat([target_list, target.view(-1)])\n",
    "#     for x in range(16):\n",
    "#         if preds[x] == target[x]: \n",
    "#             count+=1\n",
    "\n",
    "# print(\"Testing Accuracy =\", count / len(test_loader.dataset))\n",
    "\n",
    "result = classification_report(pred_list.numpy(), target_list.numpy())\n",
    "print(\"Testing Classification report: \\n\", result)"
   ]
  },
  {
   "cell_type": "code",
   "execution_count": null,
   "id": "20f04aa0",
   "metadata": {},
   "outputs": [],
   "source": []
  }
 ],
 "metadata": {
  "kernelspec": {
   "display_name": "Python 3.9 (pytorch)",
   "language": "python",
   "name": "pytorch"
  },
  "language_info": {
   "codemirror_mode": {
    "name": "ipython",
    "version": 3
   },
   "file_extension": ".py",
   "mimetype": "text/x-python",
   "name": "python",
   "nbconvert_exporter": "python",
   "pygments_lexer": "ipython3",
   "version": "3.9.16"
  }
 },
 "nbformat": 4,
 "nbformat_minor": 5
}
